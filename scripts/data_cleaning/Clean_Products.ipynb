{
 "cells": [
  {
   "cell_type": "markdown",
   "id": "03efac02",
   "metadata": {},
   "source": [
    "# Clean products"
   ]
  },
  {
   "cell_type": "markdown",
   "id": "198ee95d",
   "metadata": {},
   "source": [
    "## Initialize Cleaning"
   ]
  },
  {
   "cell_type": "markdown",
   "id": "7138082b-80dd-4607-97a2-8d5d1c70d8fe",
   "metadata": {},
   "source": [
    "### Import Packages and Raw_data"
   ]
  },
  {
   "cell_type": "code",
   "execution_count": 1,
   "id": "819a34c1-9a8e-43cc-b34d-c49938ede945",
   "metadata": {},
   "outputs": [
    {
     "ename": "ModuleNotFoundError",
     "evalue": "No module named 'chime'",
     "output_type": "error",
     "traceback": [
      "\u001b[0;31m---------------------------------------------------------------------------\u001b[0m",
      "\u001b[0;31mModuleNotFoundError\u001b[0m                       Traceback (most recent call last)",
      "\u001b[0;32m/var/folders/kx/b3xc9jhj6qd_wgghcg01wqyr0000gn/T/ipykernel_6732/1007122595.py\u001b[0m in \u001b[0;36m<module>\u001b[0;34m\u001b[0m\n\u001b[1;32m      3\u001b[0m \u001b[0;32mimport\u001b[0m \u001b[0mmatplotlib\u001b[0m\u001b[0;34m.\u001b[0m\u001b[0mpyplot\u001b[0m \u001b[0;32mas\u001b[0m \u001b[0mplt\u001b[0m\u001b[0;34m\u001b[0m\u001b[0;34m\u001b[0m\u001b[0m\n\u001b[1;32m      4\u001b[0m \u001b[0;32mfrom\u001b[0m \u001b[0mpandas_profiling\u001b[0m \u001b[0;32mimport\u001b[0m \u001b[0mProfileReport\u001b[0m\u001b[0;34m\u001b[0m\u001b[0;34m\u001b[0m\u001b[0m\n\u001b[0;32m----> 5\u001b[0;31m \u001b[0;32mimport\u001b[0m \u001b[0mchime\u001b[0m\u001b[0;34m\u001b[0m\u001b[0;34m\u001b[0m\u001b[0m\n\u001b[0m\u001b[1;32m      6\u001b[0m \u001b[0;34m\u001b[0m\u001b[0m\n\u001b[1;32m      7\u001b[0m \u001b[0;31m# Global variables\u001b[0m\u001b[0;34m\u001b[0m\u001b[0;34m\u001b[0m\u001b[0m\n",
      "\u001b[0;31mModuleNotFoundError\u001b[0m: No module named 'chime'"
     ]
    }
   ],
   "source": [
    "import pandas as pd\n",
    "import numpy as np\n",
    "import matplotlib.pyplot as plt\n",
    "from pandas_profiling import ProfileReport\n",
    "import chime\n",
    "\n",
    "# Global variables\n",
    "df_name = \"products\" \n",
    "data_path = '../../data/raw_data/' \n",
    "cl_data_path = '../../data/clean_data/' \n",
    "\n",
    "init_df = pd.read_csv(f\"{data_path}{df_name}.csv\")\n",
    "ol_cleaned = pd.read_csv(f\"{cl_data_path}clean_orderlines.csv\")\n",
    "brands_cleaned = pd.read_csv(f\"{cl_data_path}clean_brands.csv\")\n",
    "\n",
    "ol_cleaned.info()\n"
   ]
  },
  {
   "cell_type": "markdown",
   "id": "988110a7-0c79-4798-96b6-02dcba2dee2d",
   "metadata": {},
   "source": [
    "### Logging"
   ]
  },
  {
   "cell_type": "code",
   "execution_count": 103,
   "id": "6620dfdd-fcd1-423d-b5ae-9aaa69c5703e",
   "metadata": {},
   "outputs": [],
   "source": [
    "from functools import wraps\n",
    "import datetime as dt\n",
    "\n",
    "def log_step(func):\n",
    "    @wraps(func)\n",
    "    def wrapper(*args, **kwargs):\n",
    "        tic = dt.datetime.now()\n",
    "        result = func(*args, **kwargs)\n",
    "        time_taken = str(dt.datetime.now() - tic)\n",
    "        print(f\"{func.__name__}:\\n shape={result.shape} took {time_taken}s\\n\")\n",
    "        return result\n",
    "\n",
    "    return wrapper"
   ]
  },
  {
   "cell_type": "markdown",
   "id": "94d42427-88df-45f3-bba6-9abf1d93f9ed",
   "metadata": {},
   "source": [
    "## Pipeline - Functions"
   ]
  },
  {
   "cell_type": "markdown",
   "id": "66726894-88a8-4102-9977-a77a43c6d592",
   "metadata": {},
   "source": [
    "### Start Pipeline"
   ]
  },
  {
   "cell_type": "code",
   "execution_count": 104,
   "id": "aab6744b-d4cd-40a8-b71c-6e38fd5e272c",
   "metadata": {},
   "outputs": [],
   "source": [
    "@log_step\n",
    "def start_pipeline(df):\n",
    "    return df.copy()"
   ]
  },
  {
   "cell_type": "markdown",
   "id": "4f7a25ba-a89a-494e-9809-2311b5a8233a",
   "metadata": {},
   "source": [
    "### Rename Columns"
   ]
  },
  {
   "cell_type": "code",
   "execution_count": 105,
   "id": "7e3c8448",
   "metadata": {},
   "outputs": [
    {
     "name": "stdout",
     "output_type": "stream",
     "text": [
      "<class 'pandas.core.frame.DataFrame'>\n",
      "RangeIndex: 19326 entries, 0 to 19325\n",
      "Data columns (total 7 columns):\n",
      " #   Column       Non-Null Count  Dtype \n",
      "---  ------       --------------  ----- \n",
      " 0   sku          19326 non-null  object\n",
      " 1   name         19326 non-null  object\n",
      " 2   desc         19319 non-null  object\n",
      " 3   price        19280 non-null  object\n",
      " 4   promo_price  19326 non-null  object\n",
      " 5   in_stock     19326 non-null  int64 \n",
      " 6   type         19276 non-null  object\n",
      "dtypes: int64(1), object(6)\n",
      "memory usage: 1.0+ MB\n"
     ]
    }
   ],
   "source": [
    "init_df.info()"
   ]
  },
  {
   "cell_type": "code",
   "execution_count": 106,
   "id": "fc2b2767-782e-4699-8e91-72f150543877",
   "metadata": {},
   "outputs": [],
   "source": [
    "def rename_columns(df):\n",
    "    return (df\n",
    "        .rename(columns={\n",
    "            \"name\": \"product_name\",\n",
    "            \"desc\":  \"product_description\",      \n",
    "            \"price\":\"product_price_dirty\",        \n",
    "            \"in_stock\":\"product_in_stock\"\n",
    "            }\n",
    "        )\n",
    "    )"
   ]
  },
  {
   "cell_type": "markdown",
   "id": "d54d0e78-301b-4247-951e-e9dae07e59ba",
   "metadata": {},
   "source": [
    "### Remove duplicates"
   ]
  },
  {
   "cell_type": "code",
   "execution_count": 107,
   "id": "8453c0be-e46e-4dde-b8c4-449bb1c8738a",
   "metadata": {},
   "outputs": [],
   "source": [
    "@log_step\n",
    "def remove_duplicates(df):\n",
    "    return (\n",
    "            df\n",
    "            .drop_duplicates()       # removed dupliceted rows\n",
    "            .drop_duplicates(\"sku\")  # one duplictaed sku. 2. Appearence has no price --> dropped!\n",
    "    )"
   ]
  },
  {
   "cell_type": "markdown",
   "id": "f647c2a2",
   "metadata": {},
   "source": [
    "### Adjust price"
   ]
  },
  {
   "cell_type": "code",
   "execution_count": 108,
   "id": "8aaa4a3e",
   "metadata": {},
   "outputs": [],
   "source": [
    "@log_step\n",
    "def adjust_price(df):\n",
    "    df[\"product_price_dirty\"] =( \n",
    "    df[\"product_price_dirty\"]\n",
    "            # make sure everythin is a string\n",
    "            .astype(\"string\")\n",
    "            # mark every price with three decimals as dirty\n",
    "            .str.replace(\".*\\.\\d{3}$\", \"dirty\", regex = True)\n",
    "            # mark every price that is 0 as dirty\n",
    "            .str.replace(\"^0*\\.?(0*)?$\", \"dirty\", regex = True) \n",
    "    )\n",
    "\n",
    "    # get maximum price from orderlines\n",
    "    max_ol_df = (\n",
    "        ol_cleaned[[\"sku\",\"ol_unit_price\"]]\n",
    "            .groupby(\"sku\")\n",
    "            .max()\n",
    "            .reset_index()\n",
    "    )\n",
    "    # merge with max_ol_df \n",
    "    df = (\n",
    "    df\n",
    "        .merge(max_ol_df, how=\"left\", on=\"sku\")\n",
    "        .rename(columns={\"ol_unit_price\":\"max_price_ol\"})\n",
    "    )\n",
    "    # replace dirty prices with the max_price_ol\n",
    "    df['product_price'] = df.apply(lambda x: x[\"max_price_ol\"] if (x[\"product_price_dirty\"] == \"dirty\" ) else x[\"product_price_dirty\"],axis=1)\n",
    "    df['product_price'] = pd.to_numeric(df['product_price'])\n",
    "\n",
    "    #  Use max_price_ol if > product_price use \n",
    "    df = df.assign(max_price_gretaer_product_price = lambda x: x['product_price'] < x['max_price_ol'])\n",
    "    df['product_price'] = df.apply(lambda x: x[\"max_price_ol\"] if (x[\"max_price_gretaer_product_price\"]) else x[\"product_price\"],axis=1)\n",
    "\n",
    "\n",
    "\n",
    "    \n",
    "    return df\n",
    "    \n",
    "    "
   ]
  },
  {
   "cell_type": "markdown",
   "id": "cfb609d4",
   "metadata": {},
   "source": [
    "### Missing Values"
   ]
  },
  {
   "cell_type": "code",
   "execution_count": 109,
   "id": "3f833e4d",
   "metadata": {},
   "outputs": [],
   "source": [
    "@log_step\n",
    "def missing_values(df):\n",
    "    #df = df[\"product_price_dirty\"].fillna(\"dirty\")\n",
    "    df.product_price_dirty = df.product_price_dirty.fillna(\"dirty\")\n",
    "    return df\n",
    "    # return df.fillna({\"product_price_dirty\":\"dirty\"})"
   ]
  },
  {
   "cell_type": "markdown",
   "id": "c7019c19",
   "metadata": {},
   "source": [
    "### Adjust data types"
   ]
  },
  {
   "cell_type": "code",
   "execution_count": 110,
   "id": "b9cef212",
   "metadata": {},
   "outputs": [],
   "source": [
    "@log_step\n",
    "def adjust_data_types(df):\n",
    "   df[\"sku\"] = df[\"sku\"].astype(\"string\")\n",
    "   df[\"product_name\"] = df[\"product_name\"].astype(\"string\")\n",
    "   df[\"product_description\"] = df[\"product_description\"].astype(\"string\")\n",
    "   df[\"product_brand\"] = df[\"product_brand\"].astype(\"category\")\n",
    "   return df"
   ]
  },
  {
   "cell_type": "markdown",
   "id": "e2474140",
   "metadata": {},
   "source": [
    "### Drop Columns"
   ]
  },
  {
   "cell_type": "code",
   "execution_count": 111,
   "id": "71232642",
   "metadata": {},
   "outputs": [],
   "source": [
    "@log_step\n",
    "def drop_columns(df, cols):\n",
    "    \n",
    "    return df.drop(columns=cols)\n"
   ]
  },
  {
   "cell_type": "markdown",
   "id": "9d951e94",
   "metadata": {},
   "source": [
    "### Add columns"
   ]
  },
  {
   "cell_type": "code",
   "execution_count": 112,
   "id": "db4db0c3",
   "metadata": {},
   "outputs": [],
   "source": [
    "@log_step\n",
    "def add_columns(df):\n",
    "    # extract brand_short from sku\n",
    "    df = df.assign(brand_short = df[\"sku\"].str.extract(\"(^\\w{3})\"))\n",
    "    \n",
    "    # merge brands on \"brands_short\"\n",
    "\n",
    "    df = df.merge(brands_cleaned, how=\"left\", on=\"brand_short\")\n",
    "    df = df.rename(columns={\"brand_long\":\"product_brand\"})\n",
    "    return df"
   ]
  },
  {
   "cell_type": "markdown",
   "id": "163e5fd5",
   "metadata": {},
   "source": [
    "### CSV"
   ]
  },
  {
   "cell_type": "code",
   "execution_count": 113,
   "id": "120b5445",
   "metadata": {},
   "outputs": [],
   "source": [
    "@log_step\n",
    "def create_csv(df):\n",
    "    df.to_csv(f\"../../data/clean_data/clean_{df_name}.csv\", index = False)\n",
    "    return df"
   ]
  },
  {
   "cell_type": "markdown",
   "id": "44cf493a",
   "metadata": {},
   "source": [
    "### Report"
   ]
  },
  {
   "cell_type": "code",
   "execution_count": 114,
   "id": "26d5a72e",
   "metadata": {},
   "outputs": [],
   "source": [
    "@log_step\n",
    "def create_report(df):\n",
    "    ProfileReport(df, title=f\"{df_name.title()} - Report\", dark_mode=True, minimal = True).to_file(f\"../../data/profile_reports/{df_name}_report.html\")\n",
    "    return df"
   ]
  },
  {
   "cell_type": "markdown",
   "id": "75b48789-4011-43c0-b453-ccd8003b2bfb",
   "metadata": {},
   "source": [
    "## Run Cleaning"
   ]
  },
  {
   "cell_type": "code",
   "execution_count": 115,
   "id": "17228ead-fc86-4dc6-8707-500ea870ef17",
   "metadata": {},
   "outputs": [
    {
     "name": "stdout",
     "output_type": "stream",
     "text": [
      "start_pipeline:\n",
      " shape=(19326, 7) took 0:00:00.001691s\n",
      "\n",
      "missing_values:\n",
      " shape=(19326, 7) took 0:00:00.002643s\n",
      "\n",
      "remove_duplicates:\n",
      " shape=(10579, 7) took 0:00:00.026822s\n",
      "\n",
      "adjust_price:\n",
      " shape=(10579, 10) took 0:00:00.406756s\n",
      "\n",
      "add_columns:\n",
      " shape=(10579, 12) took 0:00:00.032482s\n",
      "\n",
      "drop_columns:\n",
      " shape=(10579, 8) took 0:00:00.001220s\n",
      "\n",
      "adjust_data_types:\n",
      " shape=(10579, 8) took 0:00:00.006089s\n",
      "\n",
      "create_csv:\n",
      " shape=(10579, 8) took 0:00:00.079239s\n",
      "\n"
     ]
    },
    {
     "name": "stderr",
     "output_type": "stream",
     "text": [
      "Summarize dataset: 100%|██████████| 14/14 [00:00<00:00, 69.07it/s, Completed]                               \n",
      "Generate report structure: 100%|██████████| 1/1 [00:01<00:00,  1.14s/it]\n",
      "Render HTML: 100%|██████████| 1/1 [00:00<00:00,  5.32it/s]\n",
      "Export report to file: 100%|██████████| 1/1 [00:00<00:00, 817.60it/s]\n"
     ]
    },
    {
     "name": "stdout",
     "output_type": "stream",
     "text": [
      "create_report:\n",
      " shape=(10579, 8) took 0:00:01.573545s\n",
      "\n"
     ]
    }
   ],
   "source": [
    "products = (\n",
    "init_df\n",
    "    .pipe(start_pipeline)       # copy df\n",
    "    .pipe(rename_columns)       # naming conventions\n",
    "    .pipe(missing_values)       # price --> replaced with: \"dirty\"\n",
    "    .pipe(remove_duplicates)    # duplicated rows + duplicated sku, removed first one, without a price\n",
    "    .pipe(adjust_price)       \n",
    "      # make sure eveything is a string\n",
    "      # mark every price with three decimals as dirty\n",
    "      # mark every price that is 0 as dirty\n",
    "      # get maximum price from orderlines\n",
    "      # merge with max_ol_df \n",
    "      # replace dirty prices with the max_price_ol\n",
    "      # Use max_price-ol if > product_price use \n",
    "    df = df.assign(max_price_gretaer_product_price = lambda x: x['product_price'] < x['max_price_ol'])\n",
    "    df['product_price'] = df.apply(lambda x: x[\"max_price_ol\"] if (x[\"max_price_gretaer_product_price\"]) else x[\"product_price\"],axis=1)\n",
    "    .pipe(add_columns)          # extract brand short from sku --> merge brand_long from brands\n",
    "    .pipe(drop_columns, cols=[\"promo_price\", \"type\",\"brand_short\", \"product_price_dirty\"])\n",
    "    .pipe(adjust_data_types)    # product_id -> STRING, order_id --> STRING, product_date --> DATETIME\n",
    "    .pipe(create_csv)           # save clean data as .csv \n",
    "    .pipe(create_report)        # save report as .html \n",
    "\n",
    ")\n"
   ]
  },
  {
   "cell_type": "markdown",
   "id": "e3b8ea51",
   "metadata": {},
   "source": [
    "## Profile Report"
   ]
  },
  {
   "cell_type": "markdown",
   "id": "459d54d6",
   "metadata": {},
   "source": [
    "### Types"
   ]
  },
  {
   "cell_type": "markdown",
   "id": "e36fd800",
   "metadata": {},
   "source": [
    "#### Before"
   ]
  },
  {
   "cell_type": "code",
   "execution_count": 116,
   "id": "9b19fb48",
   "metadata": {},
   "outputs": [
    {
     "data": {
      "text/plain": [
       "sku            object\n",
       "name           object\n",
       "desc           object\n",
       "price          object\n",
       "promo_price    object\n",
       "in_stock        int64\n",
       "type           object\n",
       "dtype: object"
      ]
     },
     "execution_count": 116,
     "metadata": {},
     "output_type": "execute_result"
    }
   ],
   "source": [
    "init_df.dtypes"
   ]
  },
  {
   "cell_type": "markdown",
   "id": "02e329b3",
   "metadata": {},
   "source": [
    "#### After"
   ]
  },
  {
   "cell_type": "code",
   "execution_count": 117,
   "id": "b8776352",
   "metadata": {},
   "outputs": [
    {
     "data": {
      "text/plain": [
       "sku                                  string\n",
       "product_name                         string\n",
       "product_description                  string\n",
       "product_in_stock                      int64\n",
       "max_price_ol                        float64\n",
       "product_price                       float64\n",
       "max_price_gretaer_product_price        bool\n",
       "product_brand                      category\n",
       "dtype: object"
      ]
     },
     "execution_count": 117,
     "metadata": {},
     "output_type": "execute_result"
    }
   ],
   "source": [
    "products.dtypes"
   ]
  },
  {
   "cell_type": "markdown",
   "id": "d395ee04",
   "metadata": {},
   "source": [
    "### Samples"
   ]
  },
  {
   "cell_type": "markdown",
   "id": "dab044d6",
   "metadata": {},
   "source": [
    "#### Before"
   ]
  },
  {
   "cell_type": "code",
   "execution_count": 118,
   "id": "31895137",
   "metadata": {},
   "outputs": [
    {
     "data": {
      "text/html": [
       "<div>\n",
       "<style scoped>\n",
       "    .dataframe tbody tr th:only-of-type {\n",
       "        vertical-align: middle;\n",
       "    }\n",
       "\n",
       "    .dataframe tbody tr th {\n",
       "        vertical-align: top;\n",
       "    }\n",
       "\n",
       "    .dataframe thead th {\n",
       "        text-align: right;\n",
       "    }\n",
       "</style>\n",
       "<table border=\"1\" class=\"dataframe\">\n",
       "  <thead>\n",
       "    <tr style=\"text-align: right;\">\n",
       "      <th></th>\n",
       "      <th>sku</th>\n",
       "      <th>name</th>\n",
       "      <th>desc</th>\n",
       "      <th>price</th>\n",
       "      <th>promo_price</th>\n",
       "      <th>in_stock</th>\n",
       "      <th>type</th>\n",
       "    </tr>\n",
       "  </thead>\n",
       "  <tbody>\n",
       "    <tr>\n",
       "      <th>15000</th>\n",
       "      <td>MOP0101</td>\n",
       "      <td>Mophie Juice Pack Reserve Battery Case 1840 mA...</td>\n",
       "      <td>Case 1840 mAh battery and LED indicator for iP...</td>\n",
       "      <td>69.95</td>\n",
       "      <td>599.918</td>\n",
       "      <td>0</td>\n",
       "      <td>11865403</td>\n",
       "    </tr>\n",
       "    <tr>\n",
       "      <th>6437</th>\n",
       "      <td>PAC1069</td>\n",
       "      <td>Apple iMac 27 \"Core i7 Retina 5K 4Hz | 16GB | ...</td>\n",
       "      <td>IMac desktop computer 27 inch 5K Retina i5 3.3...</td>\n",
       "      <td>4189</td>\n",
       "      <td>38.449.904</td>\n",
       "      <td>0</td>\n",
       "      <td>5,74E+15</td>\n",
       "    </tr>\n",
       "    <tr>\n",
       "      <th>13349</th>\n",
       "      <td>APP1653</td>\n",
       "      <td>Apple iPhone 7 256GB Black</td>\n",
       "      <td>New Apple iPhone 7 Free Black 256GB</td>\n",
       "      <td>990.33</td>\n",
       "      <td>9.903.306</td>\n",
       "      <td>0</td>\n",
       "      <td>85641716</td>\n",
       "    </tr>\n",
       "    <tr>\n",
       "      <th>7271</th>\n",
       "      <td>PAC1616</td>\n",
       "      <td>Apple iMac 27 \"Core i7 Retina 5K 4GHz | 8GB RA...</td>\n",
       "      <td>IMac desktop computer 27 inch Retina 5K 4GHz C...</td>\n",
       "      <td>4369</td>\n",
       "      <td>34.999.903</td>\n",
       "      <td>0</td>\n",
       "      <td>5,74E+15</td>\n",
       "    </tr>\n",
       "    <tr>\n",
       "      <th>19290</th>\n",
       "      <td>AP20474</td>\n",
       "      <td>Like new - Apple Watch GPS 38mm Case Series 3 ...</td>\n",
       "      <td>Reconditioned Apple Watch 38mm series 3 with G...</td>\n",
       "      <td>369</td>\n",
       "      <td>3.189.996</td>\n",
       "      <td>0</td>\n",
       "      <td>24885185</td>\n",
       "    </tr>\n",
       "    <tr>\n",
       "      <th>2392</th>\n",
       "      <td>IFX0015</td>\n",
       "      <td>iFixit disassembly tool iSclack iPhone 5 5S 5C...</td>\n",
       "      <td>Tweezers with suction to remove iPhone 5 / 5S ...</td>\n",
       "      <td>29.99</td>\n",
       "      <td>299.899</td>\n",
       "      <td>1</td>\n",
       "      <td>12645406</td>\n",
       "    </tr>\n",
       "    <tr>\n",
       "      <th>15788</th>\n",
       "      <td>PLA0029</td>\n",
       "      <td>Plantronics BackBeat Fit Wireless Headphones Blue</td>\n",
       "      <td>secure wireless headset sport waterproof desig...</td>\n",
       "      <td>129.99</td>\n",
       "      <td>99.99</td>\n",
       "      <td>0</td>\n",
       "      <td>5384</td>\n",
       "    </tr>\n",
       "    <tr>\n",
       "      <th>17044</th>\n",
       "      <td>AP20197</td>\n",
       "      <td>Like new - Apple Dock to USB Cable iPhone iPad...</td>\n",
       "      <td>Cable iPhone iPad and iPod dock USB refitted.</td>\n",
       "      <td>25</td>\n",
       "      <td>119.899</td>\n",
       "      <td>0</td>\n",
       "      <td>1230</td>\n",
       "    </tr>\n",
       "    <tr>\n",
       "      <th>9871</th>\n",
       "      <td>PAC0974</td>\n",
       "      <td>Apple iMac 27 \"Core i5 3.2GHz Retina 5K | 32GB...</td>\n",
       "      <td>IMac desktop computer 27 inch 5K Retina i5 3.2...</td>\n",
       "      <td>3169</td>\n",
       "      <td>26.309.901</td>\n",
       "      <td>0</td>\n",
       "      <td>5,74E+15</td>\n",
       "    </tr>\n",
       "    <tr>\n",
       "      <th>15673</th>\n",
       "      <td>BEZ0191-A</td>\n",
       "      <td>Open - Be.ez LArobe ONE Macbook 12 \"Red</td>\n",
       "      <td>Macbook thin sheath 12 inches.</td>\n",
       "      <td>29.9</td>\n",
       "      <td>198.695</td>\n",
       "      <td>0</td>\n",
       "      <td>1298</td>\n",
       "    </tr>\n",
       "  </tbody>\n",
       "</table>\n",
       "</div>"
      ],
      "text/plain": [
       "             sku                                               name  \\\n",
       "15000    MOP0101  Mophie Juice Pack Reserve Battery Case 1840 mA...   \n",
       "6437     PAC1069  Apple iMac 27 \"Core i7 Retina 5K 4Hz | 16GB | ...   \n",
       "13349    APP1653                         Apple iPhone 7 256GB Black   \n",
       "7271     PAC1616  Apple iMac 27 \"Core i7 Retina 5K 4GHz | 8GB RA...   \n",
       "19290    AP20474  Like new - Apple Watch GPS 38mm Case Series 3 ...   \n",
       "2392     IFX0015  iFixit disassembly tool iSclack iPhone 5 5S 5C...   \n",
       "15788    PLA0029  Plantronics BackBeat Fit Wireless Headphones Blue   \n",
       "17044    AP20197  Like new - Apple Dock to USB Cable iPhone iPad...   \n",
       "9871     PAC0974  Apple iMac 27 \"Core i5 3.2GHz Retina 5K | 32GB...   \n",
       "15673  BEZ0191-A            Open - Be.ez LArobe ONE Macbook 12 \"Red   \n",
       "\n",
       "                                                    desc   price promo_price  \\\n",
       "15000  Case 1840 mAh battery and LED indicator for iP...   69.95     599.918   \n",
       "6437   IMac desktop computer 27 inch 5K Retina i5 3.3...    4189  38.449.904   \n",
       "13349                New Apple iPhone 7 Free Black 256GB  990.33   9.903.306   \n",
       "7271   IMac desktop computer 27 inch Retina 5K 4GHz C...    4369  34.999.903   \n",
       "19290  Reconditioned Apple Watch 38mm series 3 with G...     369   3.189.996   \n",
       "2392   Tweezers with suction to remove iPhone 5 / 5S ...   29.99     299.899   \n",
       "15788  secure wireless headset sport waterproof desig...  129.99       99.99   \n",
       "17044      Cable iPhone iPad and iPod dock USB refitted.      25     119.899   \n",
       "9871   IMac desktop computer 27 inch 5K Retina i5 3.2...    3169  26.309.901   \n",
       "15673                     Macbook thin sheath 12 inches.    29.9     198.695   \n",
       "\n",
       "       in_stock      type  \n",
       "15000         0  11865403  \n",
       "6437          0  5,74E+15  \n",
       "13349         0  85641716  \n",
       "7271          0  5,74E+15  \n",
       "19290         0  24885185  \n",
       "2392          1  12645406  \n",
       "15788         0      5384  \n",
       "17044         0      1230  \n",
       "9871          0  5,74E+15  \n",
       "15673         0      1298  "
      ]
     },
     "execution_count": 118,
     "metadata": {},
     "output_type": "execute_result"
    }
   ],
   "source": [
    "init_df.sample(10)"
   ]
  },
  {
   "cell_type": "markdown",
   "id": "51a35b25",
   "metadata": {},
   "source": [
    "#### After"
   ]
  },
  {
   "cell_type": "code",
   "execution_count": 119,
   "id": "14db11fe",
   "metadata": {},
   "outputs": [
    {
     "data": {
      "text/html": [
       "<div>\n",
       "<style scoped>\n",
       "    .dataframe tbody tr th:only-of-type {\n",
       "        vertical-align: middle;\n",
       "    }\n",
       "\n",
       "    .dataframe tbody tr th {\n",
       "        vertical-align: top;\n",
       "    }\n",
       "\n",
       "    .dataframe thead th {\n",
       "        text-align: right;\n",
       "    }\n",
       "</style>\n",
       "<table border=\"1\" class=\"dataframe\">\n",
       "  <thead>\n",
       "    <tr style=\"text-align: right;\">\n",
       "      <th></th>\n",
       "      <th>index</th>\n",
       "      <th>sku</th>\n",
       "      <th>product_name</th>\n",
       "      <th>product_description</th>\n",
       "      <th>product_in_stock</th>\n",
       "      <th>max_price_ol</th>\n",
       "      <th>product_price</th>\n",
       "      <th>max_price_gretaer_product_price</th>\n",
       "      <th>product_brand</th>\n",
       "    </tr>\n",
       "  </thead>\n",
       "  <tbody>\n",
       "    <tr>\n",
       "      <th>0</th>\n",
       "      <td>4170</td>\n",
       "      <td>WDT0274-A</td>\n",
       "      <td>Open - Western Digital My Passport Ultra 2TB h...</td>\n",
       "      <td>WD External Hard Drive 2TB Mac and PC USB 3.0.</td>\n",
       "      <td>0</td>\n",
       "      <td>91.53</td>\n",
       "      <td>124.90</td>\n",
       "      <td>False</td>\n",
       "      <td>Western Digital</td>\n",
       "    </tr>\n",
       "    <tr>\n",
       "      <th>1</th>\n",
       "      <td>1555</td>\n",
       "      <td>CRU0038</td>\n",
       "      <td>Crucial MX200 500GB SSD 7mm</td>\n",
       "      <td>25-inch 7mm SSD 500GB for Mac and PC.</td>\n",
       "      <td>0</td>\n",
       "      <td>NaN</td>\n",
       "      <td>197.99</td>\n",
       "      <td>False</td>\n",
       "      <td>Crucial</td>\n",
       "    </tr>\n",
       "    <tr>\n",
       "      <th>2</th>\n",
       "      <td>6281</td>\n",
       "      <td>SAT0049</td>\n",
       "      <td>Satechi Support Aluminum Gray Space Headphones</td>\n",
       "      <td>Support Headphones with aluminum finish and st...</td>\n",
       "      <td>1</td>\n",
       "      <td>29.99</td>\n",
       "      <td>39.99</td>\n",
       "      <td>False</td>\n",
       "      <td>Satechi</td>\n",
       "    </tr>\n",
       "    <tr>\n",
       "      <th>3</th>\n",
       "      <td>5249</td>\n",
       "      <td>TPL0036</td>\n",
       "      <td>TP-Link TL-PA4010P Kit Powerline AV500 Passthr...</td>\n",
       "      <td>amplifiers internet kit with transfer speeds u...</td>\n",
       "      <td>1</td>\n",
       "      <td>46.99</td>\n",
       "      <td>46.99</td>\n",
       "      <td>False</td>\n",
       "      <td>TP-Link</td>\n",
       "    </tr>\n",
       "    <tr>\n",
       "      <th>4</th>\n",
       "      <td>3658</td>\n",
       "      <td>APP1470</td>\n",
       "      <td>Apple Dock Base magnetic charging for Apple Watch</td>\n",
       "      <td>Magnetic base load minimalist design for Apple...</td>\n",
       "      <td>0</td>\n",
       "      <td>89.00</td>\n",
       "      <td>89.00</td>\n",
       "      <td>False</td>\n",
       "      <td>Apple</td>\n",
       "    </tr>\n",
       "    <tr>\n",
       "      <th>5</th>\n",
       "      <td>5689</td>\n",
       "      <td>APP1731</td>\n",
       "      <td>Apple Watch Series 2 42mm Stainless Steel Case...</td>\n",
       "      <td>Apple Watch 42 mm dual core processor with GPS...</td>\n",
       "      <td>0</td>\n",
       "      <td>NaN</td>\n",
       "      <td>819.00</td>\n",
       "      <td>False</td>\n",
       "      <td>Apple</td>\n",
       "    </tr>\n",
       "    <tr>\n",
       "      <th>6</th>\n",
       "      <td>4430</td>\n",
       "      <td>APP1577</td>\n",
       "      <td>Apple MacBook Retina 12 \"Core m5 12GHz | 8GB R...</td>\n",
       "      <td>New MacBook Retina Display 12-inch Core 8GB RA...</td>\n",
       "      <td>0</td>\n",
       "      <td>1679.99</td>\n",
       "      <td>1799.00</td>\n",
       "      <td>False</td>\n",
       "      <td>Apple</td>\n",
       "    </tr>\n",
       "    <tr>\n",
       "      <th>7</th>\n",
       "      <td>4764</td>\n",
       "      <td>TRK0009</td>\n",
       "      <td>Bravo Trackr Locator Plata</td>\n",
       "      <td>Bluetooth locator objects APP for iPhone</td>\n",
       "      <td>0</td>\n",
       "      <td>29.99</td>\n",
       "      <td>29.99</td>\n",
       "      <td>False</td>\n",
       "      <td>TrackR</td>\n",
       "    </tr>\n",
       "    <tr>\n",
       "      <th>8</th>\n",
       "      <td>10540</td>\n",
       "      <td>REP0410</td>\n",
       "      <td>repair rear camera plus iPhone 6s</td>\n",
       "      <td>Repair service including parts and labor for i...</td>\n",
       "      <td>0</td>\n",
       "      <td>NaN</td>\n",
       "      <td>NaN</td>\n",
       "      <td>False</td>\n",
       "      <td>Repair</td>\n",
       "    </tr>\n",
       "    <tr>\n",
       "      <th>9</th>\n",
       "      <td>7819</td>\n",
       "      <td>LAC0233</td>\n",
       "      <td>LaCie Porsche Design Desktop Drive 6TB USB 3.0...</td>\n",
       "      <td>External Hard Drive 6TB 35-inch USB 3.0 connec...</td>\n",
       "      <td>0</td>\n",
       "      <td>192.79</td>\n",
       "      <td>199.99</td>\n",
       "      <td>False</td>\n",
       "      <td>LaCie</td>\n",
       "    </tr>\n",
       "  </tbody>\n",
       "</table>\n",
       "</div>"
      ],
      "text/plain": [
       "   index        sku                                       product_name  \\\n",
       "0   4170  WDT0274-A  Open - Western Digital My Passport Ultra 2TB h...   \n",
       "1   1555    CRU0038                        Crucial MX200 500GB SSD 7mm   \n",
       "2   6281    SAT0049     Satechi Support Aluminum Gray Space Headphones   \n",
       "3   5249    TPL0036  TP-Link TL-PA4010P Kit Powerline AV500 Passthr...   \n",
       "4   3658    APP1470  Apple Dock Base magnetic charging for Apple Watch   \n",
       "5   5689    APP1731  Apple Watch Series 2 42mm Stainless Steel Case...   \n",
       "6   4430    APP1577  Apple MacBook Retina 12 \"Core m5 12GHz | 8GB R...   \n",
       "7   4764    TRK0009                         Bravo Trackr Locator Plata   \n",
       "8  10540    REP0410                  repair rear camera plus iPhone 6s   \n",
       "9   7819    LAC0233  LaCie Porsche Design Desktop Drive 6TB USB 3.0...   \n",
       "\n",
       "                                 product_description  product_in_stock  \\\n",
       "0     WD External Hard Drive 2TB Mac and PC USB 3.0.                 0   \n",
       "1              25-inch 7mm SSD 500GB for Mac and PC.                 0   \n",
       "2  Support Headphones with aluminum finish and st...                 1   \n",
       "3  amplifiers internet kit with transfer speeds u...                 1   \n",
       "4  Magnetic base load minimalist design for Apple...                 0   \n",
       "5  Apple Watch 42 mm dual core processor with GPS...                 0   \n",
       "6  New MacBook Retina Display 12-inch Core 8GB RA...                 0   \n",
       "7           Bluetooth locator objects APP for iPhone                 0   \n",
       "8  Repair service including parts and labor for i...                 0   \n",
       "9  External Hard Drive 6TB 35-inch USB 3.0 connec...                 0   \n",
       "\n",
       "   max_price_ol  product_price  max_price_gretaer_product_price  \\\n",
       "0         91.53         124.90                            False   \n",
       "1           NaN         197.99                            False   \n",
       "2         29.99          39.99                            False   \n",
       "3         46.99          46.99                            False   \n",
       "4         89.00          89.00                            False   \n",
       "5           NaN         819.00                            False   \n",
       "6       1679.99        1799.00                            False   \n",
       "7         29.99          29.99                            False   \n",
       "8           NaN            NaN                            False   \n",
       "9        192.79         199.99                            False   \n",
       "\n",
       "     product_brand  \n",
       "0  Western Digital  \n",
       "1          Crucial  \n",
       "2          Satechi  \n",
       "3          TP-Link  \n",
       "4            Apple  \n",
       "5            Apple  \n",
       "6            Apple  \n",
       "7           TrackR  \n",
       "8           Repair  \n",
       "9            LaCie  "
      ]
     },
     "execution_count": 119,
     "metadata": {},
     "output_type": "execute_result"
    }
   ],
   "source": [
    "\n",
    "    products.sample(10).reset_index()\n",
    "    "
   ]
  },
  {
   "cell_type": "markdown",
   "id": "638e79b6",
   "metadata": {},
   "source": [
    "### Info - Types Range, Non Null Count, Dtype"
   ]
  },
  {
   "cell_type": "markdown",
   "id": "ccfa29aa",
   "metadata": {},
   "source": [
    "#### Before"
   ]
  },
  {
   "cell_type": "code",
   "execution_count": 120,
   "id": "a40edac8",
   "metadata": {},
   "outputs": [
    {
     "name": "stdout",
     "output_type": "stream",
     "text": [
      "<class 'pandas.core.frame.DataFrame'>\n",
      "RangeIndex: 19326 entries, 0 to 19325\n",
      "Data columns (total 7 columns):\n",
      " #   Column       Non-Null Count  Dtype \n",
      "---  ------       --------------  ----- \n",
      " 0   sku          19326 non-null  object\n",
      " 1   name         19326 non-null  object\n",
      " 2   desc         19319 non-null  object\n",
      " 3   price        19280 non-null  object\n",
      " 4   promo_price  19326 non-null  object\n",
      " 5   in_stock     19326 non-null  int64 \n",
      " 6   type         19276 non-null  object\n",
      "dtypes: int64(1), object(6)\n",
      "memory usage: 1.0+ MB\n"
     ]
    }
   ],
   "source": [
    "init_df.info()"
   ]
  },
  {
   "cell_type": "markdown",
   "id": "60664a60",
   "metadata": {},
   "source": [
    "#### After"
   ]
  },
  {
   "cell_type": "code",
   "execution_count": 121,
   "id": "cf03966c",
   "metadata": {},
   "outputs": [
    {
     "name": "stdout",
     "output_type": "stream",
     "text": [
      "<class 'pandas.core.frame.DataFrame'>\n",
      "Int64Index: 10579 entries, 0 to 10578\n",
      "Data columns (total 8 columns):\n",
      " #   Column                           Non-Null Count  Dtype   \n",
      "---  ------                           --------------  -----   \n",
      " 0   sku                              10579 non-null  string  \n",
      " 1   product_name                     10579 non-null  string  \n",
      " 2   product_description              10572 non-null  string  \n",
      " 3   product_in_stock                 10579 non-null  int64   \n",
      " 4   max_price_ol                     7850 non-null   float64 \n",
      " 5   product_price                    10334 non-null  float64 \n",
      " 6   max_price_gretaer_product_price  10579 non-null  bool    \n",
      " 7   product_brand                    10368 non-null  category\n",
      "dtypes: bool(1), category(1), float64(2), int64(1), string(3)\n",
      "memory usage: 615.0 KB\n"
     ]
    }
   ],
   "source": [
    "products.info()"
   ]
  },
  {
   "cell_type": "code",
   "execution_count": 122,
   "id": "b9608ddc",
   "metadata": {},
   "outputs": [
    {
     "data": {
      "text/plain": [
       "sku                                   0\n",
       "product_name                          0\n",
       "product_description                   7\n",
       "product_in_stock                      0\n",
       "max_price_ol                       2729\n",
       "product_price                       245\n",
       "max_price_gretaer_product_price       0\n",
       "product_brand                       211\n",
       "dtype: int64"
      ]
     },
     "execution_count": 122,
     "metadata": {},
     "output_type": "execute_result"
    }
   ],
   "source": [
    "# products.product_price_dirty = products.product_price_dirty.fillna(\"dirty\")\n",
    "products.isna().sum()"
   ]
  },
  {
   "cell_type": "code",
   "execution_count": null,
   "id": "a7ca86d7",
   "metadata": {},
   "outputs": [],
   "source": []
  }
 ],
 "metadata": {
  "kernelspec": {
   "display_name": "Python 3 (ipykernel)",
   "language": "python",
   "name": "python3"
  },
  "language_info": {
   "codemirror_mode": {
    "name": "ipython",
    "version": 3
   },
   "file_extension": ".py",
   "mimetype": "text/x-python",
   "name": "python",
   "nbconvert_exporter": "python",
   "pygments_lexer": "ipython3",
   "version": "3.9.7"
  },
  "toc-showmarkdowntxt": false
 },
 "nbformat": 4,
 "nbformat_minor": 5
}
