{
 "cells": [
  {
   "cell_type": "markdown",
   "id": "03efac02",
   "metadata": {},
   "source": [
    "# Clean Products"
   ]
  },
  {
   "cell_type": "markdown",
   "id": "7138082b-80dd-4607-97a2-8d5d1c70d8fe",
   "metadata": {},
   "source": [
    "## Import Packages and Raw_data"
   ]
  },
  {
   "cell_type": "code",
   "execution_count": 15,
   "id": "819a34c1-9a8e-43cc-b34d-c49938ede945",
   "metadata": {},
   "outputs": [
    {
     "name": "stdout",
     "output_type": "stream",
     "text": [
      "<class 'pandas.core.frame.DataFrame'>\n",
      "RangeIndex: 19326 entries, 0 to 19325\n",
      "Data columns (total 7 columns):\n",
      " #   Column       Non-Null Count  Dtype \n",
      "---  ------       --------------  ----- \n",
      " 0   sku          19326 non-null  object\n",
      " 1   name         19326 non-null  object\n",
      " 2   desc         19319 non-null  object\n",
      " 3   price        19280 non-null  object\n",
      " 4   promo_price  19326 non-null  object\n",
      " 5   in_stock     19326 non-null  int64 \n",
      " 6   type         19276 non-null  object\n",
      "dtypes: int64(1), object(6)\n",
      "memory usage: 1.0+ MB\n"
     ]
    }
   ],
   "source": [
    "import pandas as pd\n",
    "import numpy as np\n",
    "import matplotlib.pyplot as plt\n",
    "\n",
    "# Global variables\n",
    "df_name = \"products\" \n",
    "data_path = '../../data/raw_data/' \n",
    "\n",
    "\n",
    "init_df = pd.read_csv(f\"{data_path }{df_name}.csv\")\n",
    "\n",
    "init_df.info()\n"
   ]
  },
  {
   "cell_type": "markdown",
   "id": "988110a7-0c79-4798-96b6-02dcba2dee2d",
   "metadata": {},
   "source": [
    "## Logging"
   ]
  },
  {
   "cell_type": "code",
   "execution_count": 16,
   "id": "6620dfdd-fcd1-423d-b5ae-9aaa69c5703e",
   "metadata": {},
   "outputs": [],
   "source": [
    "from functools import wraps\n",
    "import datetime as dt\n",
    "\n",
    "def log_step(func):\n",
    "    @wraps(func)\n",
    "    def wrapper(*args, **kwargs):\n",
    "        tic = dt.datetime.now()\n",
    "        result = func(*args, **kwargs)\n",
    "        time_taken = str(dt.datetime.now() - tic)\n",
    "        print(f\"{func.__name__}:\\n shape={result.shape} took {time_taken}s\\n\")\n",
    "        return result\n",
    "\n",
    "    return wrapper"
   ]
  },
  {
   "cell_type": "markdown",
   "id": "39688f83",
   "metadata": {},
   "source": [
    "## Plot Function"
   ]
  },
  {
   "cell_type": "code",
   "execution_count": 17,
   "id": "3ad9e84d",
   "metadata": {},
   "outputs": [],
   "source": [
    "def plot_lines(\n",
    "    lines,\n",
    "    x,\n",
    "    title = \"\", \n",
    "    legend =\"\", \n",
    "    x_label=\"\", \n",
    "    y_label=\"\",\n",
    "    x_ticks =\"\",\n",
    "    width = 22,\n",
    "    height= 5\n",
    "    ):\n",
    "    ax = plt.subplots(figsize=(width, height))\n",
    "    plt.plot(x, lines[0], \"\" )\n",
    "    plt.plot(x,lines[1], \"r\")\n",
    "    plt.title(title)\n",
    "    plt.legend(legend)\n",
    "    plt.ylabel(y_label)\n",
    "    plt.xlabel(x_label)\n",
    "    plt.xticks(x_ticks, rotation=90)\n",
    "    plt.show()\n",
    "    "
   ]
  },
  {
   "cell_type": "markdown",
   "id": "94d42427-88df-45f3-bba6-9abf1d93f9ed",
   "metadata": {},
   "source": [
    "## Pipeline - Functions"
   ]
  },
  {
   "cell_type": "markdown",
   "id": "aff48f49-1a09-4483-8bf9-bd90bf3d9cc6",
   "metadata": {},
   "source": [
    "- [x]  Start\n",
    "- [x]  Remove duplicates\n",
    "- [_]  dots in price\n",
    "- [_]  other weird numbers\n",
    "- [_]  Missing values\n",
    "- [_]  Prices to Numeric"
   ]
  },
  {
   "cell_type": "markdown",
   "id": "66726894-88a8-4102-9977-a77a43c6d592",
   "metadata": {},
   "source": [
    "### Start Pipeline"
   ]
  },
  {
   "cell_type": "code",
   "execution_count": 18,
   "id": "aab6744b-d4cd-40a8-b71c-6e38fd5e272c",
   "metadata": {},
   "outputs": [],
   "source": [
    "@log_step\n",
    "def start_pipeline(df):\n",
    "    return df.copy()"
   ]
  },
  {
   "cell_type": "markdown",
   "id": "4f7a25ba-a89a-494e-9809-2311b5a8233a",
   "metadata": {},
   "source": [
    "### Rename Columns"
   ]
  },
  {
   "cell_type": "code",
   "execution_count": 19,
   "id": "fc2b2767-782e-4699-8e91-72f150543877",
   "metadata": {},
   "outputs": [],
   "source": [
    "def rename_columns(df):\n",
    "    df.rename(columns={\n",
    "        \"sku\": \"product_code\",\n",
    "        \"name\":  \"product_name\",      \n",
    "        \"desc\":\"product_description\",\n",
    "        \"price\":\"product_price\",        \n",
    "        \"promo_price\":\"product_promo_price\",\n",
    "        \"in_stock\": \"product_in_stock\", \n",
    "        \"type\":\"product_type\"\n",
    "    },\n",
    "             inplace = True)\n",
    "    return df"
   ]
  },
  {
   "cell_type": "markdown",
   "id": "d54d0e78-301b-4247-951e-e9dae07e59ba",
   "metadata": {},
   "source": [
    "### Remove duplicates\n",
    "\n",
    "Use `DataFrame.drop_duplicates()` to remove rows that appear twice (or more) in the dataset: that means that these rows contain exactly the same values across all columns. Set the argument `inplace=True` so that changes actually take place. You can count the rows before and after running this code with `len()` and see how many rows were dropped this way.\n",
    "\n",
    "It is possible that, after doing this, you still have a duplicate sku, which you should not have —Stock Keeping Units are meant to be unique`"
   ]
  },
  {
   "cell_type": "code",
   "execution_count": 20,
   "id": "8453c0be-e46e-4dde-b8c4-449bb1c8738a",
   "metadata": {},
   "outputs": [],
   "source": [
    "@log_step\n",
    "def remove_duplicates(df):\n",
    "    df.drop_duplicates(inplace = True)\n",
    "    # there is one dupiceted sku --> removed the one with missing price. Index 8000 (second appearence)\n",
    "    df.drop_duplicates(subset='product_code', keep=\"first\", inplace = True )\n",
    "    return df \n",
    "    \n"
   ]
  },
  {
   "cell_type": "markdown",
   "id": "f647c2a2",
   "metadata": {},
   "source": [
    "### Adjust price"
   ]
  },
  {
   "cell_type": "code",
   "execution_count": 21,
   "id": "e5e9ed3e-7772-4396-9bf4-f3accb101a10",
   "metadata": {},
   "outputs": [],
   "source": [
    "orderlines = pd.read_csv(f\"{data_path}orderlines.csv\")\n",
    "\n",
    "\n",
    "@log_step\n",
    "def adjust_price(df):\n",
    "    # Make sure that every price is a string\n",
    "    df[\"product_price\"] = df[\"product_price\"].astype(\"string\")\n",
    "    # fill na values with \"000.000\"\n",
    "    df['product_price'] = df['product_price'].fillna(\"000.000\")\n",
    "    df = df.assign(product_decimal_count = df[\"product_price\"].str.split(\"\\.\"))\n",
    "    df = df.assign(price_check = df[\"product_price\"].str.contains(\"\\.\\d{3}$\"))\n",
    "    \n",
    "    # Get maximum unit_price from orderlines\n",
    "    # max_unit_price_df = (\n",
    "    # orderlines\n",
    "    #     .orderby(\"sku\",\"unit_price\")\n",
    "    # )\n",
    "    \n",
    "    # df.merge\n",
    "\n",
    "\n",
    "    return df"
   ]
  },
  {
   "cell_type": "markdown",
   "id": "cfb609d4",
   "metadata": {},
   "source": [
    "### Missing Values"
   ]
  },
  {
   "cell_type": "code",
   "execution_count": 22,
   "id": "3f833e4d",
   "metadata": {},
   "outputs": [],
   "source": [
    "@log_step\n",
    "def missing_values(df):\n",
    "    return df"
   ]
  },
  {
   "cell_type": "markdown",
   "id": "c7019c19",
   "metadata": {},
   "source": [
    "### Adjust data types"
   ]
  },
  {
   "cell_type": "code",
   "execution_count": 23,
   "id": "b9cef212",
   "metadata": {},
   "outputs": [],
   "source": [
    "@log_step\n",
    "def adjust_data_types(df):\n",
    "    df[\"product_code\"] = df[\"product_code\"].astype(\"string\")\n",
    "    df[\"product_name\"] = df[\"product_name\"].astype(\"string\")\n",
    "    df[\"product_description\"] = df[\"product_description\"].astype(\"string\")\n",
    "\n",
    "\n",
    "    return df"
   ]
  },
  {
   "cell_type": "markdown",
   "id": "de5ac4d3",
   "metadata": {},
   "source": [
    "### Plot Samples"
   ]
  },
  {
   "cell_type": "code",
   "execution_count": 24,
   "id": "5afa18d3",
   "metadata": {},
   "outputs": [],
   "source": [
    "@log_step\n",
    "def plot_samples(df, num_samples = 50):\n",
    "    return df"
   ]
  },
  {
   "cell_type": "markdown",
   "id": "e2474140",
   "metadata": {},
   "source": [
    "### Drop Columns"
   ]
  },
  {
   "cell_type": "code",
   "execution_count": 25,
   "id": "71232642",
   "metadata": {},
   "outputs": [],
   "source": [
    "@log_step\n",
    "def drop_columns(df, columns):\n",
    "    return df.drop(columns=columns)\n"
   ]
  },
  {
   "cell_type": "markdown",
   "id": "163e5fd5",
   "metadata": {},
   "source": [
    "### End Pipeline"
   ]
  },
  {
   "cell_type": "code",
   "execution_count": 26,
   "id": "120b5445",
   "metadata": {},
   "outputs": [],
   "source": [
    "@log_step\n",
    "def end_pipeline(df):\n",
    "    df.to_csv(f\"../../data/clean_data/clean_{df_name}.csv\", index = False)\n",
    "    return df"
   ]
  },
  {
   "cell_type": "markdown",
   "id": "3b988ca0",
   "metadata": {},
   "source": []
  },
  {
   "cell_type": "markdown",
   "id": "513a363e-7af2-4175-9ada-b6a8d50f970d",
   "metadata": {},
   "source": [
    "### Clean the rest of the DataFrames\n",
    "\n",
    "The products table is probably the one that needed more cleaning, but the other tables might need some work too. Check them one by one and, when you’re done, move on to the next lesson —Data Quality."
   ]
  },
  {
   "cell_type": "markdown",
   "id": "75b48789-4011-43c0-b453-ccd8003b2bfb",
   "metadata": {},
   "source": [
    "## Run Cleaning"
   ]
  },
  {
   "cell_type": "code",
   "execution_count": 27,
   "id": "17228ead-fc86-4dc6-8707-500ea870ef17",
   "metadata": {},
   "outputs": [
    {
     "name": "stdout",
     "output_type": "stream",
     "text": [
      "start_pipeline:\n",
      " shape=(19326, 7) took 0:00:00.001523s\n",
      "\n",
      "remove_duplicates:\n",
      " shape=(10579, 7) took 0:00:00.025665s\n",
      "\n",
      "adjust_price:\n",
      " shape=(10579, 9) took 0:00:00.024377s\n",
      "\n",
      "missing_values:\n",
      " shape=(10579, 9) took 0:00:00.000006s\n",
      "\n",
      "adjust_data_types:\n",
      " shape=(10579, 9) took 0:00:00.004414s\n",
      "\n",
      "plot_samples:\n",
      " shape=(10579, 9) took 0:00:00.000004s\n",
      "\n",
      "drop_columns:\n",
      " shape=(10579, 8) took 0:00:00.001142s\n",
      "\n",
      "end_pipeline:\n",
      " shape=(10579, 8) took 0:00:00.077196s\n",
      "\n"
     ]
    }
   ],
   "source": [
    "products = (\n",
    "init_df\n",
    "    .pipe(start_pipeline)\n",
    "    .pipe(rename_columns)\n",
    "    .pipe(remove_duplicates)\n",
    "    .pipe(adjust_price)\n",
    "    .pipe(missing_values)  # Open\n",
    "    .pipe(adjust_data_types) # Open\n",
    "    .pipe(plot_samples) \n",
    "    .pipe(drop_columns, columns=[\"product_type\"]) # Open\n",
    "    .pipe(end_pipeline)\n",
    ")"
   ]
  },
  {
   "cell_type": "code",
   "execution_count": 28,
   "id": "b8776352",
   "metadata": {},
   "outputs": [
    {
     "name": "stdout",
     "output_type": "stream",
     "text": [
      "<class 'pandas.core.frame.DataFrame'>\n",
      "Int64Index: 10579 entries, 0 to 19325\n",
      "Data columns (total 8 columns):\n",
      " #   Column                 Non-Null Count  Dtype  \n",
      "---  ------                 --------------  -----  \n",
      " 0   product_code           10579 non-null  string \n",
      " 1   product_name           10579 non-null  string \n",
      " 2   product_description    10572 non-null  string \n",
      " 3   product_price          10579 non-null  string \n",
      " 4   product_promo_price    10579 non-null  object \n",
      " 5   product_in_stock       10579 non-null  int64  \n",
      " 6   product_decimal_count  10579 non-null  object \n",
      " 7   price_check            10579 non-null  boolean\n",
      "dtypes: boolean(1), int64(1), object(2), string(4)\n",
      "memory usage: 681.8+ KB\n"
     ]
    }
   ],
   "source": [
    "products.info()"
   ]
  },
  {
   "cell_type": "code",
   "execution_count": 29,
   "id": "31895137",
   "metadata": {},
   "outputs": [
    {
     "data": {
      "text/html": [
       "<div>\n",
       "<style scoped>\n",
       "    .dataframe tbody tr th:only-of-type {\n",
       "        vertical-align: middle;\n",
       "    }\n",
       "\n",
       "    .dataframe tbody tr th {\n",
       "        vertical-align: top;\n",
       "    }\n",
       "\n",
       "    .dataframe thead th {\n",
       "        text-align: right;\n",
       "    }\n",
       "</style>\n",
       "<table border=\"1\" class=\"dataframe\">\n",
       "  <thead>\n",
       "    <tr style=\"text-align: right;\">\n",
       "      <th></th>\n",
       "      <th>product_code</th>\n",
       "      <th>product_name</th>\n",
       "      <th>product_description</th>\n",
       "      <th>product_price</th>\n",
       "      <th>product_promo_price</th>\n",
       "      <th>product_in_stock</th>\n",
       "      <th>product_decimal_count</th>\n",
       "      <th>price_check</th>\n",
       "    </tr>\n",
       "  </thead>\n",
       "  <tbody>\n",
       "    <tr>\n",
       "      <th>34</th>\n",
       "      <td>TWS0019</td>\n",
       "      <td>Twelve South MagicWand support Apple Magic Tra...</td>\n",
       "      <td>MagicWand for wireless keyboard and Magic Trac...</td>\n",
       "      <td>000.000</td>\n",
       "      <td>299.899</td>\n",
       "      <td>0</td>\n",
       "      <td>[000, 000]</td>\n",
       "      <td>True</td>\n",
       "    </tr>\n",
       "    <tr>\n",
       "      <th>362</th>\n",
       "      <td>REP0043</td>\n",
       "      <td>Speaker lower repair iPhone 4</td>\n",
       "      <td>Repair service including parts and labor for i...</td>\n",
       "      <td>499.004</td>\n",
       "      <td>499.004</td>\n",
       "      <td>0</td>\n",
       "      <td>[499, 004]</td>\n",
       "      <td>True</td>\n",
       "    </tr>\n",
       "    <tr>\n",
       "      <th>480</th>\n",
       "      <td>PIE0011</td>\n",
       "      <td>Internal Battery for iPhone 3G</td>\n",
       "      <td>Replacement AC Adapter for Apple iPhone 3G.</td>\n",
       "      <td>98.978</td>\n",
       "      <td>98.978</td>\n",
       "      <td>0</td>\n",
       "      <td>[98, 978]</td>\n",
       "      <td>True</td>\n",
       "    </tr>\n",
       "    <tr>\n",
       "      <th>515</th>\n",
       "      <td>SEN0061</td>\n",
       "      <td>Sennheiser EZX 80 Handsfree iPhone iPad and iP...</td>\n",
       "      <td>IPhone bluetooth headset with microphone iPad ...</td>\n",
       "      <td>649.891</td>\n",
       "      <td>649.891</td>\n",
       "      <td>0</td>\n",
       "      <td>[649, 891]</td>\n",
       "      <td>True</td>\n",
       "    </tr>\n",
       "    <tr>\n",
       "      <th>518</th>\n",
       "      <td>SEV0026</td>\n",
       "      <td>Service installation RAM + HDD + SSD MacBook /...</td>\n",
       "      <td>RAM + HDD installation + SSD in your MacBook /...</td>\n",
       "      <td>599.918</td>\n",
       "      <td>599.918</td>\n",
       "      <td>0</td>\n",
       "      <td>[599, 918]</td>\n",
       "      <td>True</td>\n",
       "    </tr>\n",
       "    <tr>\n",
       "      <th>...</th>\n",
       "      <td>...</td>\n",
       "      <td>...</td>\n",
       "      <td>...</td>\n",
       "      <td>...</td>\n",
       "      <td>...</td>\n",
       "      <td>...</td>\n",
       "      <td>...</td>\n",
       "      <td>...</td>\n",
       "    </tr>\n",
       "    <tr>\n",
       "      <th>19312</th>\n",
       "      <td>REP0424</td>\n",
       "      <td>Input repair Headphones iPad</td>\n",
       "      <td>Repair service including parts and labor for iPad</td>\n",
       "      <td>6.999.003</td>\n",
       "      <td>69.99</td>\n",
       "      <td>0</td>\n",
       "      <td>[6, 999, 003]</td>\n",
       "      <td>True</td>\n",
       "    </tr>\n",
       "    <tr>\n",
       "      <th>19313</th>\n",
       "      <td>REP0421</td>\n",
       "      <td>iPad charging connector repair</td>\n",
       "      <td>Repair service including parts and labor for iPad</td>\n",
       "      <td>6.999.003</td>\n",
       "      <td>69.99</td>\n",
       "      <td>0</td>\n",
       "      <td>[6, 999, 003]</td>\n",
       "      <td>True</td>\n",
       "    </tr>\n",
       "    <tr>\n",
       "      <th>19314</th>\n",
       "      <td>REP0416</td>\n",
       "      <td>iPad front camera repair</td>\n",
       "      <td>Repair service including parts and labor for iPad</td>\n",
       "      <td>6.999.003</td>\n",
       "      <td>69.99</td>\n",
       "      <td>0</td>\n",
       "      <td>[6, 999, 003]</td>\n",
       "      <td>True</td>\n",
       "    </tr>\n",
       "    <tr>\n",
       "      <th>19315</th>\n",
       "      <td>REP0413</td>\n",
       "      <td>repair rear camera iPad</td>\n",
       "      <td>Repair service including parts and labor for iPad</td>\n",
       "      <td>6.999.003</td>\n",
       "      <td>69.99</td>\n",
       "      <td>0</td>\n",
       "      <td>[6, 999, 003]</td>\n",
       "      <td>True</td>\n",
       "    </tr>\n",
       "    <tr>\n",
       "      <th>19316</th>\n",
       "      <td>REP0407</td>\n",
       "      <td>iPad battery repair</td>\n",
       "      <td>Repair service including parts and labor for iPad</td>\n",
       "      <td>6.999.003</td>\n",
       "      <td>69.99</td>\n",
       "      <td>0</td>\n",
       "      <td>[6, 999, 003]</td>\n",
       "      <td>True</td>\n",
       "    </tr>\n",
       "  </tbody>\n",
       "</table>\n",
       "<p>587 rows × 8 columns</p>\n",
       "</div>"
      ],
      "text/plain": [
       "      product_code                                       product_name  \\\n",
       "34         TWS0019  Twelve South MagicWand support Apple Magic Tra...   \n",
       "362        REP0043                      Speaker lower repair iPhone 4   \n",
       "480        PIE0011                     Internal Battery for iPhone 3G   \n",
       "515        SEN0061  Sennheiser EZX 80 Handsfree iPhone iPad and iP...   \n",
       "518        SEV0026  Service installation RAM + HDD + SSD MacBook /...   \n",
       "...            ...                                                ...   \n",
       "19312      REP0424                       Input repair Headphones iPad   \n",
       "19313      REP0421                     iPad charging connector repair   \n",
       "19314      REP0416                           iPad front camera repair   \n",
       "19315      REP0413                            repair rear camera iPad   \n",
       "19316      REP0407                                iPad battery repair   \n",
       "\n",
       "                                     product_description product_price  \\\n",
       "34     MagicWand for wireless keyboard and Magic Trac...       000.000   \n",
       "362    Repair service including parts and labor for i...       499.004   \n",
       "480          Replacement AC Adapter for Apple iPhone 3G.        98.978   \n",
       "515    IPhone bluetooth headset with microphone iPad ...       649.891   \n",
       "518    RAM + HDD installation + SSD in your MacBook /...       599.918   \n",
       "...                                                  ...           ...   \n",
       "19312  Repair service including parts and labor for iPad     6.999.003   \n",
       "19313  Repair service including parts and labor for iPad     6.999.003   \n",
       "19314  Repair service including parts and labor for iPad     6.999.003   \n",
       "19315  Repair service including parts and labor for iPad     6.999.003   \n",
       "19316  Repair service including parts and labor for iPad     6.999.003   \n",
       "\n",
       "      product_promo_price  product_in_stock product_decimal_count  price_check  \n",
       "34                299.899                 0            [000, 000]         True  \n",
       "362               499.004                 0            [499, 004]         True  \n",
       "480                98.978                 0             [98, 978]         True  \n",
       "515               649.891                 0            [649, 891]         True  \n",
       "518               599.918                 0            [599, 918]         True  \n",
       "...                   ...               ...                   ...          ...  \n",
       "19312               69.99                 0         [6, 999, 003]         True  \n",
       "19313               69.99                 0         [6, 999, 003]         True  \n",
       "19314               69.99                 0         [6, 999, 003]         True  \n",
       "19315               69.99                 0         [6, 999, 003]         True  \n",
       "19316               69.99                 0         [6, 999, 003]         True  \n",
       "\n",
       "[587 rows x 8 columns]"
      ]
     },
     "execution_count": 29,
     "metadata": {},
     "output_type": "execute_result"
    }
   ],
   "source": [
    "sample = (\n",
    "products[products[\"price_check\"]]\n",
    ")\n",
    "\n",
    "sample"
   ]
  },
  {
   "cell_type": "code",
   "execution_count": 30,
   "id": "a40edac8",
   "metadata": {},
   "outputs": [
    {
     "name": "stdout",
     "output_type": "stream",
     "text": [
      "<class 'pandas.core.frame.DataFrame'>\n",
      "RangeIndex: 293983 entries, 0 to 293982\n",
      "Data columns (total 7 columns):\n",
      " #   Column            Non-Null Count   Dtype \n",
      "---  ------            --------------   ----- \n",
      " 0   id                293983 non-null  int64 \n",
      " 1   id_order          293983 non-null  int64 \n",
      " 2   product_id        293983 non-null  int64 \n",
      " 3   product_quantity  293983 non-null  int64 \n",
      " 4   sku               293983 non-null  object\n",
      " 5   unit_price        293983 non-null  object\n",
      " 6   date              293983 non-null  object\n",
      "dtypes: int64(4), object(3)\n",
      "memory usage: 15.7+ MB\n"
     ]
    }
   ],
   "source": [
    "orderlines.info()"
   ]
  },
  {
   "cell_type": "code",
   "execution_count": null,
   "id": "cf03966c",
   "metadata": {},
   "outputs": [],
   "source": []
  }
 ],
 "metadata": {
  "kernelspec": {
   "display_name": "Python 3 (ipykernel)",
   "language": "python",
   "name": "python3"
  },
  "language_info": {
   "codemirror_mode": {
    "name": "ipython",
    "version": 3
   },
   "file_extension": ".py",
   "mimetype": "text/x-python",
   "name": "python",
   "nbconvert_exporter": "python",
   "pygments_lexer": "ipython3",
   "version": "3.9.7"
  },
  "toc-showmarkdowntxt": false
 },
 "nbformat": 4,
 "nbformat_minor": 5
}
