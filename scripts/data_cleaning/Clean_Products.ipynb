{
 "cells": [
  {
   "cell_type": "markdown",
   "id": "03efac02",
   "metadata": {},
   "source": [
    "# Clean products"
   ]
  },
  {
   "cell_type": "markdown",
   "id": "198ee95d",
   "metadata": {},
   "source": [
    "## Initialize Cleaning"
   ]
  },
  {
   "cell_type": "markdown",
   "id": "7138082b-80dd-4607-97a2-8d5d1c70d8fe",
   "metadata": {},
   "source": [
    "### Import Packages and Raw_data"
   ]
  },
  {
   "cell_type": "code",
   "execution_count": 370,
   "id": "819a34c1-9a8e-43cc-b34d-c49938ede945",
   "metadata": {},
   "outputs": [
    {
     "name": "stdout",
     "output_type": "stream",
     "text": [
      "<class 'pandas.core.frame.DataFrame'>\n",
      "RangeIndex: 293982 entries, 0 to 293981\n",
      "Data columns (total 6 columns):\n",
      " #   Column               Non-Null Count   Dtype  \n",
      "---  ------               --------------   -----  \n",
      " 0   o_lines_id           293982 non-null  int64  \n",
      " 1   order_id             293982 non-null  int64  \n",
      " 2   o_lines_product_qty  293982 non-null  int64  \n",
      " 3   sku                  293982 non-null  object \n",
      " 4   o_lines_unit_price   293982 non-null  float64\n",
      " 5   o_lines_date         293982 non-null  object \n",
      "dtypes: float64(1), int64(3), object(2)\n",
      "memory usage: 13.5+ MB\n"
     ]
    }
   ],
   "source": [
    "import pandas as pd\n",
    "import numpy as np\n",
    "import matplotlib.pyplot as plt\n",
    "from pandas_profiling import ProfileReport\n",
    "\n",
    "# Global variables\n",
    "df_name = \"products\" \n",
    "data_path = '../../data/raw_data/' \n",
    "cl_data_path = '../../data/clean_data/' \n",
    "\n",
    "init_df = pd.read_csv(f\"{data_path}{df_name}.csv\")\n",
    "o_lines_cleaned = pd.read_csv(f\"{cl_data_path}clean_orderlines.csv\")\n",
    "brands_cleaned = pd.read_csv(f\"{cl_data_path}clean_brands.csv\")\n",
    "\n",
    "o_lines_cleaned.info()\n"
   ]
  },
  {
   "cell_type": "markdown",
   "id": "988110a7-0c79-4798-96b6-02dcba2dee2d",
   "metadata": {},
   "source": [
    "### Logging"
   ]
  },
  {
   "cell_type": "code",
   "execution_count": 371,
   "id": "6620dfdd-fcd1-423d-b5ae-9aaa69c5703e",
   "metadata": {},
   "outputs": [],
   "source": [
    "from functools import wraps\n",
    "import datetime as dt\n",
    "\n",
    "def log_step(func):\n",
    "    @wraps(func)\n",
    "    def wrapper(*args, **kwargs):\n",
    "        tic = dt.datetime.now()\n",
    "        result = func(*args, **kwargs)\n",
    "        time_taken = str(dt.datetime.now() - tic)\n",
    "        print(f\"{func.__name__}:\\n shape={result.shape} took {time_taken}s\\n\")\n",
    "        return result\n",
    "\n",
    "    return wrapper"
   ]
  },
  {
   "cell_type": "markdown",
   "id": "94d42427-88df-45f3-bba6-9abf1d93f9ed",
   "metadata": {},
   "source": [
    "## Pipeline - Functions"
   ]
  },
  {
   "cell_type": "markdown",
   "id": "66726894-88a8-4102-9977-a77a43c6d592",
   "metadata": {},
   "source": [
    "### Start Pipeline"
   ]
  },
  {
   "cell_type": "code",
   "execution_count": 372,
   "id": "aab6744b-d4cd-40a8-b71c-6e38fd5e272c",
   "metadata": {},
   "outputs": [],
   "source": [
    "@log_step\n",
    "def start_pipeline(df):\n",
    "    return df.copy()"
   ]
  },
  {
   "cell_type": "markdown",
   "id": "4f7a25ba-a89a-494e-9809-2311b5a8233a",
   "metadata": {},
   "source": [
    "### Rename Columns"
   ]
  },
  {
   "cell_type": "code",
   "execution_count": 373,
   "id": "7e3c8448",
   "metadata": {},
   "outputs": [
    {
     "name": "stdout",
     "output_type": "stream",
     "text": [
      "<class 'pandas.core.frame.DataFrame'>\n",
      "RangeIndex: 19326 entries, 0 to 19325\n",
      "Data columns (total 7 columns):\n",
      " #   Column       Non-Null Count  Dtype \n",
      "---  ------       --------------  ----- \n",
      " 0   sku          19326 non-null  object\n",
      " 1   name         19326 non-null  object\n",
      " 2   desc         19319 non-null  object\n",
      " 3   price        19280 non-null  object\n",
      " 4   promo_price  19326 non-null  object\n",
      " 5   in_stock     19326 non-null  int64 \n",
      " 6   type         19276 non-null  object\n",
      "dtypes: int64(1), object(6)\n",
      "memory usage: 1.0+ MB\n"
     ]
    }
   ],
   "source": [
    "init_df.info()"
   ]
  },
  {
   "cell_type": "code",
   "execution_count": 374,
   "id": "fc2b2767-782e-4699-8e91-72f150543877",
   "metadata": {},
   "outputs": [],
   "source": [
    "def rename_columns(df):\n",
    "    return (df\n",
    "        .rename(columns={\n",
    "            \"name\": \"product_name\",\n",
    "            \"desc\":  \"product_description\",      \n",
    "            \"price\":\"product_price_dirty\",        \n",
    "            \"in_stock\":\"product_in_stock\"\n",
    "            }\n",
    "        )\n",
    "    )"
   ]
  },
  {
   "cell_type": "markdown",
   "id": "d54d0e78-301b-4247-951e-e9dae07e59ba",
   "metadata": {},
   "source": [
    "### Remove duplicates"
   ]
  },
  {
   "cell_type": "code",
   "execution_count": 375,
   "id": "8453c0be-e46e-4dde-b8c4-449bb1c8738a",
   "metadata": {},
   "outputs": [],
   "source": [
    "@log_step\n",
    "def remove_duplicates(df):\n",
    "    return (\n",
    "            df\n",
    "            .drop_duplicates()       # removed dupliceted rows\n",
    "            .drop_duplicates(\"sku\")  # one duplictaed sku. 2. Appearence has no price --> dropped!\n",
    "    )"
   ]
  },
  {
   "cell_type": "markdown",
   "id": "f647c2a2",
   "metadata": {},
   "source": [
    "### Adjust price"
   ]
  },
  {
   "cell_type": "code",
   "execution_count": 386,
   "id": "8aaa4a3e",
   "metadata": {},
   "outputs": [],
   "source": [
    "@log_step\n",
    "def adjust_price(df):\n",
    "    # make sure eveything is a string\n",
    "    df[\"product_price_dirty\"] = df[\"product_price_dirty\"].astype(\"string\")\n",
    "    df[\"product_price_dirty\"] = df[\"product_price_dirty\"].str.replace(\".*\\.\\d{3}$\", \"???\", regex = True)\n",
    "    df[\"product_price_dirty\"] = df[\"product_price_dirty\"].str.replace(\"^0*\\.?(0*)?$\", \"???\", regex = True)\n",
    "\n",
    "    # get maximum price from orderlines\n",
    "    max_o_lines_df = (\n",
    "        o_lines_cleaned[[\"sku\",\"o_lines_unit_price\"]]\n",
    "            .groupby(\"sku\")\n",
    "            .agg(\"max\")\n",
    "            .reset_index()\n",
    "    )\n",
    "    df = df.merge(max_o_lines_df, how=\"right\", on=\"sku\")\n",
    "    df = df.rename(columns={\"o_lines_unit_price\":\"max_price_o_lines\"})\n",
    "    # assign cleaned price\n",
    "    df = df.assign(product_price = lambda x: x[\"max_price_o_lines\"] if x[\"product_price_dirty\"].str == \"\\?\\?\\?\" else x[\"product_price_dirty\"])\n",
    "    \n",
    "    return df\n",
    "    \n",
    "    "
   ]
  },
  {
   "cell_type": "markdown",
   "id": "cfb609d4",
   "metadata": {},
   "source": [
    "### Missing Values"
   ]
  },
  {
   "cell_type": "code",
   "execution_count": 377,
   "id": "3f833e4d",
   "metadata": {},
   "outputs": [],
   "source": [
    "@log_step\n",
    "def missing_values(df):\n",
    "    return df.fillna({\"product_price_dirty\":\"000.000\"})"
   ]
  },
  {
   "cell_type": "markdown",
   "id": "c7019c19",
   "metadata": {},
   "source": [
    "### Adjust data types"
   ]
  },
  {
   "cell_type": "code",
   "execution_count": 378,
   "id": "b9cef212",
   "metadata": {},
   "outputs": [],
   "source": [
    "@log_step\n",
    "def adjust_data_types(df):\n",
    "   df[\"sku\"] = df[\"sku\"].astype(\"string\")\n",
    "   df[\"product_name\"] = df[\"product_name\"].astype(\"string\")\n",
    "   df[\"product_description\"] = df[\"product_description\"].astype(\"string\")\n",
    "   df[\"product_brand\"] = df[\"product_brand\"].astype(\"category\")\n",
    "   return df"
   ]
  },
  {
   "cell_type": "markdown",
   "id": "e2474140",
   "metadata": {},
   "source": [
    "### Drop Columns"
   ]
  },
  {
   "cell_type": "code",
   "execution_count": 379,
   "id": "71232642",
   "metadata": {},
   "outputs": [],
   "source": [
    "@log_step\n",
    "def drop_columns(df, cols):\n",
    "    \n",
    "    return df.drop(columns=cols)\n"
   ]
  },
  {
   "cell_type": "markdown",
   "id": "9d951e94",
   "metadata": {},
   "source": [
    "### Add columns"
   ]
  },
  {
   "cell_type": "code",
   "execution_count": 380,
   "id": "db4db0c3",
   "metadata": {},
   "outputs": [],
   "source": [
    "@log_step\n",
    "def add_columns(df):\n",
    "    # extract brand_short from sku\n",
    "    df = df.assign(brand_short = df[\"sku\"].str.extract(\"(^\\w{3})\"))\n",
    "    \n",
    "    # merge brands on \"brands_short\"\n",
    "\n",
    "    df = df.merge(brands_cleaned, how=\"left\", on=\"brand_short\")\n",
    "    df = df.rename(columns={\"brand_long\":\"product_brand\"})\n",
    "    return df"
   ]
  },
  {
   "cell_type": "markdown",
   "id": "163e5fd5",
   "metadata": {},
   "source": [
    "### CSV"
   ]
  },
  {
   "cell_type": "code",
   "execution_count": 381,
   "id": "120b5445",
   "metadata": {},
   "outputs": [],
   "source": [
    "@log_step\n",
    "def create_csv(df):\n",
    "    df.to_csv(f\"../../data/clean_data/clean_{df_name}.csv\", index = False)\n",
    "    return df"
   ]
  },
  {
   "cell_type": "markdown",
   "id": "44cf493a",
   "metadata": {},
   "source": [
    "### Report"
   ]
  },
  {
   "cell_type": "code",
   "execution_count": 382,
   "id": "26d5a72e",
   "metadata": {},
   "outputs": [],
   "source": [
    "@log_step\n",
    "def create_report(df):\n",
    "    ProfileReport(df, title=f\"{df_name.title()} - Report\", dark_mode=True, minimal = True).to_file(f\"../../data/profile_reports/{df_name}_report.html\")\n",
    "    return df"
   ]
  },
  {
   "cell_type": "markdown",
   "id": "75b48789-4011-43c0-b453-ccd8003b2bfb",
   "metadata": {},
   "source": [
    "## Run Cleaning"
   ]
  },
  {
   "cell_type": "code",
   "execution_count": 387,
   "id": "17228ead-fc86-4dc6-8707-500ea870ef17",
   "metadata": {},
   "outputs": [
    {
     "name": "stdout",
     "output_type": "stream",
     "text": [
      "start_pipeline:\n",
      " shape=(19326, 7) took 0:00:00.000949s\n",
      "\n",
      "missing_values:\n",
      " shape=(19326, 7) took 0:00:00.003266s\n",
      "\n",
      "remove_duplicates:\n",
      " shape=(10579, 7) took 0:00:00.022131s\n",
      "\n",
      "adjust_price:\n",
      " shape=(7951, 9) took 0:00:00.101404s\n",
      "\n",
      "add_columns:\n",
      " shape=(7951, 11) took 0:00:00.029747s\n",
      "\n",
      "drop_columns:\n",
      " shape=(7951, 8) took 0:00:00.001276s\n",
      "\n",
      "adjust_data_types:\n",
      " shape=(7951, 8) took 0:00:00.005537s\n",
      "\n",
      "create_csv:\n",
      " shape=(7951, 8) took 0:00:00.062833s\n",
      "\n"
     ]
    },
    {
     "name": "stderr",
     "output_type": "stream",
     "text": [
      "Summarize dataset: 100%|██████████| 14/14 [00:00<00:00, 51.96it/s, Completed]                           \n",
      "Generate report structure: 100%|██████████| 1/1 [00:01<00:00,  1.02s/it]\n",
      "Render HTML: 100%|██████████| 1/1 [00:00<00:00,  5.70it/s]\n",
      "Export report to file: 100%|██████████| 1/1 [00:00<00:00, 834.02it/s]"
     ]
    },
    {
     "name": "stdout",
     "output_type": "stream",
     "text": [
      "create_report:\n",
      " shape=(7951, 8) took 0:00:01.511027s\n",
      "\n"
     ]
    },
    {
     "name": "stderr",
     "output_type": "stream",
     "text": [
      "\n"
     ]
    }
   ],
   "source": [
    "products = (\n",
    "init_df\n",
    "    .pipe(start_pipeline)       # copy df\n",
    "    .pipe(rename_columns)       # naming conventions\n",
    "    .pipe(missing_values)       # price --> replaced with: \"000.000\"\n",
    "    .pipe(remove_duplicates)    # duplicated rows + duplicated sku, removed first one, without a price\n",
    "    .pipe(adjust_price)         # removed second dot: 1.000.99 -> 1000.99  + to_numeric \n",
    "    .pipe(add_columns)          # extract brand short from sku --> merge brand_long from brands\n",
    "    .pipe(drop_columns, cols=[\"promo_price\", \"type\",\"brand_short\"])\n",
    "    .pipe(adjust_data_types)    # product_id -> STRING, order_id --> STRING, product_date --> DATETIME\n",
    "    .pipe(create_csv)           # save clean data as .csv \n",
    "    .pipe(create_report)        # save report as .html \n",
    "\n",
    ")\n"
   ]
  },
  {
   "cell_type": "markdown",
   "id": "e3b8ea51",
   "metadata": {},
   "source": [
    "## Profile Report"
   ]
  },
  {
   "cell_type": "markdown",
   "id": "459d54d6",
   "metadata": {},
   "source": [
    "### Types"
   ]
  },
  {
   "cell_type": "markdown",
   "id": "e36fd800",
   "metadata": {},
   "source": [
    "#### Before"
   ]
  },
  {
   "cell_type": "code",
   "execution_count": null,
   "id": "9b19fb48",
   "metadata": {},
   "outputs": [
    {
     "data": {
      "text/plain": [
       "sku            object\n",
       "name           object\n",
       "desc           object\n",
       "price          object\n",
       "promo_price    object\n",
       "in_stock        int64\n",
       "type           object\n",
       "dtype: object"
      ]
     },
     "execution_count": 330,
     "metadata": {},
     "output_type": "execute_result"
    }
   ],
   "source": [
    "init_df.dtypes"
   ]
  },
  {
   "cell_type": "markdown",
   "id": "02e329b3",
   "metadata": {},
   "source": [
    "#### After"
   ]
  },
  {
   "cell_type": "code",
   "execution_count": null,
   "id": "b8776352",
   "metadata": {},
   "outputs": [
    {
     "data": {
      "text/plain": [
       "sku                      string\n",
       "product_name             string\n",
       "product_description      string\n",
       "product_price_dirty      string\n",
       "product_in_stock        float64\n",
       "max_price_o_lines       float64\n",
       "product_price            string\n",
       "product_brand          category\n",
       "dtype: object"
      ]
     },
     "execution_count": 331,
     "metadata": {},
     "output_type": "execute_result"
    }
   ],
   "source": [
    "products.dtypes"
   ]
  },
  {
   "cell_type": "markdown",
   "id": "d395ee04",
   "metadata": {},
   "source": [
    "### Samples"
   ]
  },
  {
   "cell_type": "markdown",
   "id": "dab044d6",
   "metadata": {},
   "source": [
    "#### Before"
   ]
  },
  {
   "cell_type": "code",
   "execution_count": null,
   "id": "31895137",
   "metadata": {},
   "outputs": [
    {
     "data": {
      "text/html": [
       "<div>\n",
       "<style scoped>\n",
       "    .dataframe tbody tr th:only-of-type {\n",
       "        vertical-align: middle;\n",
       "    }\n",
       "\n",
       "    .dataframe tbody tr th {\n",
       "        vertical-align: top;\n",
       "    }\n",
       "\n",
       "    .dataframe thead th {\n",
       "        text-align: right;\n",
       "    }\n",
       "</style>\n",
       "<table border=\"1\" class=\"dataframe\">\n",
       "  <thead>\n",
       "    <tr style=\"text-align: right;\">\n",
       "      <th></th>\n",
       "      <th>sku</th>\n",
       "      <th>name</th>\n",
       "      <th>desc</th>\n",
       "      <th>price</th>\n",
       "      <th>promo_price</th>\n",
       "      <th>in_stock</th>\n",
       "      <th>type</th>\n",
       "    </tr>\n",
       "  </thead>\n",
       "  <tbody>\n",
       "    <tr>\n",
       "      <th>14284</th>\n",
       "      <td>APP1916</td>\n",
       "      <td>Apple MacBook Pro 15 \"Core i7 Touch Bar 27GHz ...</td>\n",
       "      <td>New MacBook Pro 15-inch Touch Bar to 27GHz Cor...</td>\n",
       "      <td>4639</td>\n",
       "      <td>44.135.839</td>\n",
       "      <td>0</td>\n",
       "      <td>2158</td>\n",
       "    </tr>\n",
       "    <tr>\n",
       "      <th>6801</th>\n",
       "      <td>PAC1607</td>\n",
       "      <td>Apple iMac 27 \"Core i5 3.3GHz Retina 5K | 8GB ...</td>\n",
       "      <td>Desktop computer iMac 27-inch 3.3GHz Core i5 5...</td>\n",
       "      <td>3349</td>\n",
       "      <td>29.099.895</td>\n",
       "      <td>0</td>\n",
       "      <td>5,74E+15</td>\n",
       "    </tr>\n",
       "    <tr>\n",
       "      <th>9631</th>\n",
       "      <td>PAC0963</td>\n",
       "      <td>Apple iMac 27 \"Core i7 Retina 5K 4GHz | 32GB |...</td>\n",
       "      <td>IMac desktop computer 27 inch 5K Retina 4GHz i...</td>\n",
       "      <td>3409</td>\n",
       "      <td>28.569.903</td>\n",
       "      <td>0</td>\n",
       "      <td>5,74E+15</td>\n",
       "    </tr>\n",
       "    <tr>\n",
       "      <th>14780</th>\n",
       "      <td>PAC1711</td>\n",
       "      <td>Pack QNAP TS-451A NAS 8GB RAM l l 8TB (4x2TB) ...</td>\n",
       "      <td>Nas TS-451A with 8GB RAM and 8TB (4x2TB) Seaga...</td>\n",
       "      <td>10.008.289</td>\n",
       "      <td>8.393.685</td>\n",
       "      <td>0</td>\n",
       "      <td>12175397</td>\n",
       "    </tr>\n",
       "    <tr>\n",
       "      <th>4166</th>\n",
       "      <td>APP1389</td>\n",
       "      <td>Apple iMac 27 \"Core i5 3.3GHz Retina 5K | 8GB ...</td>\n",
       "      <td>IMac desktop computer 27 inch 8GB RAM 512GB Re...</td>\n",
       "      <td>3169</td>\n",
       "      <td>30.175.839</td>\n",
       "      <td>0</td>\n",
       "      <td>5,74E+15</td>\n",
       "    </tr>\n",
       "    <tr>\n",
       "      <th>3946</th>\n",
       "      <td>APP1385</td>\n",
       "      <td>Apple iMac 27 \"Core i5 3.3GHz Retina 5K | 8GB ...</td>\n",
       "      <td>IMac desktop computer 27 inch 5K Retina 8GB RA...</td>\n",
       "      <td>3049</td>\n",
       "      <td>2.903.585</td>\n",
       "      <td>0</td>\n",
       "      <td>5,74E+15</td>\n",
       "    </tr>\n",
       "    <tr>\n",
       "      <th>13300</th>\n",
       "      <td>UAG0051</td>\n",
       "      <td>Urban Armor Gear iPhone Case Plasma 7 Red / Black</td>\n",
       "      <td>Cover with military certificate falls and anti...</td>\n",
       "      <td>29.95</td>\n",
       "      <td>269.903</td>\n",
       "      <td>0</td>\n",
       "      <td>11865403</td>\n",
       "    </tr>\n",
       "    <tr>\n",
       "      <th>5557</th>\n",
       "      <td>PAC1054</td>\n",
       "      <td>Apple iMac 27 \"Core i5 3.3GHz Retina 5K | 32GB...</td>\n",
       "      <td>IMac desktop computer 27 inch 5K Retina i5 3.3...</td>\n",
       "      <td>3649</td>\n",
       "      <td>30.809.903</td>\n",
       "      <td>0</td>\n",
       "      <td>5,74E+15</td>\n",
       "    </tr>\n",
       "    <tr>\n",
       "      <th>13363</th>\n",
       "      <td>APP1630</td>\n",
       "      <td>Apple iPhone 7 Plus 128GB Black</td>\n",
       "      <td>New Apple iPhone 7 Plus Free Black 128GB</td>\n",
       "      <td>889</td>\n",
       "      <td>872.001</td>\n",
       "      <td>1</td>\n",
       "      <td>85651716</td>\n",
       "    </tr>\n",
       "    <tr>\n",
       "      <th>12664</th>\n",
       "      <td>LIF0103-A</td>\n",
       "      <td>Open - LifeProof Fre Waterproof Case iPhone 6 ...</td>\n",
       "      <td>waterproof case and extreme conditions for iPh...</td>\n",
       "      <td>89.99</td>\n",
       "      <td>649.903</td>\n",
       "      <td>0</td>\n",
       "      <td>1298</td>\n",
       "    </tr>\n",
       "  </tbody>\n",
       "</table>\n",
       "</div>"
      ],
      "text/plain": [
       "             sku                                               name  \\\n",
       "14284    APP1916  Apple MacBook Pro 15 \"Core i7 Touch Bar 27GHz ...   \n",
       "6801     PAC1607  Apple iMac 27 \"Core i5 3.3GHz Retina 5K | 8GB ...   \n",
       "9631     PAC0963  Apple iMac 27 \"Core i7 Retina 5K 4GHz | 32GB |...   \n",
       "14780    PAC1711  Pack QNAP TS-451A NAS 8GB RAM l l 8TB (4x2TB) ...   \n",
       "4166     APP1389  Apple iMac 27 \"Core i5 3.3GHz Retina 5K | 8GB ...   \n",
       "3946     APP1385  Apple iMac 27 \"Core i5 3.3GHz Retina 5K | 8GB ...   \n",
       "13300    UAG0051  Urban Armor Gear iPhone Case Plasma 7 Red / Black   \n",
       "5557     PAC1054  Apple iMac 27 \"Core i5 3.3GHz Retina 5K | 32GB...   \n",
       "13363    APP1630                    Apple iPhone 7 Plus 128GB Black   \n",
       "12664  LIF0103-A  Open - LifeProof Fre Waterproof Case iPhone 6 ...   \n",
       "\n",
       "                                                    desc       price  \\\n",
       "14284  New MacBook Pro 15-inch Touch Bar to 27GHz Cor...        4639   \n",
       "6801   Desktop computer iMac 27-inch 3.3GHz Core i5 5...        3349   \n",
       "9631   IMac desktop computer 27 inch 5K Retina 4GHz i...        3409   \n",
       "14780  Nas TS-451A with 8GB RAM and 8TB (4x2TB) Seaga...  10.008.289   \n",
       "4166   IMac desktop computer 27 inch 8GB RAM 512GB Re...        3169   \n",
       "3946   IMac desktop computer 27 inch 5K Retina 8GB RA...        3049   \n",
       "13300  Cover with military certificate falls and anti...       29.95   \n",
       "5557   IMac desktop computer 27 inch 5K Retina i5 3.3...        3649   \n",
       "13363           New Apple iPhone 7 Plus Free Black 128GB         889   \n",
       "12664  waterproof case and extreme conditions for iPh...       89.99   \n",
       "\n",
       "      promo_price  in_stock      type  \n",
       "14284  44.135.839         0      2158  \n",
       "6801   29.099.895         0  5,74E+15  \n",
       "9631   28.569.903         0  5,74E+15  \n",
       "14780   8.393.685         0  12175397  \n",
       "4166   30.175.839         0  5,74E+15  \n",
       "3946    2.903.585         0  5,74E+15  \n",
       "13300     269.903         0  11865403  \n",
       "5557   30.809.903         0  5,74E+15  \n",
       "13363     872.001         1  85651716  \n",
       "12664     649.903         0      1298  "
      ]
     },
     "execution_count": 332,
     "metadata": {},
     "output_type": "execute_result"
    }
   ],
   "source": [
    "init_df.sample(10)"
   ]
  },
  {
   "cell_type": "markdown",
   "id": "51a35b25",
   "metadata": {},
   "source": [
    "#### After"
   ]
  },
  {
   "cell_type": "code",
   "execution_count": null,
   "id": "14db11fe",
   "metadata": {},
   "outputs": [
    {
     "data": {
      "text/html": [
       "<div>\n",
       "<style scoped>\n",
       "    .dataframe tbody tr th:only-of-type {\n",
       "        vertical-align: middle;\n",
       "    }\n",
       "\n",
       "    .dataframe tbody tr th {\n",
       "        vertical-align: top;\n",
       "    }\n",
       "\n",
       "    .dataframe thead th {\n",
       "        text-align: right;\n",
       "    }\n",
       "</style>\n",
       "<table border=\"1\" class=\"dataframe\">\n",
       "  <thead>\n",
       "    <tr style=\"text-align: right;\">\n",
       "      <th></th>\n",
       "      <th>index</th>\n",
       "      <th>sku</th>\n",
       "      <th>product_name</th>\n",
       "      <th>product_description</th>\n",
       "      <th>product_price_dirty</th>\n",
       "      <th>product_in_stock</th>\n",
       "      <th>max_price_o_lines</th>\n",
       "      <th>product_price</th>\n",
       "      <th>product_brand</th>\n",
       "    </tr>\n",
       "  </thead>\n",
       "  <tbody>\n",
       "    <tr>\n",
       "      <th>0</th>\n",
       "      <td>2471</td>\n",
       "      <td>DLL0047</td>\n",
       "      <td>Dell E-series E2417H 24 FHD IPS DP VGA</td>\n",
       "      <td>Monitor 24 inch FHD with high vision support w...</td>\n",
       "      <td>196.6</td>\n",
       "      <td>0.0</td>\n",
       "      <td>176.99</td>\n",
       "      <td>196.6</td>\n",
       "      <td>Dell</td>\n",
       "    </tr>\n",
       "    <tr>\n",
       "      <th>1</th>\n",
       "      <td>7435</td>\n",
       "      <td>TUC0305-A</td>\n",
       "      <td>Open - Tucano Nido Hard-Shell Case MacBook Pro...</td>\n",
       "      <td>reconditioned protective housing with slip rub...</td>\n",
       "      <td>34.9</td>\n",
       "      <td>0.0</td>\n",
       "      <td>29.99</td>\n",
       "      <td>34.9</td>\n",
       "      <td>Tucano</td>\n",
       "    </tr>\n",
       "    <tr>\n",
       "      <th>2</th>\n",
       "      <td>7176</td>\n",
       "      <td>TCH0012</td>\n",
       "      <td>Tech21 Evo Check Case iPhone X Rosa</td>\n",
       "      <td>X iPhone case studied to overcome multiple dro...</td>\n",
       "      <td>39.99</td>\n",
       "      <td>1.0</td>\n",
       "      <td>34.99</td>\n",
       "      <td>39.99</td>\n",
       "      <td>Tech21</td>\n",
       "    </tr>\n",
       "    <tr>\n",
       "      <th>3</th>\n",
       "      <td>6890</td>\n",
       "      <td>SPE0179-A</td>\n",
       "      <td>Open - Speck iPhone Case Presidio 7 Plus Black...</td>\n",
       "      <td>cover slip with slim design and touch buttons ...</td>\n",
       "      <td>29.95</td>\n",
       "      <td>0.0</td>\n",
       "      <td>18.91</td>\n",
       "      <td>29.95</td>\n",
       "      <td>Spek SeeThru</td>\n",
       "    </tr>\n",
       "    <tr>\n",
       "      <th>4</th>\n",
       "      <td>6267</td>\n",
       "      <td>QNA0230</td>\n",
       "      <td>QNAP QM2-2P10G1T PCIe expansion card dual 10Gb...</td>\n",
       "      <td>PCIe expansion card to connect two M.2 SSD 10G...</td>\n",
       "      <td>258.69</td>\n",
       "      <td>0.0</td>\n",
       "      <td>257.99</td>\n",
       "      <td>258.69</td>\n",
       "      <td>QNAP</td>\n",
       "    </tr>\n",
       "    <tr>\n",
       "      <th>5</th>\n",
       "      <td>3999</td>\n",
       "      <td>MAK0020-A</td>\n",
       "      <td>Open - Maclocks Security Bundle Case iPad Air ...</td>\n",
       "      <td>Antirobo housing with support for iPad Air</td>\n",
       "      <td>000.000</td>\n",
       "      <td>0.0</td>\n",
       "      <td>59.85</td>\n",
       "      <td>000.000</td>\n",
       "      <td>Maclocks</td>\n",
       "    </tr>\n",
       "    <tr>\n",
       "      <th>6</th>\n",
       "      <td>2756</td>\n",
       "      <td>GRT0386-A</td>\n",
       "      <td>(Open) Griffin Survivor Case Tactical Apple Wa...</td>\n",
       "      <td>Anti-shock Case with Screen Protector for Appl...</td>\n",
       "      <td>34.99</td>\n",
       "      <td>0.0</td>\n",
       "      <td>12.66</td>\n",
       "      <td>34.99</td>\n",
       "      <td>Griffin</td>\n",
       "    </tr>\n",
       "    <tr>\n",
       "      <th>7</th>\n",
       "      <td>1954</td>\n",
       "      <td>BEL0264-A</td>\n",
       "      <td>Open - PowerHouse Base Load Belkin Apple Watch...</td>\n",
       "      <td>Reconditioned support charger and connection L...</td>\n",
       "      <td>99.99</td>\n",
       "      <td>0.0</td>\n",
       "      <td>62.25</td>\n",
       "      <td>99.99</td>\n",
       "      <td>Belkin</td>\n",
       "    </tr>\n",
       "    <tr>\n",
       "      <th>8</th>\n",
       "      <td>6328</td>\n",
       "      <td>REP0243</td>\n",
       "      <td>Microphone Repair iPhone 6</td>\n",
       "      <td>Repair service including parts and labor for i...</td>\n",
       "      <td>000.000</td>\n",
       "      <td>0.0</td>\n",
       "      <td>69.90</td>\n",
       "      <td>000.000</td>\n",
       "      <td>Repair</td>\n",
       "    </tr>\n",
       "    <tr>\n",
       "      <th>9</th>\n",
       "      <td>2701</td>\n",
       "      <td>GLY0014</td>\n",
       "      <td>Glyph StudioRAID System 7200rpm HDD 12TB RAID ...</td>\n",
       "      <td>12TB RAID system with free Thunderbolt 2 and 2...</td>\n",
       "      <td>1057.63</td>\n",
       "      <td>0.0</td>\n",
       "      <td>1007.80</td>\n",
       "      <td>1057.63</td>\n",
       "      <td>Glyph Atom</td>\n",
       "    </tr>\n",
       "  </tbody>\n",
       "</table>\n",
       "</div>"
      ],
      "text/plain": [
       "   index        sku                                       product_name  \\\n",
       "0   2471    DLL0047             Dell E-series E2417H 24 FHD IPS DP VGA   \n",
       "1   7435  TUC0305-A  Open - Tucano Nido Hard-Shell Case MacBook Pro...   \n",
       "2   7176    TCH0012                Tech21 Evo Check Case iPhone X Rosa   \n",
       "3   6890  SPE0179-A  Open - Speck iPhone Case Presidio 7 Plus Black...   \n",
       "4   6267    QNA0230  QNAP QM2-2P10G1T PCIe expansion card dual 10Gb...   \n",
       "5   3999  MAK0020-A  Open - Maclocks Security Bundle Case iPad Air ...   \n",
       "6   2756  GRT0386-A  (Open) Griffin Survivor Case Tactical Apple Wa...   \n",
       "7   1954  BEL0264-A  Open - PowerHouse Base Load Belkin Apple Watch...   \n",
       "8   6328    REP0243                         Microphone Repair iPhone 6   \n",
       "9   2701    GLY0014  Glyph StudioRAID System 7200rpm HDD 12TB RAID ...   \n",
       "\n",
       "                                 product_description product_price_dirty  \\\n",
       "0  Monitor 24 inch FHD with high vision support w...               196.6   \n",
       "1  reconditioned protective housing with slip rub...                34.9   \n",
       "2  X iPhone case studied to overcome multiple dro...               39.99   \n",
       "3  cover slip with slim design and touch buttons ...               29.95   \n",
       "4  PCIe expansion card to connect two M.2 SSD 10G...              258.69   \n",
       "5         Antirobo housing with support for iPad Air             000.000   \n",
       "6  Anti-shock Case with Screen Protector for Appl...               34.99   \n",
       "7  Reconditioned support charger and connection L...               99.99   \n",
       "8  Repair service including parts and labor for i...             000.000   \n",
       "9  12TB RAID system with free Thunderbolt 2 and 2...             1057.63   \n",
       "\n",
       "   product_in_stock  max_price_o_lines product_price product_brand  \n",
       "0               0.0             176.99         196.6          Dell  \n",
       "1               0.0              29.99          34.9        Tucano  \n",
       "2               1.0              34.99         39.99        Tech21  \n",
       "3               0.0              18.91         29.95  Spek SeeThru  \n",
       "4               0.0             257.99        258.69          QNAP  \n",
       "5               0.0              59.85       000.000      Maclocks  \n",
       "6               0.0              12.66         34.99       Griffin  \n",
       "7               0.0              62.25         99.99        Belkin  \n",
       "8               0.0              69.90       000.000        Repair  \n",
       "9               0.0            1007.80       1057.63    Glyph Atom  "
      ]
     },
     "execution_count": 333,
     "metadata": {},
     "output_type": "execute_result"
    }
   ],
   "source": [
    "\n",
    "    products.sample(10).reset_index()\n",
    "    "
   ]
  },
  {
   "cell_type": "markdown",
   "id": "638e79b6",
   "metadata": {},
   "source": [
    "### Info - Types Range, Non Null Count, Dtype"
   ]
  },
  {
   "cell_type": "markdown",
   "id": "ccfa29aa",
   "metadata": {},
   "source": [
    "#### Before"
   ]
  },
  {
   "cell_type": "code",
   "execution_count": null,
   "id": "a40edac8",
   "metadata": {},
   "outputs": [
    {
     "name": "stdout",
     "output_type": "stream",
     "text": [
      "<class 'pandas.core.frame.DataFrame'>\n",
      "RangeIndex: 19326 entries, 0 to 19325\n",
      "Data columns (total 7 columns):\n",
      " #   Column       Non-Null Count  Dtype \n",
      "---  ------       --------------  ----- \n",
      " 0   sku          19326 non-null  object\n",
      " 1   name         19326 non-null  object\n",
      " 2   desc         19319 non-null  object\n",
      " 3   price        19280 non-null  object\n",
      " 4   promo_price  19326 non-null  object\n",
      " 5   in_stock     19326 non-null  int64 \n",
      " 6   type         19276 non-null  object\n",
      "dtypes: int64(1), object(6)\n",
      "memory usage: 1.0+ MB\n"
     ]
    }
   ],
   "source": [
    "init_df.info()"
   ]
  },
  {
   "cell_type": "markdown",
   "id": "60664a60",
   "metadata": {},
   "source": [
    "#### After"
   ]
  },
  {
   "cell_type": "code",
   "execution_count": null,
   "id": "cf03966c",
   "metadata": {},
   "outputs": [
    {
     "name": "stdout",
     "output_type": "stream",
     "text": [
      "<class 'pandas.core.frame.DataFrame'>\n",
      "Int64Index: 7951 entries, 0 to 7950\n",
      "Data columns (total 8 columns):\n",
      " #   Column               Non-Null Count  Dtype   \n",
      "---  ------               --------------  -----   \n",
      " 0   sku                  7951 non-null   string  \n",
      " 1   product_name         7850 non-null   string  \n",
      " 2   product_description  7844 non-null   string  \n",
      " 3   product_price_dirty  7850 non-null   string  \n",
      " 4   product_in_stock     7850 non-null   float64 \n",
      " 5   max_price_o_lines    7951 non-null   float64 \n",
      " 6   product_price        7850 non-null   string  \n",
      " 7   product_brand        7873 non-null   category\n",
      "dtypes: category(1), float64(2), string(5)\n",
      "memory usage: 518.0 KB\n"
     ]
    }
   ],
   "source": [
    "products.info()"
   ]
  },
  {
   "cell_type": "code",
   "execution_count": null,
   "id": "25928222",
   "metadata": {},
   "outputs": [],
   "source": []
  }
 ],
 "metadata": {
  "kernelspec": {
   "display_name": "Python 3 (ipykernel)",
   "language": "python",
   "name": "python3"
  },
  "language_info": {
   "codemirror_mode": {
    "name": "ipython",
    "version": 3
   },
   "file_extension": ".py",
   "mimetype": "text/x-python",
   "name": "python",
   "nbconvert_exporter": "python",
   "pygments_lexer": "ipython3",
   "version": "3.9.7"
  },
  "toc-showmarkdowntxt": false
 },
 "nbformat": 4,
 "nbformat_minor": 5
}
