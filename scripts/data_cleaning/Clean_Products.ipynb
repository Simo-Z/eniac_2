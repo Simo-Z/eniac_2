{
 "cells": [
  {
   "cell_type": "markdown",
   "id": "03efac02",
   "metadata": {},
   "source": [
    "# Clean Products"
   ]
  },
  {
   "cell_type": "markdown",
   "id": "7138082b-80dd-4607-97a2-8d5d1c70d8fe",
   "metadata": {},
   "source": [
    "## Import Packages and Raw_data"
   ]
  },
  {
   "cell_type": "code",
   "execution_count": 1,
   "id": "819a34c1-9a8e-43cc-b34d-c49938ede945",
   "metadata": {},
   "outputs": [
    {
     "name": "stdout",
     "output_type": "stream",
     "text": [
      "<class 'pandas.core.frame.DataFrame'>\n",
      "RangeIndex: 19326 entries, 0 to 19325\n",
      "Data columns (total 7 columns):\n",
      " #   Column       Non-Null Count  Dtype \n",
      "---  ------       --------------  ----- \n",
      " 0   sku          19326 non-null  object\n",
      " 1   name         19326 non-null  object\n",
      " 2   desc         19319 non-null  object\n",
      " 3   price        19280 non-null  object\n",
      " 4   promo_price  19326 non-null  object\n",
      " 5   in_stock     19326 non-null  int64 \n",
      " 6   type         19276 non-null  object\n",
      "dtypes: int64(1), object(6)\n",
      "memory usage: 1.0+ MB\n"
     ]
    }
   ],
   "source": [
    "import pandas as pd\n",
    "import numpy as np\n",
    "import matplotlib.pyplot as plt\n",
    "\n",
    "# Global variables\n",
    "df_name = \"products\" \n",
    "data_path = '../../data/raw_data/' \n",
    "cl_data_path = '../../data/clean_data/' \n",
    "\n",
    "\n",
    "init_df = pd.read_csv(f\"{data_path }{df_name}.csv\")\n",
    "o_lines_cleaned = pd.read_csv(f\"{cl_data_path}clean_orderlines.csv\")\n",
    "brands_cleaned = pd.read_csv(f\"{cl_data_path}clean_brands.csv\")\n",
    "\n",
    "init_df.info()\n"
   ]
  },
  {
   "cell_type": "markdown",
   "id": "988110a7-0c79-4798-96b6-02dcba2dee2d",
   "metadata": {},
   "source": [
    "## Logging"
   ]
  },
  {
   "cell_type": "code",
   "execution_count": 2,
   "id": "6620dfdd-fcd1-423d-b5ae-9aaa69c5703e",
   "metadata": {},
   "outputs": [],
   "source": [
    "from functools import wraps\n",
    "import datetime as dt\n",
    "\n",
    "def log_step(func):\n",
    "    @wraps(func)\n",
    "    def wrapper(*args, **kwargs):\n",
    "        tic = dt.datetime.now()\n",
    "        result = func(*args, **kwargs)\n",
    "        time_taken = str(dt.datetime.now() - tic)\n",
    "        print(f\"{func.__name__}:\\n shape={result.shape} took {time_taken}s\\n\")\n",
    "        return result\n",
    "\n",
    "    return wrapper"
   ]
  },
  {
   "cell_type": "markdown",
   "id": "39688f83",
   "metadata": {},
   "source": [
    "## Plot Function"
   ]
  },
  {
   "cell_type": "code",
   "execution_count": 3,
   "id": "3ad9e84d",
   "metadata": {},
   "outputs": [],
   "source": [
    "def plot_lines(\n",
    "    lines,\n",
    "    x,\n",
    "    title = \"\", \n",
    "    legend =\"\", \n",
    "    x_label=\"\", \n",
    "    y_label=\"\",\n",
    "    x_ticks =\"\",\n",
    "    width = 22,\n",
    "    height= 5\n",
    "    ):\n",
    "    ax = plt.subplots(figsize=(width, height))\n",
    "    plt.plot(x, lines[0], \"\" )\n",
    "    plt.plot(x,lines[1], \"r\")\n",
    "    plt.title(title)\n",
    "    plt.legend(legend)\n",
    "    plt.ylabel(y_label)\n",
    "    plt.xlabel(x_label)\n",
    "    plt.xticks(x_ticks, rotation=90)\n",
    "    plt.show()\n",
    "    "
   ]
  },
  {
   "cell_type": "markdown",
   "id": "94d42427-88df-45f3-bba6-9abf1d93f9ed",
   "metadata": {},
   "source": [
    "## Pipeline - Functions"
   ]
  },
  {
   "cell_type": "markdown",
   "id": "aff48f49-1a09-4483-8bf9-bd90bf3d9cc6",
   "metadata": {},
   "source": [
    "- [x]  Start\n",
    "- [x]  Remove duplicates\n",
    "- [_]  dots in price\n",
    "- [_]  other weird numbers\n",
    "- [_]  Missing values\n",
    "- [_]  Prices to Numeric"
   ]
  },
  {
   "cell_type": "markdown",
   "id": "66726894-88a8-4102-9977-a77a43c6d592",
   "metadata": {},
   "source": [
    "### Start Pipeline"
   ]
  },
  {
   "cell_type": "code",
   "execution_count": 4,
   "id": "aab6744b-d4cd-40a8-b71c-6e38fd5e272c",
   "metadata": {},
   "outputs": [],
   "source": [
    "@log_step\n",
    "def start_pipeline(df):\n",
    "    return df.copy()"
   ]
  },
  {
   "cell_type": "markdown",
   "id": "4f7a25ba-a89a-494e-9809-2311b5a8233a",
   "metadata": {},
   "source": [
    "### Rename Columns"
   ]
  },
  {
   "cell_type": "code",
   "execution_count": 5,
   "id": "fc2b2767-782e-4699-8e91-72f150543877",
   "metadata": {},
   "outputs": [],
   "source": [
    "def rename_columns(df):\n",
    "    return (\n",
    "        df\n",
    "        .rename(columns={\n",
    "            \"name\":  \"product_name\",      \n",
    "            \"desc\":\"product_description\",\n",
    "            \"price\":\"product_price\",        \n",
    "            \"promo_price\":\"product_promo_price\",\n",
    "            \"in_stock\": \"product_in_stock\", \n",
    "            \"type\":\"product_type\"\n",
    "            }\n",
    "        )\n",
    "    )       "
   ]
  },
  {
   "cell_type": "markdown",
   "id": "d54d0e78-301b-4247-951e-e9dae07e59ba",
   "metadata": {},
   "source": [
    "### Remove duplicates\n",
    "\n",
    "Use `DataFrame.drop_duplicates()` to remove rows that appear twice (or more) in the dataset: that means that these rows contain exactly the same values across all columns. Set the argument `inplace=True` so that changes actually take place. You can count the rows before and after running this code with `len()` and see how many rows were dropped this way.\n",
    "\n",
    "It is possible that, after doing this, you still have a duplicate sku, which you should not have —Stock Keeping Units are meant to be unique`"
   ]
  },
  {
   "cell_type": "code",
   "execution_count": 6,
   "id": "8453c0be-e46e-4dde-b8c4-449bb1c8738a",
   "metadata": {},
   "outputs": [],
   "source": [
    "@log_step\n",
    "def remove_duplicates(df):\n",
    "    df.drop_duplicates(inplace = True)\n",
    "    # there is one dupiceted sku --> removed the one with missing price. Index 8000 (second appearence)\n",
    "    df.drop_duplicates(subset='sku', keep=\"first\", inplace = True )\n",
    "    return df \n",
    "    \n"
   ]
  },
  {
   "cell_type": "markdown",
   "id": "f647c2a2",
   "metadata": {},
   "source": [
    "### Adjust price"
   ]
  },
  {
   "cell_type": "code",
   "execution_count": 7,
   "id": "e5e9ed3e-7772-4396-9bf4-f3accb101a10",
   "metadata": {},
   "outputs": [],
   "source": [
    "\n",
    "\n",
    "\n",
    "@log_step\n",
    "def adjust_price(df):\n",
    "    # Make sure that every price is a string\n",
    "    df[\"product_price\"] = df[\"product_price\"].astype(\"string\")\n",
    "    # fill na values with \"000.000\"\n",
    "    df['product_price'] = df['product_price'].fillna(\"000.000\")\n",
    "    df = df.assign(price_check = df[\"product_price\"].str.contains(\"\\.\\d{3}$\"))\n",
    "    \n",
    "    # Get maximum unit_price from orderlines  \n",
    "\n",
    "\n",
    "\n",
    "    return df"
   ]
  },
  {
   "cell_type": "markdown",
   "id": "cfb609d4",
   "metadata": {},
   "source": [
    "### Missing Values"
   ]
  },
  {
   "cell_type": "code",
   "execution_count": 8,
   "id": "3f833e4d",
   "metadata": {},
   "outputs": [],
   "source": [
    "@log_step\n",
    "def missing_values(df):\n",
    "    return df"
   ]
  },
  {
   "cell_type": "markdown",
   "id": "c7019c19",
   "metadata": {},
   "source": [
    "### Adjust data types"
   ]
  },
  {
   "cell_type": "code",
   "execution_count": 9,
   "id": "b9cef212",
   "metadata": {},
   "outputs": [],
   "source": [
    "@log_step\n",
    "def adjust_data_types(df):\n",
    "    df[\"sku\"] = df[\"sku\"].astype(\"string\")\n",
    "    df[\"product_name\"] = df[\"product_name\"].astype(\"string\")\n",
    "    df[\"product_description\"] = df[\"product_description\"].astype(\"string\")\n",
    "\n",
    "    return df"
   ]
  },
  {
   "cell_type": "markdown",
   "id": "de5ac4d3",
   "metadata": {},
   "source": [
    "### Plot Samples"
   ]
  },
  {
   "cell_type": "code",
   "execution_count": 10,
   "id": "5afa18d3",
   "metadata": {},
   "outputs": [],
   "source": [
    "@log_step\n",
    "def plot_samples(df, num_samples = 50):\n",
    "    return df"
   ]
  },
  {
   "cell_type": "markdown",
   "id": "e2474140",
   "metadata": {},
   "source": [
    "### Drop Columns"
   ]
  },
  {
   "cell_type": "code",
   "execution_count": 11,
   "id": "71232642",
   "metadata": {},
   "outputs": [],
   "source": [
    "@log_step\n",
    "def drop_columns(df, columns):\n",
    "    return df.drop(columns=columns)\n"
   ]
  },
  {
   "cell_type": "markdown",
   "id": "c6bc51a7",
   "metadata": {},
   "source": [
    "### Add columns"
   ]
  },
  {
   "cell_type": "code",
   "execution_count": 12,
   "id": "75f22355",
   "metadata": {},
   "outputs": [],
   "source": [
    "@log_step\n",
    "def add_columns(df):\n",
    "    df = df.assign(product_brand_short = df[\"sku\"].replace(\"^(\\w{3})\",\"\\g<1>\", regex = True))\n",
    "    df = df.assign(product_brand = brands_cleaned[\"brand_long\"])\n",
    "    \n",
    "    return df"
   ]
  },
  {
   "cell_type": "markdown",
   "id": "163e5fd5",
   "metadata": {},
   "source": [
    "### End Pipeline"
   ]
  },
  {
   "cell_type": "code",
   "execution_count": 13,
   "id": "120b5445",
   "metadata": {},
   "outputs": [],
   "source": [
    "@log_step\n",
    "def end_pipeline(df):\n",
    "    df.to_csv(f\"../../data/clean_data/clean_{df_name}.csv\", index = False)\n",
    "    return df"
   ]
  },
  {
   "cell_type": "markdown",
   "id": "75b48789-4011-43c0-b453-ccd8003b2bfb",
   "metadata": {},
   "source": [
    "## Run Cleaning"
   ]
  },
  {
   "cell_type": "code",
   "execution_count": 14,
   "id": "17228ead-fc86-4dc6-8707-500ea870ef17",
   "metadata": {},
   "outputs": [
    {
     "name": "stdout",
     "output_type": "stream",
     "text": [
      "start_pipeline:\n",
      " shape=(19326, 7) took 0:00:00.001832s\n",
      "\n",
      "remove_duplicates:\n",
      " shape=(10579, 7) took 0:00:00.027897s\n",
      "\n",
      "adjust_price:\n",
      " shape=(10579, 8) took 0:00:00.011594s\n",
      "\n",
      "missing_values:\n",
      " shape=(10579, 8) took 0:00:00.000004s\n",
      "\n",
      "adjust_data_types:\n",
      " shape=(10579, 8) took 0:00:00.005883s\n",
      "\n",
      "plot_samples:\n",
      " shape=(10579, 8) took 0:00:00.000004s\n",
      "\n",
      "drop_columns:\n",
      " shape=(10579, 7) took 0:00:00.000834s\n",
      "\n",
      "add_columns:\n",
      " shape=(10579, 9) took 0:00:00.059692s\n",
      "\n",
      "end_pipeline:\n",
      " shape=(10579, 9) took 0:00:00.076133s\n",
      "\n"
     ]
    }
   ],
   "source": [
    "products = (\n",
    "init_df\n",
    "    .pipe(start_pipeline)\n",
    "    .pipe(rename_columns)\n",
    "    .pipe(remove_duplicates)\n",
    "    .pipe(adjust_price)\n",
    "    .pipe(missing_values)  \n",
    "    .pipe(adjust_data_types) \n",
    "    .pipe(plot_samples) \n",
    "    .pipe(drop_columns, columns=[\"product_type\"])\n",
    "    .pipe(add_columns) # product_brand\n",
    "    .pipe(end_pipeline)\n",
    ")"
   ]
  },
  {
   "cell_type": "code",
   "execution_count": 15,
   "id": "b8776352",
   "metadata": {},
   "outputs": [
    {
     "name": "stdout",
     "output_type": "stream",
     "text": [
      "<class 'pandas.core.frame.DataFrame'>\n",
      "Int64Index: 10579 entries, 0 to 19325\n",
      "Data columns (total 9 columns):\n",
      " #   Column               Non-Null Count  Dtype  \n",
      "---  ------               --------------  -----  \n",
      " 0   sku                  10579 non-null  string \n",
      " 1   product_name         10579 non-null  string \n",
      " 2   product_description  10572 non-null  string \n",
      " 3   product_price        10579 non-null  string \n",
      " 4   product_promo_price  10579 non-null  object \n",
      " 5   product_in_stock     10579 non-null  int64  \n",
      " 6   price_check          10579 non-null  boolean\n",
      " 7   product_brand_short  10579 non-null  string \n",
      " 8   product_brand        110 non-null    object \n",
      "dtypes: boolean(1), int64(1), object(2), string(5)\n",
      "memory usage: 764.5+ KB\n"
     ]
    }
   ],
   "source": [
    "products.info()"
   ]
  },
  {
   "cell_type": "code",
   "execution_count": 16,
   "id": "31895137",
   "metadata": {},
   "outputs": [
    {
     "data": {
      "text/html": [
       "<div>\n",
       "<style scoped>\n",
       "    .dataframe tbody tr th:only-of-type {\n",
       "        vertical-align: middle;\n",
       "    }\n",
       "\n",
       "    .dataframe tbody tr th {\n",
       "        vertical-align: top;\n",
       "    }\n",
       "\n",
       "    .dataframe thead th {\n",
       "        text-align: right;\n",
       "    }\n",
       "</style>\n",
       "<table border=\"1\" class=\"dataframe\">\n",
       "  <thead>\n",
       "    <tr style=\"text-align: right;\">\n",
       "      <th></th>\n",
       "      <th>sku</th>\n",
       "      <th>product_name</th>\n",
       "      <th>product_description</th>\n",
       "      <th>product_price</th>\n",
       "      <th>product_promo_price</th>\n",
       "      <th>product_in_stock</th>\n",
       "      <th>price_check</th>\n",
       "      <th>product_brand_short</th>\n",
       "      <th>product_brand</th>\n",
       "    </tr>\n",
       "  </thead>\n",
       "  <tbody>\n",
       "    <tr>\n",
       "      <th>34</th>\n",
       "      <td>TWS0019</td>\n",
       "      <td>Twelve South MagicWand support Apple Magic Tra...</td>\n",
       "      <td>MagicWand for wireless keyboard and Magic Trac...</td>\n",
       "      <td>000.000</td>\n",
       "      <td>299.899</td>\n",
       "      <td>0</td>\n",
       "      <td>True</td>\n",
       "      <td>TWS0019</td>\n",
       "      <td>Elago</td>\n",
       "    </tr>\n",
       "    <tr>\n",
       "      <th>362</th>\n",
       "      <td>REP0043</td>\n",
       "      <td>Speaker lower repair iPhone 4</td>\n",
       "      <td>Repair service including parts and labor for i...</td>\n",
       "      <td>499.004</td>\n",
       "      <td>499.004</td>\n",
       "      <td>0</td>\n",
       "      <td>True</td>\n",
       "      <td>REP0043</td>\n",
       "      <td>NaN</td>\n",
       "    </tr>\n",
       "    <tr>\n",
       "      <th>480</th>\n",
       "      <td>PIE0011</td>\n",
       "      <td>Internal Battery for iPhone 3G</td>\n",
       "      <td>Replacement AC Adapter for Apple iPhone 3G.</td>\n",
       "      <td>98.978</td>\n",
       "      <td>98.978</td>\n",
       "      <td>0</td>\n",
       "      <td>True</td>\n",
       "      <td>PIE0011</td>\n",
       "      <td>NaN</td>\n",
       "    </tr>\n",
       "    <tr>\n",
       "      <th>515</th>\n",
       "      <td>SEN0061</td>\n",
       "      <td>Sennheiser EZX 80 Handsfree iPhone iPad and iP...</td>\n",
       "      <td>IPhone bluetooth headset with microphone iPad ...</td>\n",
       "      <td>649.891</td>\n",
       "      <td>649.891</td>\n",
       "      <td>0</td>\n",
       "      <td>True</td>\n",
       "      <td>SEN0061</td>\n",
       "      <td>NaN</td>\n",
       "    </tr>\n",
       "    <tr>\n",
       "      <th>518</th>\n",
       "      <td>SEV0026</td>\n",
       "      <td>Service installation RAM + HDD + SSD MacBook /...</td>\n",
       "      <td>RAM + HDD installation + SSD in your MacBook /...</td>\n",
       "      <td>599.918</td>\n",
       "      <td>599.918</td>\n",
       "      <td>0</td>\n",
       "      <td>True</td>\n",
       "      <td>SEV0026</td>\n",
       "      <td>NaN</td>\n",
       "    </tr>\n",
       "    <tr>\n",
       "      <th>...</th>\n",
       "      <td>...</td>\n",
       "      <td>...</td>\n",
       "      <td>...</td>\n",
       "      <td>...</td>\n",
       "      <td>...</td>\n",
       "      <td>...</td>\n",
       "      <td>...</td>\n",
       "      <td>...</td>\n",
       "      <td>...</td>\n",
       "    </tr>\n",
       "    <tr>\n",
       "      <th>19312</th>\n",
       "      <td>REP0424</td>\n",
       "      <td>Input repair Headphones iPad</td>\n",
       "      <td>Repair service including parts and labor for iPad</td>\n",
       "      <td>6.999.003</td>\n",
       "      <td>69.99</td>\n",
       "      <td>0</td>\n",
       "      <td>True</td>\n",
       "      <td>REP0424</td>\n",
       "      <td>NaN</td>\n",
       "    </tr>\n",
       "    <tr>\n",
       "      <th>19313</th>\n",
       "      <td>REP0421</td>\n",
       "      <td>iPad charging connector repair</td>\n",
       "      <td>Repair service including parts and labor for iPad</td>\n",
       "      <td>6.999.003</td>\n",
       "      <td>69.99</td>\n",
       "      <td>0</td>\n",
       "      <td>True</td>\n",
       "      <td>REP0421</td>\n",
       "      <td>NaN</td>\n",
       "    </tr>\n",
       "    <tr>\n",
       "      <th>19314</th>\n",
       "      <td>REP0416</td>\n",
       "      <td>iPad front camera repair</td>\n",
       "      <td>Repair service including parts and labor for iPad</td>\n",
       "      <td>6.999.003</td>\n",
       "      <td>69.99</td>\n",
       "      <td>0</td>\n",
       "      <td>True</td>\n",
       "      <td>REP0416</td>\n",
       "      <td>NaN</td>\n",
       "    </tr>\n",
       "    <tr>\n",
       "      <th>19315</th>\n",
       "      <td>REP0413</td>\n",
       "      <td>repair rear camera iPad</td>\n",
       "      <td>Repair service including parts and labor for iPad</td>\n",
       "      <td>6.999.003</td>\n",
       "      <td>69.99</td>\n",
       "      <td>0</td>\n",
       "      <td>True</td>\n",
       "      <td>REP0413</td>\n",
       "      <td>NaN</td>\n",
       "    </tr>\n",
       "    <tr>\n",
       "      <th>19316</th>\n",
       "      <td>REP0407</td>\n",
       "      <td>iPad battery repair</td>\n",
       "      <td>Repair service including parts and labor for iPad</td>\n",
       "      <td>6.999.003</td>\n",
       "      <td>69.99</td>\n",
       "      <td>0</td>\n",
       "      <td>True</td>\n",
       "      <td>REP0407</td>\n",
       "      <td>NaN</td>\n",
       "    </tr>\n",
       "  </tbody>\n",
       "</table>\n",
       "<p>587 rows × 9 columns</p>\n",
       "</div>"
      ],
      "text/plain": [
       "           sku                                       product_name  \\\n",
       "34     TWS0019  Twelve South MagicWand support Apple Magic Tra...   \n",
       "362    REP0043                      Speaker lower repair iPhone 4   \n",
       "480    PIE0011                     Internal Battery for iPhone 3G   \n",
       "515    SEN0061  Sennheiser EZX 80 Handsfree iPhone iPad and iP...   \n",
       "518    SEV0026  Service installation RAM + HDD + SSD MacBook /...   \n",
       "...        ...                                                ...   \n",
       "19312  REP0424                       Input repair Headphones iPad   \n",
       "19313  REP0421                     iPad charging connector repair   \n",
       "19314  REP0416                           iPad front camera repair   \n",
       "19315  REP0413                            repair rear camera iPad   \n",
       "19316  REP0407                                iPad battery repair   \n",
       "\n",
       "                                     product_description product_price  \\\n",
       "34     MagicWand for wireless keyboard and Magic Trac...       000.000   \n",
       "362    Repair service including parts and labor for i...       499.004   \n",
       "480          Replacement AC Adapter for Apple iPhone 3G.        98.978   \n",
       "515    IPhone bluetooth headset with microphone iPad ...       649.891   \n",
       "518    RAM + HDD installation + SSD in your MacBook /...       599.918   \n",
       "...                                                  ...           ...   \n",
       "19312  Repair service including parts and labor for iPad     6.999.003   \n",
       "19313  Repair service including parts and labor for iPad     6.999.003   \n",
       "19314  Repair service including parts and labor for iPad     6.999.003   \n",
       "19315  Repair service including parts and labor for iPad     6.999.003   \n",
       "19316  Repair service including parts and labor for iPad     6.999.003   \n",
       "\n",
       "      product_promo_price  product_in_stock  price_check product_brand_short  \\\n",
       "34                299.899                 0         True             TWS0019   \n",
       "362               499.004                 0         True             REP0043   \n",
       "480                98.978                 0         True             PIE0011   \n",
       "515               649.891                 0         True             SEN0061   \n",
       "518               599.918                 0         True             SEV0026   \n",
       "...                   ...               ...          ...                 ...   \n",
       "19312               69.99                 0         True             REP0424   \n",
       "19313               69.99                 0         True             REP0421   \n",
       "19314               69.99                 0         True             REP0416   \n",
       "19315               69.99                 0         True             REP0413   \n",
       "19316               69.99                 0         True             REP0407   \n",
       "\n",
       "      product_brand  \n",
       "34            Elago  \n",
       "362             NaN  \n",
       "480             NaN  \n",
       "515             NaN  \n",
       "518             NaN  \n",
       "...             ...  \n",
       "19312           NaN  \n",
       "19313           NaN  \n",
       "19314           NaN  \n",
       "19315           NaN  \n",
       "19316           NaN  \n",
       "\n",
       "[587 rows x 9 columns]"
      ]
     },
     "execution_count": 16,
     "metadata": {},
     "output_type": "execute_result"
    }
   ],
   "source": [
    "sample = (\n",
    "products[products[\"price_check\"]]\n",
    ")\n",
    "\n",
    "sample"
   ]
  },
  {
   "cell_type": "code",
   "execution_count": 18,
   "id": "a40edac8",
   "metadata": {},
   "outputs": [
    {
     "name": "stdout",
     "output_type": "stream",
     "text": [
      "<class 'pandas.core.frame.DataFrame'>\n",
      "RangeIndex: 293983 entries, 0 to 293982\n",
      "Data columns (total 7 columns):\n",
      " #   Column              Non-Null Count   Dtype  \n",
      "---  ------              --------------   -----  \n",
      " 0   o_line_id           293983 non-null  int64  \n",
      " 1   order_id            293983 non-null  int64  \n",
      " 2   o_line_product_id   293983 non-null  int64  \n",
      " 3   o_line_product_qty  293983 non-null  int64  \n",
      " 4   sku                 293983 non-null  object \n",
      " 5   o_line_unit_price   293983 non-null  float64\n",
      " 6   o_line_date         293983 non-null  object \n",
      "dtypes: float64(1), int64(4), object(2)\n",
      "memory usage: 15.7+ MB\n"
     ]
    }
   ],
   "source": [
    "o_lines_cleaned.info()"
   ]
  },
  {
   "cell_type": "code",
   "execution_count": 19,
   "id": "cf03966c",
   "metadata": {},
   "outputs": [
    {
     "name": "stdout",
     "output_type": "stream",
     "text": [
      "<class 'pandas.core.frame.DataFrame'>\n",
      "RangeIndex: 293983 entries, 0 to 293982\n",
      "Data columns (total 7 columns):\n",
      " #   Column              Non-Null Count   Dtype  \n",
      "---  ------              --------------   -----  \n",
      " 0   o_line_id           293983 non-null  int64  \n",
      " 1   order_id            293983 non-null  int64  \n",
      " 2   o_line_product_id   293983 non-null  int64  \n",
      " 3   o_line_product_qty  293983 non-null  int64  \n",
      " 4   sku                 293983 non-null  object \n",
      " 5   o_line_unit_price   293983 non-null  float64\n",
      " 6   o_line_date         293983 non-null  object \n",
      "dtypes: float64(1), int64(4), object(2)\n",
      "memory usage: 15.7+ MB\n"
     ]
    }
   ],
   "source": [
    "o_lines_cleaned.info()"
   ]
  },
  {
   "cell_type": "code",
   "execution_count": 22,
   "id": "f5516ca5",
   "metadata": {},
   "outputs": [
    {
     "data": {
      "text/html": [
       "<div>\n",
       "<style scoped>\n",
       "    .dataframe tbody tr th:only-of-type {\n",
       "        vertical-align: middle;\n",
       "    }\n",
       "\n",
       "    .dataframe tbody tr th {\n",
       "        vertical-align: top;\n",
       "    }\n",
       "\n",
       "    .dataframe thead th {\n",
       "        text-align: right;\n",
       "    }\n",
       "</style>\n",
       "<table border=\"1\" class=\"dataframe\">\n",
       "  <thead>\n",
       "    <tr style=\"text-align: right;\">\n",
       "      <th></th>\n",
       "      <th>sku</th>\n",
       "      <th>o_line_id</th>\n",
       "      <th>order_id</th>\n",
       "      <th>o_line_product_id</th>\n",
       "      <th>o_line_product_qty</th>\n",
       "      <th>o_line_unit_price</th>\n",
       "      <th>o_line_date</th>\n",
       "    </tr>\n",
       "  </thead>\n",
       "  <tbody>\n",
       "    <tr>\n",
       "      <th>0</th>\n",
       "      <td>NEA0009</td>\n",
       "      <td>1645998</td>\n",
       "      <td>525385</td>\n",
       "      <td>0</td>\n",
       "      <td>7</td>\n",
       "      <td>159989.83</td>\n",
       "      <td>2018-03-11 11:42:22</td>\n",
       "    </tr>\n",
       "    <tr>\n",
       "      <th>1</th>\n",
       "      <td>LAC0223</td>\n",
       "      <td>1623118</td>\n",
       "      <td>515661</td>\n",
       "      <td>0</td>\n",
       "      <td>10</td>\n",
       "      <td>15349.00</td>\n",
       "      <td>2018-02-21 19:59:58</td>\n",
       "    </tr>\n",
       "    <tr>\n",
       "      <th>2</th>\n",
       "      <td>APP2660</td>\n",
       "      <td>1639306</td>\n",
       "      <td>522845</td>\n",
       "      <td>0</td>\n",
       "      <td>4</td>\n",
       "      <td>14725.00</td>\n",
       "      <td>2018-03-07 16:40:22</td>\n",
       "    </tr>\n",
       "    <tr>\n",
       "      <th>3</th>\n",
       "      <td>APP2659</td>\n",
       "      <td>1625977</td>\n",
       "      <td>516941</td>\n",
       "      <td>0</td>\n",
       "      <td>1</td>\n",
       "      <td>13799.00</td>\n",
       "      <td>2018-02-24 20:48:48</td>\n",
       "    </tr>\n",
       "    <tr>\n",
       "      <th>4</th>\n",
       "      <td>APP2648</td>\n",
       "      <td>1639157</td>\n",
       "      <td>522781</td>\n",
       "      <td>0</td>\n",
       "      <td>1</td>\n",
       "      <td>12428.03</td>\n",
       "      <td>2018-03-07 14:39:08</td>\n",
       "    </tr>\n",
       "    <tr>\n",
       "      <th>...</th>\n",
       "      <td>...</td>\n",
       "      <td>...</td>\n",
       "      <td>...</td>\n",
       "      <td>...</td>\n",
       "      <td>...</td>\n",
       "      <td>...</td>\n",
       "      <td>...</td>\n",
       "    </tr>\n",
       "    <tr>\n",
       "      <th>7946</th>\n",
       "      <td>PAR0037</td>\n",
       "      <td>1593909</td>\n",
       "      <td>503425</td>\n",
       "      <td>0</td>\n",
       "      <td>1</td>\n",
       "      <td>2.24</td>\n",
       "      <td>2018-01-31 23:46:51</td>\n",
       "    </tr>\n",
       "    <tr>\n",
       "      <th>7947</th>\n",
       "      <td>CAD0008</td>\n",
       "      <td>1309160</td>\n",
       "      <td>384544</td>\n",
       "      <td>0</td>\n",
       "      <td>1</td>\n",
       "      <td>1.39</td>\n",
       "      <td>2017-08-01 17:57:23</td>\n",
       "    </tr>\n",
       "    <tr>\n",
       "      <th>7948</th>\n",
       "      <td>CAD0010</td>\n",
       "      <td>1309165</td>\n",
       "      <td>384617</td>\n",
       "      <td>0</td>\n",
       "      <td>1</td>\n",
       "      <td>0.29</td>\n",
       "      <td>2017-08-01 18:00:43</td>\n",
       "    </tr>\n",
       "    <tr>\n",
       "      <th>7949</th>\n",
       "      <td>LIBRO</td>\n",
       "      <td>1264215</td>\n",
       "      <td>359326</td>\n",
       "      <td>0</td>\n",
       "      <td>24</td>\n",
       "      <td>0.00</td>\n",
       "      <td>2017-06-08 18:11:40</td>\n",
       "    </tr>\n",
       "    <tr>\n",
       "      <th>7950</th>\n",
       "      <td>ENV0505</td>\n",
       "      <td>1259481</td>\n",
       "      <td>361198</td>\n",
       "      <td>0</td>\n",
       "      <td>1</td>\n",
       "      <td>0.00</td>\n",
       "      <td>2017-06-01 12:41:19</td>\n",
       "    </tr>\n",
       "  </tbody>\n",
       "</table>\n",
       "<p>7951 rows × 7 columns</p>\n",
       "</div>"
      ],
      "text/plain": [
       "          sku  o_line_id  order_id  o_line_product_id  o_line_product_qty  \\\n",
       "0     NEA0009    1645998    525385                  0                   7   \n",
       "1     LAC0223    1623118    515661                  0                  10   \n",
       "2     APP2660    1639306    522845                  0                   4   \n",
       "3     APP2659    1625977    516941                  0                   1   \n",
       "4     APP2648    1639157    522781                  0                   1   \n",
       "...       ...        ...       ...                ...                 ...   \n",
       "7946  PAR0037    1593909    503425                  0                   1   \n",
       "7947  CAD0008    1309160    384544                  0                   1   \n",
       "7948  CAD0010    1309165    384617                  0                   1   \n",
       "7949    LIBRO    1264215    359326                  0                  24   \n",
       "7950  ENV0505    1259481    361198                  0                   1   \n",
       "\n",
       "      o_line_unit_price          o_line_date  \n",
       "0             159989.83  2018-03-11 11:42:22  \n",
       "1              15349.00  2018-02-21 19:59:58  \n",
       "2              14725.00  2018-03-07 16:40:22  \n",
       "3              13799.00  2018-02-24 20:48:48  \n",
       "4              12428.03  2018-03-07 14:39:08  \n",
       "...                 ...                  ...  \n",
       "7946               2.24  2018-01-31 23:46:51  \n",
       "7947               1.39  2017-08-01 17:57:23  \n",
       "7948               0.29  2017-08-01 18:00:43  \n",
       "7949               0.00  2017-06-08 18:11:40  \n",
       "7950               0.00  2017-06-01 12:41:19  \n",
       "\n",
       "[7951 rows x 7 columns]"
      ]
     },
     "execution_count": 22,
     "metadata": {},
     "output_type": "execute_result"
    }
   ],
   "source": [
    "  max_unit_price_df = (\n",
    "    o_lines_cleaned\n",
    "        .groupby(\"sku\")\n",
    "        .agg(\"max\")\n",
    "        .sort_values(\"o_line_unit_price\", ascending=False)\n",
    "        .reset_index()\n",
    "    )\n",
    "\n",
    "max_unit_price_df"
   ]
  },
  {
   "cell_type": "code",
   "execution_count": null,
   "id": "d8d1dbeb",
   "metadata": {},
   "outputs": [],
   "source": []
  }
 ],
 "metadata": {
  "kernelspec": {
   "display_name": "Python 3 (ipykernel)",
   "language": "python",
   "name": "python3"
  },
  "language_info": {
   "codemirror_mode": {
    "name": "ipython",
    "version": 3
   },
   "file_extension": ".py",
   "mimetype": "text/x-python",
   "name": "python",
   "nbconvert_exporter": "python",
   "pygments_lexer": "ipython3",
   "version": "3.9.7"
  },
  "toc-showmarkdowntxt": false
 },
 "nbformat": 4,
 "nbformat_minor": 5
}
