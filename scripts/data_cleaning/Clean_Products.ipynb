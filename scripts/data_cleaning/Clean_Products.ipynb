{
 "cells": [
  {
   "cell_type": "markdown",
   "id": "03efac02",
   "metadata": {},
   "source": [
    "# Clean products"
   ]
  },
  {
   "cell_type": "markdown",
   "id": "198ee95d",
   "metadata": {},
   "source": [
    "## Initialize Cleaning"
   ]
  },
  {
   "cell_type": "markdown",
   "id": "7138082b-80dd-4607-97a2-8d5d1c70d8fe",
   "metadata": {},
   "source": [
    "### Import Packages and Raw_data"
   ]
  },
  {
   "cell_type": "code",
   "execution_count": 193,
   "id": "819a34c1-9a8e-43cc-b34d-c49938ede945",
   "metadata": {},
   "outputs": [],
   "source": [
    "import pandas as pd\n",
    "import numpy as np\n",
    "import matplotlib.pyplot as plt\n",
    "from pandas_profiling import ProfileReport\n",
    "\n",
    "# Global variables\n",
    "df_name = \"products\" \n",
    "data_path = '../../data/raw_data/' \n",
    "\n",
    "init_df = pd.read_csv(f\"{data_path }{df_name}.csv\")\n"
   ]
  },
  {
   "cell_type": "markdown",
   "id": "988110a7-0c79-4798-96b6-02dcba2dee2d",
   "metadata": {},
   "source": [
    "### Logging"
   ]
  },
  {
   "cell_type": "code",
   "execution_count": 194,
   "id": "6620dfdd-fcd1-423d-b5ae-9aaa69c5703e",
   "metadata": {},
   "outputs": [],
   "source": [
    "from functools import wraps\n",
    "import datetime as dt\n",
    "\n",
    "def log_step(func):\n",
    "    @wraps(func)\n",
    "    def wrapper(*args, **kwargs):\n",
    "        tic = dt.datetime.now()\n",
    "        result = func(*args, **kwargs)\n",
    "        time_taken = str(dt.datetime.now() - tic)\n",
    "        print(f\"{func.__name__}:\\n shape={result.shape} took {time_taken}s\\n\")\n",
    "        return result\n",
    "\n",
    "    return wrapper"
   ]
  },
  {
   "cell_type": "markdown",
   "id": "94d42427-88df-45f3-bba6-9abf1d93f9ed",
   "metadata": {},
   "source": [
    "## Pipeline - Functions"
   ]
  },
  {
   "cell_type": "markdown",
   "id": "66726894-88a8-4102-9977-a77a43c6d592",
   "metadata": {},
   "source": [
    "### Start Pipeline"
   ]
  },
  {
   "cell_type": "code",
   "execution_count": 195,
   "id": "aab6744b-d4cd-40a8-b71c-6e38fd5e272c",
   "metadata": {},
   "outputs": [],
   "source": [
    "@log_step\n",
    "def start_pipeline(df):\n",
    "    return df.copy()"
   ]
  },
  {
   "cell_type": "markdown",
   "id": "4f7a25ba-a89a-494e-9809-2311b5a8233a",
   "metadata": {},
   "source": [
    "### Rename Columns"
   ]
  },
  {
   "cell_type": "code",
   "execution_count": 196,
   "id": "7e3c8448",
   "metadata": {},
   "outputs": [
    {
     "name": "stdout",
     "output_type": "stream",
     "text": [
      "<class 'pandas.core.frame.DataFrame'>\n",
      "RangeIndex: 19326 entries, 0 to 19325\n",
      "Data columns (total 7 columns):\n",
      " #   Column       Non-Null Count  Dtype \n",
      "---  ------       --------------  ----- \n",
      " 0   sku          19326 non-null  object\n",
      " 1   name         19326 non-null  object\n",
      " 2   desc         19319 non-null  object\n",
      " 3   price        19280 non-null  object\n",
      " 4   promo_price  19326 non-null  object\n",
      " 5   in_stock     19326 non-null  int64 \n",
      " 6   type         19276 non-null  object\n",
      "dtypes: int64(1), object(6)\n",
      "memory usage: 1.0+ MB\n"
     ]
    }
   ],
   "source": [
    "init_df.info()"
   ]
  },
  {
   "cell_type": "code",
   "execution_count": 197,
   "id": "fc2b2767-782e-4699-8e91-72f150543877",
   "metadata": {},
   "outputs": [],
   "source": [
    "def rename_columns(df):\n",
    "    return (df\n",
    "        .rename(columns={\n",
    "            \"name\": \"product_name\",\n",
    "            \"desc\":  \"product_description\",      \n",
    "            \"price\":\"product_price\",        \n",
    "            \"in_stock\":\"product_in_stock\"\n",
    "            },\n",
    "        )\n",
    "    )"
   ]
  },
  {
   "cell_type": "markdown",
   "id": "d54d0e78-301b-4247-951e-e9dae07e59ba",
   "metadata": {},
   "source": [
    "### Remove duplicates"
   ]
  },
  {
   "cell_type": "code",
   "execution_count": 198,
   "id": "8453c0be-e46e-4dde-b8c4-449bb1c8738a",
   "metadata": {},
   "outputs": [],
   "source": [
    "@log_step\n",
    "def remove_duplicates(df):\n",
    "    return df.drop_duplicates().reset_index()"
   ]
  },
  {
   "cell_type": "markdown",
   "id": "f647c2a2",
   "metadata": {},
   "source": [
    "### Adjust price"
   ]
  },
  {
   "cell_type": "code",
   "execution_count": 199,
   "id": "8aaa4a3e",
   "metadata": {},
   "outputs": [],
   "source": [
    "@log_step\n",
    "def adjust_price(df):\n",
    "    \n",
    "    # make sure eveything is a string\n",
    "    df[\"product_price\"] = df[\"product_price\"].astype(\"string\")\n",
    "    \n",
    "    df.assign(price_check = df[\"product_price\"].str.find(\"\\.\\d{3}$\"))\n",
    "    \n",
    "    return df"
   ]
  },
  {
   "cell_type": "markdown",
   "id": "cfb609d4",
   "metadata": {},
   "source": [
    "### Missing Values"
   ]
  },
  {
   "cell_type": "code",
   "execution_count": 200,
   "id": "3f833e4d",
   "metadata": {},
   "outputs": [],
   "source": [
    "@log_step\n",
    "def missing_values(df):\n",
    "    return df.fillna({\"product_price\":\"000.000\"})"
   ]
  },
  {
   "cell_type": "markdown",
   "id": "c7019c19",
   "metadata": {},
   "source": [
    "### Adjust data types"
   ]
  },
  {
   "cell_type": "code",
   "execution_count": 201,
   "id": "b9cef212",
   "metadata": {},
   "outputs": [],
   "source": [
    "@log_step\n",
    "def adjust_data_types(df):\n",
    "   df[\"sku\"] = df[\"sku\"].astype(\"string\")\n",
    "   df[\"product_name\"] = df[\"product_name\"].astype(\"string\")\n",
    "   df[\"product_description\"] = df[\"product_description\"].astype(\"string\")\n",
    "   return df"
   ]
  },
  {
   "cell_type": "markdown",
   "id": "e2474140",
   "metadata": {},
   "source": [
    "### Drop Columns"
   ]
  },
  {
   "cell_type": "code",
   "execution_count": 202,
   "id": "71232642",
   "metadata": {},
   "outputs": [],
   "source": [
    "@log_step\n",
    "def drop_columns(df, cols):\n",
    "    return df.drop(columns=cols)\n"
   ]
  },
  {
   "cell_type": "markdown",
   "id": "9d951e94",
   "metadata": {},
   "source": [
    "### Add columns"
   ]
  },
  {
   "cell_type": "code",
   "execution_count": 203,
   "id": "db4db0c3",
   "metadata": {},
   "outputs": [],
   "source": [
    "@log_step\n",
    "def add_columns(df):\n",
    "    return df"
   ]
  },
  {
   "cell_type": "markdown",
   "id": "163e5fd5",
   "metadata": {},
   "source": [
    "### CSV"
   ]
  },
  {
   "cell_type": "code",
   "execution_count": 204,
   "id": "120b5445",
   "metadata": {},
   "outputs": [],
   "source": [
    "@log_step\n",
    "def create_csv(df):\n",
    "    df.to_csv(f\"../../data/clean_data/clean_{df_name}.csv\", index = False)\n",
    "    return df"
   ]
  },
  {
   "cell_type": "markdown",
   "id": "44cf493a",
   "metadata": {},
   "source": [
    "### Report"
   ]
  },
  {
   "cell_type": "code",
   "execution_count": 205,
   "id": "26d5a72e",
   "metadata": {},
   "outputs": [],
   "source": [
    "@log_step\n",
    "def create_report(df):\n",
    "    ProfileReport(df, title=f\"{df_name.title()} - Report\", dark_mode=True, minimal = True).to_file(f\"../../data/profile_reports/{df_name}_report.html\")\n",
    "    return df"
   ]
  },
  {
   "cell_type": "markdown",
   "id": "75b48789-4011-43c0-b453-ccd8003b2bfb",
   "metadata": {},
   "source": [
    "## Run Cleaning"
   ]
  },
  {
   "cell_type": "code",
   "execution_count": 206,
   "id": "17228ead-fc86-4dc6-8707-500ea870ef17",
   "metadata": {},
   "outputs": [
    {
     "name": "stdout",
     "output_type": "stream",
     "text": [
      "start_pipeline:\n",
      " shape=(19326, 7) took 0:00:00.001625s\n",
      "\n",
      "missing_values:\n",
      " shape=(19326, 7) took 0:00:00.002860s\n",
      "\n",
      "remove_duplicates:\n",
      " shape=(10580, 8) took 0:00:00.023138s\n",
      "\n",
      "adjust_price:\n",
      " shape=(10580, 8) took 0:00:00.009926s\n",
      "\n",
      "adjust_data_types:\n",
      " shape=(10580, 8) took 0:00:00.005690s\n",
      "\n",
      "add_columns:\n",
      " shape=(10580, 8) took 0:00:00.000004s\n",
      "\n",
      "drop_columns:\n",
      " shape=(10580, 6) took 0:00:00.002158s\n",
      "\n",
      "create_csv:\n",
      " shape=(10580, 6) took 0:00:00.081678s\n",
      "\n"
     ]
    },
    {
     "name": "stderr",
     "output_type": "stream",
     "text": [
      "Summarize dataset: 100%|██████████| 12/12 [00:00<00:00, 51.14it/s, Completed]                           \n",
      "Generate report structure:   0%|          | 0/1 [00:00<?, ?it/s]"
     ]
    }
   ],
   "source": [
    "products = (\n",
    "init_df\n",
    "    .pipe(start_pipeline)       # copy df\n",
    "    .pipe(rename_columns)       # naming conventions\n",
    "    .pipe(missing_values)       # price --> replaced with: \"000.000\"\n",
    "    .pipe(remove_duplicates)    # duplicate sku, removed first one, without a price\n",
    "    .pipe(adjust_price)         # removed second dot: 1.000.99 -> 1000.99  + to_numeric \n",
    "    .pipe(adjust_data_types)    # product_id -> STRING, order_id --> STRING, product_date --> DATETIME\n",
    "    .pipe(add_columns)          # product_year, product_month, product_day, product_hour\n",
    "    .pipe(drop_columns, cols=[\"promo_price\", \"type\"])\n",
    "    .pipe(create_csv)           # save clean data as .csv \n",
    "    .pipe(create_report)        # save report as .html \n",
    ")\n"
   ]
  },
  {
   "cell_type": "markdown",
   "id": "e3b8ea51",
   "metadata": {},
   "source": [
    "## Profile Report"
   ]
  },
  {
   "cell_type": "markdown",
   "id": "459d54d6",
   "metadata": {},
   "source": [
    "### Types"
   ]
  },
  {
   "cell_type": "markdown",
   "id": "e36fd800",
   "metadata": {},
   "source": [
    "#### Before"
   ]
  },
  {
   "cell_type": "code",
   "execution_count": null,
   "id": "9b19fb48",
   "metadata": {},
   "outputs": [
    {
     "data": {
      "text/plain": [
       "sku            object\n",
       "name           object\n",
       "desc           object\n",
       "price          object\n",
       "promo_price    object\n",
       "in_stock        int64\n",
       "type           object\n",
       "dtype: object"
      ]
     },
     "execution_count": 186,
     "metadata": {},
     "output_type": "execute_result"
    }
   ],
   "source": [
    "init_df.dtypes"
   ]
  },
  {
   "cell_type": "markdown",
   "id": "02e329b3",
   "metadata": {},
   "source": [
    "#### After"
   ]
  },
  {
   "cell_type": "code",
   "execution_count": null,
   "id": "b8776352",
   "metadata": {},
   "outputs": [
    {
     "data": {
      "text/plain": [
       "df_index                int64\n",
       "sku                    string\n",
       "product_name           string\n",
       "product_description    string\n",
       "product_price          string\n",
       "product_in_stock        int64\n",
       "dtype: object"
      ]
     },
     "execution_count": 187,
     "metadata": {},
     "output_type": "execute_result"
    }
   ],
   "source": [
    "products.dtypes"
   ]
  },
  {
   "cell_type": "markdown",
   "id": "d395ee04",
   "metadata": {},
   "source": [
    "### Samples"
   ]
  },
  {
   "cell_type": "markdown",
   "id": "dab044d6",
   "metadata": {},
   "source": [
    "#### Before"
   ]
  },
  {
   "cell_type": "code",
   "execution_count": null,
   "id": "31895137",
   "metadata": {},
   "outputs": [
    {
     "data": {
      "text/html": [
       "<div>\n",
       "<style scoped>\n",
       "    .dataframe tbody tr th:only-of-type {\n",
       "        vertical-align: middle;\n",
       "    }\n",
       "\n",
       "    .dataframe tbody tr th {\n",
       "        vertical-align: top;\n",
       "    }\n",
       "\n",
       "    .dataframe thead th {\n",
       "        text-align: right;\n",
       "    }\n",
       "</style>\n",
       "<table border=\"1\" class=\"dataframe\">\n",
       "  <thead>\n",
       "    <tr style=\"text-align: right;\">\n",
       "      <th></th>\n",
       "      <th>sku</th>\n",
       "      <th>name</th>\n",
       "      <th>desc</th>\n",
       "      <th>price</th>\n",
       "      <th>promo_price</th>\n",
       "      <th>in_stock</th>\n",
       "      <th>type</th>\n",
       "    </tr>\n",
       "  </thead>\n",
       "  <tbody>\n",
       "    <tr>\n",
       "      <th>0</th>\n",
       "      <td>RAI0007</td>\n",
       "      <td>Silver Rain Design mStand Support</td>\n",
       "      <td>Aluminum support compatible with all MacBook</td>\n",
       "      <td>59.99</td>\n",
       "      <td>499.899</td>\n",
       "      <td>1</td>\n",
       "      <td>8696</td>\n",
       "    </tr>\n",
       "    <tr>\n",
       "      <th>1</th>\n",
       "      <td>APP0023</td>\n",
       "      <td>Apple Mac Keyboard Keypad Spanish</td>\n",
       "      <td>USB ultrathin keyboard Apple Mac Spanish.</td>\n",
       "      <td>59</td>\n",
       "      <td>589.996</td>\n",
       "      <td>0</td>\n",
       "      <td>13855401</td>\n",
       "    </tr>\n",
       "    <tr>\n",
       "      <th>2</th>\n",
       "      <td>APP0025</td>\n",
       "      <td>Mighty Mouse Apple Mouse for Mac</td>\n",
       "      <td>mouse Apple USB cable.</td>\n",
       "      <td>59</td>\n",
       "      <td>569.898</td>\n",
       "      <td>0</td>\n",
       "      <td>1387</td>\n",
       "    </tr>\n",
       "    <tr>\n",
       "      <th>3</th>\n",
       "      <td>APP0072</td>\n",
       "      <td>Apple Dock to USB Cable iPhone and iPod white</td>\n",
       "      <td>IPhone dock and USB Cable Apple iPod.</td>\n",
       "      <td>25</td>\n",
       "      <td>229.997</td>\n",
       "      <td>0</td>\n",
       "      <td>1230</td>\n",
       "    </tr>\n",
       "    <tr>\n",
       "      <th>4</th>\n",
       "      <td>KIN0007</td>\n",
       "      <td>Mac Memory Kingston 2GB 667MHz DDR2 SO-DIMM</td>\n",
       "      <td>2GB RAM Mac mini and iMac (2006/07) MacBook Pr...</td>\n",
       "      <td>34.99</td>\n",
       "      <td>31.99</td>\n",
       "      <td>1</td>\n",
       "      <td>1364</td>\n",
       "    </tr>\n",
       "  </tbody>\n",
       "</table>\n",
       "</div>"
      ],
      "text/plain": [
       "       sku                                           name  \\\n",
       "0  RAI0007              Silver Rain Design mStand Support   \n",
       "1  APP0023              Apple Mac Keyboard Keypad Spanish   \n",
       "2  APP0025               Mighty Mouse Apple Mouse for Mac   \n",
       "3  APP0072  Apple Dock to USB Cable iPhone and iPod white   \n",
       "4  KIN0007    Mac Memory Kingston 2GB 667MHz DDR2 SO-DIMM   \n",
       "\n",
       "                                                desc  price promo_price  \\\n",
       "0       Aluminum support compatible with all MacBook  59.99     499.899   \n",
       "1          USB ultrathin keyboard Apple Mac Spanish.     59     589.996   \n",
       "2                             mouse Apple USB cable.     59     569.898   \n",
       "3              IPhone dock and USB Cable Apple iPod.     25     229.997   \n",
       "4  2GB RAM Mac mini and iMac (2006/07) MacBook Pr...  34.99       31.99   \n",
       "\n",
       "   in_stock      type  \n",
       "0         1      8696  \n",
       "1         0  13855401  \n",
       "2         0      1387  \n",
       "3         0      1230  \n",
       "4         1      1364  "
      ]
     },
     "execution_count": 188,
     "metadata": {},
     "output_type": "execute_result"
    }
   ],
   "source": [
    "init_df.head()"
   ]
  },
  {
   "cell_type": "markdown",
   "id": "51a35b25",
   "metadata": {},
   "source": [
    "#### After"
   ]
  },
  {
   "cell_type": "code",
   "execution_count": null,
   "id": "14db11fe",
   "metadata": {},
   "outputs": [
    {
     "data": {
      "text/html": [
       "<div>\n",
       "<style scoped>\n",
       "    .dataframe tbody tr th:only-of-type {\n",
       "        vertical-align: middle;\n",
       "    }\n",
       "\n",
       "    .dataframe tbody tr th {\n",
       "        vertical-align: top;\n",
       "    }\n",
       "\n",
       "    .dataframe thead th {\n",
       "        text-align: right;\n",
       "    }\n",
       "</style>\n",
       "<table border=\"1\" class=\"dataframe\">\n",
       "  <thead>\n",
       "    <tr style=\"text-align: right;\">\n",
       "      <th></th>\n",
       "      <th>df_index</th>\n",
       "      <th>sku</th>\n",
       "      <th>product_name</th>\n",
       "      <th>product_description</th>\n",
       "      <th>product_price</th>\n",
       "      <th>product_in_stock</th>\n",
       "    </tr>\n",
       "  </thead>\n",
       "  <tbody>\n",
       "    <tr>\n",
       "      <th>0</th>\n",
       "      <td>0</td>\n",
       "      <td>RAI0007</td>\n",
       "      <td>Silver Rain Design mStand Support</td>\n",
       "      <td>Aluminum support compatible with all MacBook</td>\n",
       "      <td>59.99</td>\n",
       "      <td>1</td>\n",
       "    </tr>\n",
       "    <tr>\n",
       "      <th>1</th>\n",
       "      <td>1</td>\n",
       "      <td>APP0023</td>\n",
       "      <td>Apple Mac Keyboard Keypad Spanish</td>\n",
       "      <td>USB ultrathin keyboard Apple Mac Spanish.</td>\n",
       "      <td>59</td>\n",
       "      <td>0</td>\n",
       "    </tr>\n",
       "    <tr>\n",
       "      <th>2</th>\n",
       "      <td>2</td>\n",
       "      <td>APP0025</td>\n",
       "      <td>Mighty Mouse Apple Mouse for Mac</td>\n",
       "      <td>mouse Apple USB cable.</td>\n",
       "      <td>59</td>\n",
       "      <td>0</td>\n",
       "    </tr>\n",
       "    <tr>\n",
       "      <th>3</th>\n",
       "      <td>3</td>\n",
       "      <td>APP0072</td>\n",
       "      <td>Apple Dock to USB Cable iPhone and iPod white</td>\n",
       "      <td>IPhone dock and USB Cable Apple iPod.</td>\n",
       "      <td>25</td>\n",
       "      <td>0</td>\n",
       "    </tr>\n",
       "    <tr>\n",
       "      <th>4</th>\n",
       "      <td>4</td>\n",
       "      <td>KIN0007</td>\n",
       "      <td>Mac Memory Kingston 2GB 667MHz DDR2 SO-DIMM</td>\n",
       "      <td>2GB RAM Mac mini and iMac (2006/07) MacBook Pr...</td>\n",
       "      <td>34.99</td>\n",
       "      <td>1</td>\n",
       "    </tr>\n",
       "  </tbody>\n",
       "</table>\n",
       "</div>"
      ],
      "text/plain": [
       "   df_index      sku                                   product_name  \\\n",
       "0         0  RAI0007              Silver Rain Design mStand Support   \n",
       "1         1  APP0023              Apple Mac Keyboard Keypad Spanish   \n",
       "2         2  APP0025               Mighty Mouse Apple Mouse for Mac   \n",
       "3         3  APP0072  Apple Dock to USB Cable iPhone and iPod white   \n",
       "4         4  KIN0007    Mac Memory Kingston 2GB 667MHz DDR2 SO-DIMM   \n",
       "\n",
       "                                 product_description product_price  \\\n",
       "0       Aluminum support compatible with all MacBook         59.99   \n",
       "1          USB ultrathin keyboard Apple Mac Spanish.            59   \n",
       "2                             mouse Apple USB cable.            59   \n",
       "3              IPhone dock and USB Cable Apple iPod.            25   \n",
       "4  2GB RAM Mac mini and iMac (2006/07) MacBook Pr...         34.99   \n",
       "\n",
       "   product_in_stock  \n",
       "0                 1  \n",
       "1                 0  \n",
       "2                 0  \n",
       "3                 0  \n",
       "4                 1  "
      ]
     },
     "execution_count": 189,
     "metadata": {},
     "output_type": "execute_result"
    }
   ],
   "source": [
    "products.head()"
   ]
  },
  {
   "cell_type": "markdown",
   "id": "638e79b6",
   "metadata": {},
   "source": [
    "### Info - Types Range, Non Null Count, Dtype"
   ]
  },
  {
   "cell_type": "markdown",
   "id": "ccfa29aa",
   "metadata": {},
   "source": [
    "#### Before"
   ]
  },
  {
   "cell_type": "code",
   "execution_count": null,
   "id": "a40edac8",
   "metadata": {},
   "outputs": [
    {
     "name": "stdout",
     "output_type": "stream",
     "text": [
      "<class 'pandas.core.frame.DataFrame'>\n",
      "RangeIndex: 19326 entries, 0 to 19325\n",
      "Data columns (total 7 columns):\n",
      " #   Column       Non-Null Count  Dtype \n",
      "---  ------       --------------  ----- \n",
      " 0   sku          19326 non-null  object\n",
      " 1   name         19326 non-null  object\n",
      " 2   desc         19319 non-null  object\n",
      " 3   price        19280 non-null  object\n",
      " 4   promo_price  19326 non-null  object\n",
      " 5   in_stock     19326 non-null  int64 \n",
      " 6   type         19276 non-null  object\n",
      "dtypes: int64(1), object(6)\n",
      "memory usage: 1.0+ MB\n"
     ]
    }
   ],
   "source": [
    "init_df.info()"
   ]
  },
  {
   "cell_type": "markdown",
   "id": "60664a60",
   "metadata": {},
   "source": [
    "#### After"
   ]
  },
  {
   "cell_type": "code",
   "execution_count": null,
   "id": "cf03966c",
   "metadata": {},
   "outputs": [
    {
     "name": "stdout",
     "output_type": "stream",
     "text": [
      "<class 'pandas.core.frame.DataFrame'>\n",
      "RangeIndex: 10580 entries, 0 to 10579\n",
      "Data columns (total 6 columns):\n",
      " #   Column               Non-Null Count  Dtype \n",
      "---  ------               --------------  ----- \n",
      " 0   df_index             10580 non-null  int64 \n",
      " 1   sku                  10580 non-null  string\n",
      " 2   product_name         10580 non-null  string\n",
      " 3   product_description  10573 non-null  string\n",
      " 4   product_price        10580 non-null  string\n",
      " 5   product_in_stock     10580 non-null  int64 \n",
      "dtypes: int64(2), string(4)\n",
      "memory usage: 496.1 KB\n"
     ]
    }
   ],
   "source": [
    "products.info()"
   ]
  }
 ],
 "metadata": {
  "kernelspec": {
   "display_name": "Python 3 (ipykernel)",
   "language": "python",
   "name": "python3"
  },
  "language_info": {
   "codemirror_mode": {
    "name": "ipython",
    "version": 3
   },
   "file_extension": ".py",
   "mimetype": "text/x-python",
   "name": "python",
   "nbconvert_exporter": "python",
   "pygments_lexer": "ipython3",
   "version": "3.9.7"
  },
  "toc-showmarkdowntxt": false
 },
 "nbformat": 4,
 "nbformat_minor": 5
}
