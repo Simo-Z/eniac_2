{
 "cells": [
  {
   "cell_type": "markdown",
   "id": "036e696b-4a77-4904-b082-e720272b3e07",
   "metadata": {},
   "source": [
    "# Products"
   ]
  },
  {
   "cell_type": "markdown",
   "id": "2118866a-8e6b-4926-a483-6f814e327311",
   "metadata": {},
   "source": [
    "# Imports"
   ]
  },
  {
   "cell_type": "code",
   "execution_count": 1,
   "id": "b7cf09ff-887b-4fa1-bf81-378052674b15",
   "metadata": {},
   "outputs": [],
   "source": [
    "import pandas as pd\n",
    "import seaborn as sns\n",
    "from functools import wraps\n",
    "import datetime as dt"
   ]
  },
  {
   "cell_type": "markdown",
   "id": "d767edff-edfe-4496-b26d-536111269976",
   "metadata": {},
   "source": [
    "# Log-Wrapper"
   ]
  },
  {
   "cell_type": "code",
   "execution_count": 2,
   "id": "262abcc3-6849-494d-bd8a-e6eac927f701",
   "metadata": {},
   "outputs": [],
   "source": [
    "def log_step(func):\n",
    "    @wraps(func)\n",
    "    def wrapper(*args, **kwargs):\n",
    "        tic = dt.datetime.now()\n",
    "        result = func(*args, **kwargs)\n",
    "        time_taken = str(dt.datetime.now() - tic)\n",
    "        print(f\"{func.__name__}:\\n shape={result.shape} took {time_taken}s\\n\")\n",
    "        global df_rows\n",
    "\n",
    "        df_rows.append(result.shape[0])\n",
    "        return result\n",
    "\n",
    "\n",
    "    return wrapper"
   ]
  },
  {
   "cell_type": "markdown",
   "id": "784c1414-bbeb-44fa-aa60-cb0174b3d806",
   "metadata": {},
   "source": [
    "## Pipeline Functions"
   ]
  },
  {
   "cell_type": "markdown",
   "id": "5743b038-51cb-4d85-9b9d-52e97ee71457",
   "metadata": {},
   "source": [
    "### Pipeline Init"
   ]
  },
  {
   "cell_type": "code",
   "execution_count": 3,
   "id": "28fb7377-f2e2-4be8-9db4-c202b4cf8a53",
   "metadata": {},
   "outputs": [
    {
     "data": {
      "text/plain": [
       "(19326, 7)"
      ]
     },
     "execution_count": 3,
     "metadata": {},
     "output_type": "execute_result"
    }
   ],
   "source": [
    "filename = \"products\"\n",
    "init_df = pd.read_csv(\"../../eniac-data/\"+filename+\".csv\")\n",
    "\n",
    "df_rows = []\n",
    "\n",
    "\n",
    "@log_step\n",
    "def start_pipeline(data_frame):\n",
    "    global df_rows\n",
    "    df_rows = []\n",
    "    df_rows.append(init_df.shape[0])\n",
    "    return data_frame.copy()\n",
    "\n",
    "init_df.shape\n"
   ]
  },
  {
   "cell_type": "markdown",
   "id": "fd3a69f7-131a-455a-bef2-39df2432a568",
   "metadata": {},
   "source": [
    "### Rename Columns"
   ]
  },
  {
   "cell_type": "code",
   "execution_count": 4,
   "id": "f26ad343-a9ec-4dd6-80e6-3f837110ca8f",
   "metadata": {},
   "outputs": [],
   "source": [
    "@log_step\n",
    "def rename_columns(data_frame):\n",
    "    data_frame.rename(columns={\"sku\":\"product_sku\",\n",
    "                             \"name\":\"product_name\",\n",
    "                             \"desc\":\"product_description\",\n",
    "                             \"price\":\"product_price\",\n",
    "                             \"promo_price\":\"product_promo_price\",\n",
    "                             \"type\":\"product_type\"}, inplace = True)\n",
    "    \n",
    "    return data_frame"
   ]
  },
  {
   "cell_type": "markdown",
   "id": "ac536d14-5dfe-4fda-a98e-8a6fdc26e6c1",
   "metadata": {},
   "source": [
    "### Set Data Types"
   ]
  },
  {
   "cell_type": "code",
   "execution_count": 5,
   "id": "37a787ab-5aaa-49a8-aa73-56aa15fcfd28",
   "metadata": {},
   "outputs": [],
   "source": [
    "@log_step\n",
    "def set_data_types(data_frame):\n",
    "   # data_frame[\"new_price\"] = data_frame.product_price.replace(\"\\.\\d{2,3}$\", \"d{2,3}$\", regex = True)\n",
    "#    data_frame.new_price.astype(\"float\")\n",
    "    return data_frame"
   ]
  },
  {
   "cell_type": "markdown",
   "id": "6a348b97-3802-47e5-929d-147c16b3cdff",
   "metadata": {},
   "source": [
    "### Remove Duplicates"
   ]
  },
  {
   "cell_type": "code",
   "execution_count": 6,
   "id": "c88ec5fb-0855-4816-85ba-a26740a42972",
   "metadata": {},
   "outputs": [],
   "source": [
    "@log_step\n",
    "def remove_duplicates(data_frame):\n",
    "    return data_frame.drop_duplicates()"
   ]
  },
  {
   "cell_type": "code",
   "execution_count": 7,
   "id": "ff7bdf80-8108-4203-b4a5-686457a0d27b",
   "metadata": {},
   "outputs": [],
   "source": [
    "@log_step\n",
    "def drop_nan(data_frame):\n",
    "    return data_frame.dropna()\n"
   ]
  },
  {
   "cell_type": "markdown",
   "id": "5ceb7e4c-097b-44f3-a8c7-747b75a9bb94",
   "metadata": {
    "tags": []
   },
   "source": [
    "### Remove Outliers"
   ]
  },
  {
   "cell_type": "code",
   "execution_count": 8,
   "id": "1fffc7d0-f526-4237-898c-356870c4a509",
   "metadata": {},
   "outputs": [],
   "source": [
    "@log_step\n",
    "def remove_outliers(data_frame):\n",
    "    return data_frame"
   ]
  },
  {
   "cell_type": "markdown",
   "id": "bfc136b0-de39-4c57-9eee-171d7d0b3a00",
   "metadata": {},
   "source": [
    "## Pipeline UI"
   ]
  },
  {
   "cell_type": "code",
   "execution_count": 9,
   "id": "8f41552a-4210-4b38-9348-d12901cd9597",
   "metadata": {},
   "outputs": [
    {
     "name": "stdout",
     "output_type": "stream",
     "text": [
      "start_pipeline:\n",
      " shape=(19326, 7) took 0:00:00.002127s\n",
      "\n",
      "rename_columns:\n",
      " shape=(19326, 7) took 0:00:00.000651s\n",
      "\n",
      "set_data_types:\n",
      " shape=(19326, 7) took 0:00:00.000002s\n",
      "\n",
      "remove_duplicates:\n",
      " shape=(10580, 7) took 0:00:00.037284s\n",
      "\n",
      "drop_nan:\n",
      " shape=(10477, 7) took 0:00:00.009219s\n",
      "\n",
      "remove_outliers:\n",
      " shape=(10477, 7) took 0:00:00.000005s\n",
      "\n"
     ]
    },
    {
     "name": "stderr",
     "output_type": "stream",
     "text": [
      "/Users/simozilling/opt/anaconda3/lib/python3.9/site-packages/seaborn/_decorators.py:36: FutureWarning: Pass the following variables as keyword args: x, y. From version 0.12, the only valid positional argument will be `data`, and passing other arguments without an explicit keyword will result in an error or misinterpretation.\n",
      "  warnings.warn(\n"
     ]
    },
    {
     "data": {
      "text/plain": [
       "<AxesSubplot:>"
      ]
     },
     "execution_count": 9,
     "metadata": {},
     "output_type": "execute_result"
    },
    {
     "data": {
      "image/png": "[encoded data removed]",
      "text/plain": [
       "<Figure size 432x288 with 1 Axes>"
      ]
     },
     "metadata": {
      "needs_background": "light"
     },
     "output_type": "display_data"
    }
   ],
   "source": [
    "df = init_df\\\n",
    "        .pipe(start_pipeline)\\\n",
    "        .pipe(rename_columns)\\\n",
    "        .pipe(set_data_types)\\\n",
    "        .pipe(remove_duplicates)\\\n",
    "        .pipe(drop_nan)\\\n",
    "        .pipe(remove_outliers)\n",
    "sns.lineplot(list(range(len(df_rows))), df_rows) "
   ]
  },
  {
   "cell_type": "code",
   "execution_count": 10,
   "id": "b933190b-0f19-4714-817c-04b0ff1e3bd6",
   "metadata": {},
   "outputs": [
    {
     "data": {
      "text/html": [
       "<div>\n",
       "<style scoped>\n",
       "    .dataframe tbody tr th:only-of-type {\n",
       "        vertical-align: middle;\n",
       "    }\n",
       "\n",
       "    .dataframe tbody tr th {\n",
       "        vertical-align: top;\n",
       "    }\n",
       "\n",
       "    .dataframe thead th {\n",
       "        text-align: right;\n",
       "    }\n",
       "</style>\n",
       "<table border=\"1\" class=\"dataframe\">\n",
       "  <thead>\n",
       "    <tr style=\"text-align: right;\">\n",
       "      <th></th>\n",
       "      <th>product_sku</th>\n",
       "      <th>product_name</th>\n",
       "      <th>product_description</th>\n",
       "      <th>product_price</th>\n",
       "      <th>product_promo_price</th>\n",
       "      <th>in_stock</th>\n",
       "      <th>product_type</th>\n",
       "    </tr>\n",
       "  </thead>\n",
       "  <tbody>\n",
       "    <tr>\n",
       "      <th>0</th>\n",
       "      <td>RAI0007</td>\n",
       "      <td>Silver Rain Design mStand Support</td>\n",
       "      <td>Aluminum support compatible with all MacBook</td>\n",
       "      <td>59.99</td>\n",
       "      <td>499.899</td>\n",
       "      <td>1</td>\n",
       "      <td>8696</td>\n",
       "    </tr>\n",
       "    <tr>\n",
       "      <th>1</th>\n",
       "      <td>APP0023</td>\n",
       "      <td>Apple Mac Keyboard Keypad Spanish</td>\n",
       "      <td>USB ultrathin keyboard Apple Mac Spanish.</td>\n",
       "      <td>59</td>\n",
       "      <td>589.996</td>\n",
       "      <td>0</td>\n",
       "      <td>13855401</td>\n",
       "    </tr>\n",
       "    <tr>\n",
       "      <th>2</th>\n",
       "      <td>APP0025</td>\n",
       "      <td>Mighty Mouse Apple Mouse for Mac</td>\n",
       "      <td>mouse Apple USB cable.</td>\n",
       "      <td>59</td>\n",
       "      <td>569.898</td>\n",
       "      <td>0</td>\n",
       "      <td>1387</td>\n",
       "    </tr>\n",
       "    <tr>\n",
       "      <th>3</th>\n",
       "      <td>APP0072</td>\n",
       "      <td>Apple Dock to USB Cable iPhone and iPod white</td>\n",
       "      <td>IPhone dock and USB Cable Apple iPod.</td>\n",
       "      <td>25</td>\n",
       "      <td>229.997</td>\n",
       "      <td>0</td>\n",
       "      <td>1230</td>\n",
       "    </tr>\n",
       "    <tr>\n",
       "      <th>4</th>\n",
       "      <td>KIN0007</td>\n",
       "      <td>Mac Memory Kingston 2GB 667MHz DDR2 SO-DIMM</td>\n",
       "      <td>2GB RAM Mac mini and iMac (2006/07) MacBook Pr...</td>\n",
       "      <td>34.99</td>\n",
       "      <td>31.99</td>\n",
       "      <td>1</td>\n",
       "      <td>1364</td>\n",
       "    </tr>\n",
       "  </tbody>\n",
       "</table>\n",
       "</div>"
      ],
      "text/plain": [
       "  product_sku                                   product_name  \\\n",
       "0     RAI0007              Silver Rain Design mStand Support   \n",
       "1     APP0023              Apple Mac Keyboard Keypad Spanish   \n",
       "2     APP0025               Mighty Mouse Apple Mouse for Mac   \n",
       "3     APP0072  Apple Dock to USB Cable iPhone and iPod white   \n",
       "4     KIN0007    Mac Memory Kingston 2GB 667MHz DDR2 SO-DIMM   \n",
       "\n",
       "                                 product_description product_price  \\\n",
       "0       Aluminum support compatible with all MacBook         59.99   \n",
       "1          USB ultrathin keyboard Apple Mac Spanish.            59   \n",
       "2                             mouse Apple USB cable.            59   \n",
       "3              IPhone dock and USB Cable Apple iPod.            25   \n",
       "4  2GB RAM Mac mini and iMac (2006/07) MacBook Pr...         34.99   \n",
       "\n",
       "  product_promo_price  in_stock product_type  \n",
       "0             499.899         1         8696  \n",
       "1             589.996         0     13855401  \n",
       "2             569.898         0         1387  \n",
       "3             229.997         0         1230  \n",
       "4               31.99         1         1364  "
      ]
     },
     "execution_count": 10,
     "metadata": {},
     "output_type": "execute_result"
    }
   ],
   "source": [
    "df.head()"
   ]
  },
  {
   "cell_type": "code",
   "execution_count": 11,
   "id": "a944ae6e-f674-4190-bb9e-840f338968de",
   "metadata": {},
   "outputs": [
    {
     "data": {
      "text/plain": [
       "product_sku            object\n",
       "product_name           object\n",
       "product_description    object\n",
       "product_price          object\n",
       "product_promo_price    object\n",
       "in_stock                int64\n",
       "product_type           object\n",
       "dtype: object"
      ]
     },
     "execution_count": 11,
     "metadata": {},
     "output_type": "execute_result"
    }
   ],
   "source": [
    "df.dtypes"
   ]
  },
  {
   "cell_type": "code",
   "execution_count": 12,
   "id": "435cf4e6-364e-4435-887b-9cf5b8207770",
   "metadata": {},
   "outputs": [
    {
     "data": {
      "text/html": [
       "<div>\n",
       "<style scoped>\n",
       "    .dataframe tbody tr th:only-of-type {\n",
       "        vertical-align: middle;\n",
       "    }\n",
       "\n",
       "    .dataframe tbody tr th {\n",
       "        vertical-align: top;\n",
       "    }\n",
       "\n",
       "    .dataframe thead th {\n",
       "        text-align: right;\n",
       "    }\n",
       "</style>\n",
       "<table border=\"1\" class=\"dataframe\">\n",
       "  <thead>\n",
       "    <tr style=\"text-align: right;\">\n",
       "      <th></th>\n",
       "      <th>in_stock</th>\n",
       "    </tr>\n",
       "  </thead>\n",
       "  <tbody>\n",
       "    <tr>\n",
       "      <th>count</th>\n",
       "      <td>10477.000000</td>\n",
       "    </tr>\n",
       "    <tr>\n",
       "      <th>mean</th>\n",
       "      <td>0.195476</td>\n",
       "    </tr>\n",
       "    <tr>\n",
       "      <th>std</th>\n",
       "      <td>0.396585</td>\n",
       "    </tr>\n",
       "    <tr>\n",
       "      <th>min</th>\n",
       "      <td>0.000000</td>\n",
       "    </tr>\n",
       "    <tr>\n",
       "      <th>25%</th>\n",
       "      <td>0.000000</td>\n",
       "    </tr>\n",
       "    <tr>\n",
       "      <th>50%</th>\n",
       "      <td>0.000000</td>\n",
       "    </tr>\n",
       "    <tr>\n",
       "      <th>75%</th>\n",
       "      <td>0.000000</td>\n",
       "    </tr>\n",
       "    <tr>\n",
       "      <th>max</th>\n",
       "      <td>1.000000</td>\n",
       "    </tr>\n",
       "  </tbody>\n",
       "</table>\n",
       "</div>"
      ],
      "text/plain": [
       "           in_stock\n",
       "count  10477.000000\n",
       "mean       0.195476\n",
       "std        0.396585\n",
       "min        0.000000\n",
       "25%        0.000000\n",
       "50%        0.000000\n",
       "75%        0.000000\n",
       "max        1.000000"
      ]
     },
     "execution_count": 12,
     "metadata": {},
     "output_type": "execute_result"
    }
   ],
   "source": [
    "df.describe()"
   ]
  },
  {
   "cell_type": "code",
   "execution_count": 13,
   "id": "c3da1205-ede9-4192-a996-27713c4d1d50",
   "metadata": {},
   "outputs": [],
   "source": [
    "df.to_csv(\"../../clean_data/clean_\"+filename+\".csv\")"
   ]
  },
  {
   "cell_type": "code",
   "execution_count": 14,
   "id": "52012828-66ca-436c-8842-b80f5986e05c",
   "metadata": {},
   "outputs": [
    {
     "data": {
      "text/html": [
       "<div>\n",
       "<style scoped>\n",
       "    .dataframe tbody tr th:only-of-type {\n",
       "        vertical-align: middle;\n",
       "    }\n",
       "\n",
       "    .dataframe tbody tr th {\n",
       "        vertical-align: top;\n",
       "    }\n",
       "\n",
       "    .dataframe thead th {\n",
       "        text-align: right;\n",
       "    }\n",
       "</style>\n",
       "<table border=\"1\" class=\"dataframe\">\n",
       "  <thead>\n",
       "    <tr style=\"text-align: right;\">\n",
       "      <th></th>\n",
       "      <th>product_price</th>\n",
       "      <th>new_product_price</th>\n",
       "    </tr>\n",
       "  </thead>\n",
       "  <tbody>\n",
       "    <tr>\n",
       "      <th>14756</th>\n",
       "      <td>1.090.004</td>\n",
       "      <td>[1, 090, 004]</td>\n",
       "    </tr>\n",
       "    <tr>\n",
       "      <th>12316</th>\n",
       "      <td>1.099.043</td>\n",
       "      <td>[1, 099, 043]</td>\n",
       "    </tr>\n",
       "    <tr>\n",
       "      <th>1459</th>\n",
       "      <td>1.169.795</td>\n",
       "      <td>[1, 169, 795]</td>\n",
       "    </tr>\n",
       "    <tr>\n",
       "      <th>17392</th>\n",
       "      <td>1.199.897</td>\n",
       "      <td>[1, 199, 897]</td>\n",
       "    </tr>\n",
       "    <tr>\n",
       "      <th>11102</th>\n",
       "      <td>1.199.897</td>\n",
       "      <td>[1, 199, 897]</td>\n",
       "    </tr>\n",
       "    <tr>\n",
       "      <th>...</th>\n",
       "      <td>...</td>\n",
       "      <td>...</td>\n",
       "    </tr>\n",
       "    <tr>\n",
       "      <th>10876</th>\n",
       "      <td>999.896</td>\n",
       "      <td>[999, 896]</td>\n",
       "    </tr>\n",
       "    <tr>\n",
       "      <th>10745</th>\n",
       "      <td>999.944</td>\n",
       "      <td>[999, 944]</td>\n",
       "    </tr>\n",
       "    <tr>\n",
       "      <th>2670</th>\n",
       "      <td>999.944</td>\n",
       "      <td>[999, 944]</td>\n",
       "    </tr>\n",
       "    <tr>\n",
       "      <th>19050</th>\n",
       "      <td>999.944</td>\n",
       "      <td>[999, 944]</td>\n",
       "    </tr>\n",
       "    <tr>\n",
       "      <th>14964</th>\n",
       "      <td>999.99</td>\n",
       "      <td>[999, 99]</td>\n",
       "    </tr>\n",
       "  </tbody>\n",
       "</table>\n",
       "<p>10477 rows × 2 columns</p>\n",
       "</div>"
      ],
      "text/plain": [
       "      product_price new_product_price\n",
       "14756     1.090.004     [1, 090, 004]\n",
       "12316     1.099.043     [1, 099, 043]\n",
       "1459      1.169.795     [1, 169, 795]\n",
       "17392     1.199.897     [1, 199, 897]\n",
       "11102     1.199.897     [1, 199, 897]\n",
       "...             ...               ...\n",
       "10876       999.896        [999, 896]\n",
       "10745       999.944        [999, 944]\n",
       "2670        999.944        [999, 944]\n",
       "19050       999.944        [999, 944]\n",
       "14964        999.99         [999, 99]\n",
       "\n",
       "[10477 rows x 2 columns]"
      ]
     },
     "execution_count": 14,
     "metadata": {},
     "output_type": "execute_result"
    }
   ],
   "source": [
    "df[\"str_split\"] = df.product_price.str.split('.') \n",
    "\n",
    "df['new_product_price'] = df[\"str_split\"]\n",
    "df[[\"product_price\", \"new_product_price\"]].sort_values(\"product_price\")"
   ]
  },
  {
   "cell_type": "code",
   "execution_count": 15,
   "id": "f69a7687-d47a-4dfb-966f-651717332d1c",
   "metadata": {},
   "outputs": [
    {
     "data": {
      "text/plain": [
       "[19326, 19326, 19326, 19326, 10580, 10477, 10477]"
      ]
     },
     "execution_count": 15,
     "metadata": {},
     "output_type": "execute_result"
    }
   ],
   "source": [
    "\n",
    "\n",
    "df_rows\n"
   ]
  },
  {
   "cell_type": "code",
   "execution_count": null,
   "id": "1338262c-2dd0-45ad-9498-3ed521ec2b7b",
   "metadata": {},
   "outputs": [],
   "source": []
  }
 ],
 "metadata": {
  "kernelspec": {
   "display_name": "Python 3 (ipykernel)",
   "language": "python",
   "name": "python3"
  },
  "language_info": {
   "codemirror_mode": {
    "name": "ipython",
    "version": 3
   },
   "file_extension": ".py",
   "mimetype": "text/x-python",
   "name": "python",
   "nbconvert_exporter": "python",
   "pygments_lexer": "ipython3",
   "version": "3.9.7"
  }
 },
 "nbformat": 4,
 "nbformat_minor": 5
}
