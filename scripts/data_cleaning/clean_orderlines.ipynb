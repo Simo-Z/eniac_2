{
 "cells": [
  {
   "cell_type": "markdown",
   "id": "03efac02",
   "metadata": {},
   "source": [
    "# Clean Orderlines"
   ]
  },
  {
   "cell_type": "markdown",
   "id": "a74aecf1",
   "metadata": {},
   "source": []
  },
  {
   "cell_type": "markdown",
   "id": "a74aecf1",
   "metadata": {},
   "source": []
  },
  {
   "cell_type": "markdown",
   "id": "198ee95d",
   "metadata": {},
   "source": [
    "## Initialize Cleaning"
   ]
  },
  {
   "cell_type": "markdown",
   "id": "7138082b-80dd-4607-97a2-8d5d1c70d8fe",
   "metadata": {},
   "source": [
    "### Import Packages and Raw_data"
   ]
  },
  {
   "cell_type": "code",
   "execution_count": 1,
   "id": "819a34c1-9a8e-43cc-b34d-c49938ede945",
   "metadata": {},
   "outputs": [],
   "source": [
    "import pandas as pd\n",
    "import numpy as np\n",
    "import matplotlib.pyplot as plt\n",
    "from pandas_profiling import ProfileReport\n",
    "\n",
    "# Global variables\n",
    "df_name = \"orderlines\" \n",
    "data_path = '../../data/raw_data/' \n",
    "\n",
    "init_df = pd.read_csv(f\"{data_path }{df_name}.csv\")\n"
   ]
  },
  {
   "cell_type": "markdown",
   "id": "988110a7-0c79-4798-96b6-02dcba2dee2d",
   "metadata": {},
   "source": [
    "### Logging"
   ]
  },
  {
   "cell_type": "code",
   "execution_count": 7,
   "id": "6620dfdd-fcd1-423d-b5ae-9aaa69c5703e",
   "metadata": {},
   "outputs": [],
   "source": [
    "from functools import wraps\n",
    "import datetime as dt\n",
    "\n",
    "def log_step(func):\n",
    "    @wraps(func)\n",
    "    def wrapper(*args, **kwargs):\n",
    "        tic = dt.datetime.now()\n",
    "        result = func(*args, **kwargs)\n",
    "        time_taken = str(dt.datetime.now() - tic)\n",
    "        print(f\"{func.__name__}:\\n shape={result.shape} took {time_taken}s\\n\")\n",
    "        return result\n",
    "\n",
    "    return wrapper"
   ]
  },
  {
   "cell_type": "markdown",
   "id": "94d42427-88df-45f3-bba6-9abf1d93f9ed",
   "metadata": {},
   "source": [
    "## Pipeline - Functions"
   ]
  },
  {
   "cell_type": "markdown",
   "id": "66726894-88a8-4102-9977-a77a43c6d592",
   "metadata": {},
   "source": [
    "### Start Pipeline"
   ]
  },
  {
   "cell_type": "code",
   "execution_count": 8,
   "id": "aab6744b-d4cd-40a8-b71c-6e38fd5e272c",
   "metadata": {},
   "outputs": [],
   "source": [
    "@log_step\n",
    "def start_pipeline(df):\n",
    "    return df.copy()"
   ]
  },
  {
   "cell_type": "markdown",
   "id": "4f7a25ba-a89a-494e-9809-2311b5a8233a",
   "metadata": {},
   "source": [
    "### Rename Columns"
   ]
  },
  {
   "cell_type": "code",
   "execution_count": 9,
   "id": "7e3c8448",
   "metadata": {},
   "outputs": [
    {
     "name": "stdout",
     "output_type": "stream",
     "text": [
      "<class 'pandas.core.frame.DataFrame'>\n",
      "RangeIndex: 293983 entries, 0 to 293982\n",
      "Data columns (total 7 columns):\n",
      " #   Column            Non-Null Count   Dtype \n",
      "---  ------            --------------   ----- \n",
      " 0   id                293983 non-null  int64 \n",
      " 1   id_order          293983 non-null  int64 \n",
      " 2   product_id        293983 non-null  int64 \n",
      " 3   product_quantity  293983 non-null  int64 \n",
      " 4   sku               293983 non-null  object\n",
      " 5   unit_price        293983 non-null  object\n",
      " 6   date              293983 non-null  object\n",
      "dtypes: int64(4), object(3)\n",
      "memory usage: 15.7+ MB\n"
     ]
    }
   ],
   "source": [
    "init_df.info()"
   ]
  },
  {
   "cell_type": "code",
   "execution_count": 10,
   "id": "fc2b2767-782e-4699-8e91-72f150543877",
   "metadata": {},
   "outputs": [],
   "source": [
    "def rename_columns(df):\n",
    "    return (df\n",
    "        .rename(columns={\n",
    "            \"id\": \"o_lines_id\",\n",
    "            \"id_order\":  \"order_id\",      \n",
    "            \"product_quantity\":\"o_lines_product_qty\",        \n",
    "            \"unit_price\": \"o_lines_unit_price\", \n",
    "            \"date\":\"o_lines_date\"\n",
    "            },\n",
    "        )\n",
    "    )"
   ]
  },
  {
   "cell_type": "markdown",
   "id": "d54d0e78-301b-4247-951e-e9dae07e59ba",
   "metadata": {},
   "source": [
    "### Remove duplicates"
   ]
  },
  {
   "cell_type": "code",
   "execution_count": 11,
   "id": "8453c0be-e46e-4dde-b8c4-449bb1c8738a",
   "metadata": {},
   "outputs": [],
   "source": [
    "@log_step\n",
    "def remove_duplicates(df):\n",
    "    return df.drop_duplicates()"
   ]
  },
  {
   "cell_type": "markdown",
   "id": "f647c2a2",
   "metadata": {},
   "source": [
    "### Adjust price"
   ]
  },
  {
   "cell_type": "code",
   "execution_count": 12,
   "id": "8aaa4a3e",
   "metadata": {},
   "outputs": [],
   "source": [
    "@log_step\n",
    "def adjust_price(df):\n",
    "    df[\"o_lines_unit_price\"] = df[\"o_lines_unit_price\"].str.replace(\"\\.\",\"\", regex=True)\n",
    "    df[\"o_lines_unit_price\"] = pd.to_numeric(df[\"o_lines_unit_price\"]) / 100\n",
    "    return df"
   ]
  },
  {
   "cell_type": "markdown",
   "id": "cfb609d4",
   "metadata": {},
   "source": [
    "### Missing Values"
   ]
  },
  {
   "cell_type": "code",
   "execution_count": 13,
   "id": "3f833e4d",
   "metadata": {},
   "outputs": [],
   "source": [
    "@log_step\n",
    "def missing_values(df):\n",
    "    return df"
   ]
  },
  {
   "cell_type": "markdown",
   "id": "c7019c19",
   "metadata": {},
   "source": [
    "### Adjust data types"
   ]
  },
  {
   "cell_type": "code",
   "execution_count": 14,
   "id": "b9cef212",
   "metadata": {},
   "outputs": [],
   "source": [
    "@log_step\n",
    "def adjust_data_types(df):\n",
    "    df[\"o_lines_id\"] = df[\"o_lines_id\"].astype(\"string\")\n",
    "    df[\"order_id\"] = df[\"order_id\"].astype(\"string\")\n",
    "    df[\"o_lines_date\"] = pd.to_datetime(df[\"o_lines_date\"], format='%Y-%m-%d %H:%M:%S')\n",
    "    return df"
   ]
  },
  {
   "cell_type": "markdown",
   "id": "e2474140",
   "metadata": {},
   "source": [
    "### Drop Columns"
   ]
  },
  {
   "cell_type": "code",
   "execution_count": 15,
   "id": "71232642",
   "metadata": {},
   "outputs": [],
   "source": [
    "@log_step\n",
    "def drop_columns(df, cols):\n",
    "    return df.drop(columns=cols)\n"
   ]
  },
  {
   "cell_type": "markdown",
   "id": "9d951e94",
   "metadata": {},
   "source": [
    "### Add columns"
   ]
  },
  {
   "cell_type": "code",
   "execution_count": 16,
   "id": "db4db0c3",
   "metadata": {},
   "outputs": [],
   "source": [
    "@log_step\n",
    "def add_columns(df):\n",
    "    df = df.assign(o_lines_year = df[\"o_lines_date\"].dt.strftime(\"%Y\"))\n",
    "    df = df.assign(o_lines_month = df[\"o_lines_date\"].dt.strftime(\"%M\"))\n",
    "    df = df.assign(o_lines_day = df[\"o_lines_date\"].dt.strftime(\"%A\"))\n",
    "    df = df.assign(o_lines_hour = df[\"o_lines_date\"].dt.strftime(\"%H\"))\n",
    "    return df"
   ]
  },
  {
   "cell_type": "markdown",
   "id": "163e5fd5",
   "metadata": {},
   "source": [
    "### End Pipeline"
   ]
  },
  {
   "cell_type": "code",
   "execution_count": 17,
   "id": "120b5445",
   "metadata": {},
   "outputs": [],
   "source": [
    "@log_step\n",
    "def end_pipeline(df):\n",
    "    df.to_csv(f\"../../data/clean_data/clean_{df_name}.csv\", index = False)\n",
    "    return df"
   ]
  },
  {
   "cell_type": "markdown",
   "id": "75b48789-4011-43c0-b453-ccd8003b2bfb",
   "metadata": {},
   "source": [
    "## Run Cleaning"
   ]
  },
  {
   "cell_type": "code",
   "execution_count": 25,
   "id": "17228ead-fc86-4dc6-8707-500ea870ef17",
   "metadata": {},
   "outputs": [
    {
     "name": "stdout",
     "output_type": "stream",
     "text": [
      "start_pipeline:\n",
      " shape=(293983, 7) took 0:00:00.016508s\n",
      "\n",
      "remove_duplicates:\n",
      " shape=(293983, 7) took 0:00:00.193220s\n",
      "\n",
      "missing_values:\n",
      " shape=(293983, 7) took 0:00:00.000008s\n",
      "\n",
      "adjust_price:\n",
      " shape=(293983, 7) took 0:00:00.453441s\n",
      "\n",
      "adjust_data_types:\n",
      " shape=(293983, 7) took 0:00:00.559255s\n",
      "\n",
      "add_columns:\n",
      " shape=(293983, 11) took 0:00:08.699243s\n",
      "\n",
      "drop_columns:\n",
      " shape=(293983, 10) took 0:00:00.058681s\n",
      "\n",
      "end_pipeline:\n",
      " shape=(293983, 10) took 0:00:01.800246s\n",
      "\n"
     ]
    }
   ],
   "source": [
    "o_lines = (\n",
    "init_df\n",
    "    .pipe(start_pipeline)       # copy df\n",
    "    .pipe(rename_columns)       # naming conventions\n",
    "    .pipe(remove_duplicates)    # no duplicates\n",
    "    .pipe(missing_values)       # no missing values\n",
    "    .pipe(adjust_price)         # removed second dot: 1.000.99 -> 1000.99  + to_numeric \n",
    "    .pipe(adjust_data_types)    # o_lines_id -> STRING, order_id --> STRING, o_lines_date --> DATETIME\n",
    "    .pipe(add_columns)          # o_lines_year, o_lines_month, o_lines_day, o_lines_hour\n",
    "    .pipe(drop_columns, cols=[\"product_id\"])\n",
    "    .pipe(end_pipeline)         # save clean data as .csv \n",
    ")"
   ]
  },
  {
   "cell_type": "markdown",
   "id": "e3b8ea51",
   "metadata": {},
   "source": [
    "## Profile Report"
   ]
  },
  {
   "cell_type": "markdown",
   "id": "459d54d6",
   "metadata": {},
   "source": [
    "### Types"
   ]
  },
  {
   "cell_type": "markdown",
   "id": "e36fd800",
   "metadata": {},
   "source": [
    "#### Before"
   ]
  },
  {
   "cell_type": "code",
   "execution_count": 29,
   "id": "9b19fb48",
   "metadata": {},
   "outputs": [
    {
     "data": {
      "text/plain": [
       "id                   int64\n",
       "id_order             int64\n",
       "product_id           int64\n",
       "product_quantity     int64\n",
       "sku                 object\n",
       "unit_price          object\n",
       "date                object\n",
       "dtype: object"
      ]
     },
     "execution_count": 29,
     "metadata": {},
     "output_type": "execute_result"
    }
   ],
   "source": [
    "init_df.dtypes"
   ]
  },
  {
   "cell_type": "markdown",
   "id": "02e329b3",
   "metadata": {},
   "source": [
    "#### After"
   ]
  },
  {
   "cell_type": "code",
   "execution_count": 30,
   "id": "b8776352",
   "metadata": {},
   "outputs": [
    {
     "data": {
      "text/plain": [
       "o_lines_id                     string\n",
       "order_id                       string\n",
       "o_lines_product_qty             int64\n",
       "sku                            object\n",
       "o_lines_unit_price            float64\n",
       "o_lines_date           datetime64[ns]\n",
       "o_lines_year                   object\n",
       "o_lines_month                  object\n",
       "o_lines_day                    object\n",
       "o_lines_hour                   object\n",
       "dtype: object"
      ]
     },
     "execution_count": 30,
     "metadata": {},
     "output_type": "execute_result"
    }
   ],
   "source": [
    "o_lines.dtypes"
   ]
  },
  {
   "cell_type": "markdown",
   "id": "d395ee04",
   "metadata": {},
   "source": [
    "### Samples"
   ]
  },
  {
   "cell_type": "markdown",
   "id": "dab044d6",
   "metadata": {},
   "source": [
    "#### Before"
   ]
  },
  {
   "cell_type": "code",
   "execution_count": 20,
   "id": "31895137",
   "metadata": {},
   "outputs": [
    {
     "data": {
      "text/html": [
       "<div>\n",
       "<style scoped>\n",
       "    .dataframe tbody tr th:only-of-type {\n",
       "        vertical-align: middle;\n",
       "    }\n",
       "\n",
       "    .dataframe tbody tr th {\n",
       "        vertical-align: top;\n",
       "    }\n",
       "\n",
       "    .dataframe thead th {\n",
       "        text-align: right;\n",
       "    }\n",
       "</style>\n",
       "<table border=\"1\" class=\"dataframe\">\n",
       "  <thead>\n",
       "    <tr style=\"text-align: right;\">\n",
       "      <th></th>\n",
       "      <th>id</th>\n",
       "      <th>id_order</th>\n",
       "      <th>product_id</th>\n",
       "      <th>product_quantity</th>\n",
       "      <th>sku</th>\n",
       "      <th>unit_price</th>\n",
       "      <th>date</th>\n",
       "    </tr>\n",
       "  </thead>\n",
       "  <tbody>\n",
       "    <tr>\n",
       "      <th>0</th>\n",
       "      <td>1119109</td>\n",
       "      <td>299539</td>\n",
       "      <td>0</td>\n",
       "      <td>1</td>\n",
       "      <td>OTT0133</td>\n",
       "      <td>18.99</td>\n",
       "      <td>2017-01-01 00:07:19</td>\n",
       "    </tr>\n",
       "    <tr>\n",
       "      <th>1</th>\n",
       "      <td>1119110</td>\n",
       "      <td>299540</td>\n",
       "      <td>0</td>\n",
       "      <td>1</td>\n",
       "      <td>LGE0043</td>\n",
       "      <td>399.00</td>\n",
       "      <td>2017-01-01 00:19:45</td>\n",
       "    </tr>\n",
       "    <tr>\n",
       "      <th>2</th>\n",
       "      <td>1119111</td>\n",
       "      <td>299541</td>\n",
       "      <td>0</td>\n",
       "      <td>1</td>\n",
       "      <td>PAR0071</td>\n",
       "      <td>474.05</td>\n",
       "      <td>2017-01-01 00:20:57</td>\n",
       "    </tr>\n",
       "    <tr>\n",
       "      <th>3</th>\n",
       "      <td>1119112</td>\n",
       "      <td>299542</td>\n",
       "      <td>0</td>\n",
       "      <td>1</td>\n",
       "      <td>WDT0315</td>\n",
       "      <td>68.39</td>\n",
       "      <td>2017-01-01 00:51:40</td>\n",
       "    </tr>\n",
       "    <tr>\n",
       "      <th>4</th>\n",
       "      <td>1119113</td>\n",
       "      <td>299543</td>\n",
       "      <td>0</td>\n",
       "      <td>1</td>\n",
       "      <td>JBL0104</td>\n",
       "      <td>23.74</td>\n",
       "      <td>2017-01-01 01:06:38</td>\n",
       "    </tr>\n",
       "  </tbody>\n",
       "</table>\n",
       "</div>"
      ],
      "text/plain": [
       "        id  id_order  product_id  product_quantity      sku unit_price  \\\n",
       "0  1119109    299539           0                 1  OTT0133      18.99   \n",
       "1  1119110    299540           0                 1  LGE0043     399.00   \n",
       "2  1119111    299541           0                 1  PAR0071     474.05   \n",
       "3  1119112    299542           0                 1  WDT0315      68.39   \n",
       "4  1119113    299543           0                 1  JBL0104      23.74   \n",
       "\n",
       "                  date  \n",
       "0  2017-01-01 00:07:19  \n",
       "1  2017-01-01 00:19:45  \n",
       "2  2017-01-01 00:20:57  \n",
       "3  2017-01-01 00:51:40  \n",
       "4  2017-01-01 01:06:38  "
      ]
     },
     "execution_count": 20,
     "metadata": {},
     "output_type": "execute_result"
    }
   ],
   "source": [
    "init_df_head = (\n",
    "init_df.head()\n",
    ")\n",
    "\n",
    "init_df_head"
   ]
  },
  {
   "cell_type": "markdown",
   "id": "51a35b25",
   "metadata": {},
   "source": [
    "#### After"
   ]
  },
  {
   "cell_type": "code",
   "execution_count": 21,
   "id": "14db11fe",
   "metadata": {},
   "outputs": [
    {
     "data": {
      "text/html": [
       "<div>\n",
       "<style scoped>\n",
       "    .dataframe tbody tr th:only-of-type {\n",
       "        vertical-align: middle;\n",
       "    }\n",
       "\n",
       "    .dataframe tbody tr th {\n",
       "        vertical-align: top;\n",
       "    }\n",
       "\n",
       "    .dataframe thead th {\n",
       "        text-align: right;\n",
       "    }\n",
       "</style>\n",
       "<table border=\"1\" class=\"dataframe\">\n",
       "  <thead>\n",
       "    <tr style=\"text-align: right;\">\n",
       "      <th></th>\n",
       "      <th>o_lines_id</th>\n",
       "      <th>order_id</th>\n",
       "      <th>o_lines_product_qty</th>\n",
       "      <th>sku</th>\n",
       "      <th>o_lines_unit_price</th>\n",
       "      <th>o_lines_year</th>\n",
       "      <th>o_lines_month</th>\n",
       "      <th>o_lines_day</th>\n",
       "      <th>o_lines_hour</th>\n",
       "    </tr>\n",
       "  </thead>\n",
       "  <tbody>\n",
       "    <tr>\n",
       "      <th>0</th>\n",
       "      <td>1119109</td>\n",
       "      <td>299539</td>\n",
       "      <td>1</td>\n",
       "      <td>OTT0133</td>\n",
       "      <td>18.99</td>\n",
       "      <td>2017</td>\n",
       "      <td>07</td>\n",
       "      <td>Sunday</td>\n",
       "      <td>00</td>\n",
       "    </tr>\n",
       "    <tr>\n",
       "      <th>1</th>\n",
       "      <td>1119110</td>\n",
       "      <td>299540</td>\n",
       "      <td>1</td>\n",
       "      <td>LGE0043</td>\n",
       "      <td>399.00</td>\n",
       "      <td>2017</td>\n",
       "      <td>19</td>\n",
       "      <td>Sunday</td>\n",
       "      <td>00</td>\n",
       "    </tr>\n",
       "    <tr>\n",
       "      <th>2</th>\n",
       "      <td>1119111</td>\n",
       "      <td>299541</td>\n",
       "      <td>1</td>\n",
       "      <td>PAR0071</td>\n",
       "      <td>474.05</td>\n",
       "      <td>2017</td>\n",
       "      <td>20</td>\n",
       "      <td>Sunday</td>\n",
       "      <td>00</td>\n",
       "    </tr>\n",
       "    <tr>\n",
       "      <th>3</th>\n",
       "      <td>1119112</td>\n",
       "      <td>299542</td>\n",
       "      <td>1</td>\n",
       "      <td>WDT0315</td>\n",
       "      <td>68.39</td>\n",
       "      <td>2017</td>\n",
       "      <td>51</td>\n",
       "      <td>Sunday</td>\n",
       "      <td>00</td>\n",
       "    </tr>\n",
       "    <tr>\n",
       "      <th>4</th>\n",
       "      <td>1119113</td>\n",
       "      <td>299543</td>\n",
       "      <td>1</td>\n",
       "      <td>JBL0104</td>\n",
       "      <td>23.74</td>\n",
       "      <td>2017</td>\n",
       "      <td>06</td>\n",
       "      <td>Sunday</td>\n",
       "      <td>01</td>\n",
       "    </tr>\n",
       "  </tbody>\n",
       "</table>\n",
       "</div>"
      ],
      "text/plain": [
       "  o_lines_id order_id  o_lines_product_qty      sku  o_lines_unit_price  \\\n",
       "0    1119109   299539                    1  OTT0133               18.99   \n",
       "1    1119110   299540                    1  LGE0043              399.00   \n",
       "2    1119111   299541                    1  PAR0071              474.05   \n",
       "3    1119112   299542                    1  WDT0315               68.39   \n",
       "4    1119113   299543                    1  JBL0104               23.74   \n",
       "\n",
       "  o_lines_year o_lines_month o_lines_day o_lines_hour  \n",
       "0         2017            07      Sunday           00  \n",
       "1         2017            19      Sunday           00  \n",
       "2         2017            20      Sunday           00  \n",
       "3         2017            51      Sunday           00  \n",
       "4         2017            06      Sunday           01  "
      ]
     },
     "execution_count": 21,
     "metadata": {},
     "output_type": "execute_result"
    }
   ],
   "source": [
    "o_lines_cleaned_head = (\n",
    "o_lines.head()\n",
    ")\n",
    "\n",
    "o_lines_cleaned_head"
   ]
  },
  {
   "cell_type": "markdown",
   "id": "638e79b6",
   "metadata": {},
   "source": [
    "### Info - Types Range, Non Null Count, Dtype"
   ]
  },
  {
   "cell_type": "markdown",
   "id": "ccfa29aa",
   "metadata": {},
   "source": [
    "#### Before"
   ]
  },
  {
   "cell_type": "code",
   "execution_count": 22,
   "id": "a40edac8",
   "metadata": {},
   "outputs": [
    {
     "name": "stdout",
     "output_type": "stream",
     "text": [
      "<class 'pandas.core.frame.DataFrame'>\n",
      "RangeIndex: 293983 entries, 0 to 293982\n",
      "Data columns (total 7 columns):\n",
      " #   Column            Non-Null Count   Dtype \n",
      "---  ------            --------------   ----- \n",
      " 0   id                293983 non-null  int64 \n",
      " 1   id_order          293983 non-null  int64 \n",
      " 2   product_id        293983 non-null  int64 \n",
      " 3   product_quantity  293983 non-null  int64 \n",
      " 4   sku               293983 non-null  object\n",
      " 5   unit_price        293983 non-null  object\n",
      " 6   date              293983 non-null  object\n",
      "dtypes: int64(4), object(3)\n",
      "memory usage: 15.7+ MB\n"
     ]
    }
   ],
   "source": [
    "init_df.info()"
   ]
  },
  {
   "cell_type": "markdown",
   "id": "60664a60",
   "metadata": {},
   "source": [
    "#### After"
   ]
  },
  {
   "cell_type": "code",
   "execution_count": 23,
   "id": "cf03966c",
   "metadata": {},
   "outputs": [
    {
     "name": "stdout",
     "output_type": "stream",
     "text": [
      "<class 'pandas.core.frame.DataFrame'>\n",
      "Int64Index: 293983 entries, 0 to 293982\n",
      "Data columns (total 9 columns):\n",
      " #   Column               Non-Null Count   Dtype  \n",
      "---  ------               --------------   -----  \n",
      " 0   o_lines_id           293983 non-null  string \n",
      " 1   order_id             293983 non-null  string \n",
      " 2   o_lines_product_qty  293983 non-null  int64  \n",
      " 3   sku                  293983 non-null  object \n",
      " 4   o_lines_unit_price   293983 non-null  float64\n",
      " 5   o_lines_year         293983 non-null  object \n",
      " 6   o_lines_month        293983 non-null  object \n",
      " 7   o_lines_day          293983 non-null  object \n",
      " 8   o_lines_hour         293983 non-null  object \n",
      "dtypes: float64(1), int64(1), object(5), string(2)\n",
      "memory usage: 22.4+ MB\n"
     ]
    }
   ],
   "source": [
    "o_lines.info()"
   ]
  },
  {
   "cell_type": "markdown",
   "id": "8dc344d8",
   "metadata": {},
   "source": [
    "### Pandas - Profile Report"
   ]
  },
  {
   "cell_type": "code",
   "execution_count": 24,
   "id": "efbbdce6",
   "metadata": {},
   "outputs": [],
   "source": [
    "# ProfileReport(o_lines)"
   ]
  }
 ],
 "metadata": {
  "kernelspec": {
   "display_name": "Python 3 (ipykernel)",
   "language": "python",
   "name": "python3"
  },
  "language_info": {
   "codemirror_mode": {
    "name": "ipython",
    "version": 3
   },
   "file_extension": ".py",
   "mimetype": "text/x-python",
   "name": "python",
   "nbconvert_exporter": "python",
   "pygments_lexer": "ipython3",
   "version": "3.9.7"
  },
  "toc-showmarkdowntxt": false
 },
 "nbformat": 4,
 "nbformat_minor": 5
}
