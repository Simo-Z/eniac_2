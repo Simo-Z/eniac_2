{
 "cells": [
  {
   "cell_type": "markdown",
   "id": "03efac02",
   "metadata": {},
   "source": [
    "# Clean Products"
   ]
  },
  {
   "cell_type": "markdown",
   "id": "7138082b-80dd-4607-97a2-8d5d1c70d8fe",
   "metadata": {},
   "source": [
    "## Import Packages and Raw_data"
   ]
  },
  {
   "cell_type": "code",
   "execution_count": 1,
   "id": "819a34c1-9a8e-43cc-b34d-c49938ede945",
   "metadata": {},
   "outputs": [
    {
     "name": "stdout",
     "output_type": "stream",
     "text": [
      "<class 'pandas.core.frame.DataFrame'>\n",
      "RangeIndex: 19326 entries, 0 to 19325\n",
      "Data columns (total 7 columns):\n",
      " #   Column       Non-Null Count  Dtype \n",
      "---  ------       --------------  ----- \n",
      " 0   sku          19326 non-null  object\n",
      " 1   name         19326 non-null  object\n",
      " 2   desc         19319 non-null  object\n",
      " 3   price        19280 non-null  object\n",
      " 4   promo_price  19326 non-null  object\n",
      " 5   in_stock     19326 non-null  int64 \n",
      " 6   type         19276 non-null  object\n",
      "dtypes: int64(1), object(6)\n",
      "memory usage: 1.0+ MB\n"
     ]
    }
   ],
   "source": [
    "import pandas as pd\n",
    "import numpy as np\n",
    "import matplotlib.pyplot as plt\n",
    "\n",
    "# Global variables\n",
    "df_name = \"products\" \n",
    "data_path = '../../data/raw_data' \n",
    "\n",
    "\n",
    "init_df = pd.read_csv(f\"{data_path }/{df_name}.csv\")\n",
    "\n",
    "init_df.info()\n"
   ]
  },
  {
   "cell_type": "markdown",
   "id": "988110a7-0c79-4798-96b6-02dcba2dee2d",
   "metadata": {},
   "source": [
    "## Logging"
   ]
  },
  {
   "cell_type": "code",
   "execution_count": 2,
   "id": "6620dfdd-fcd1-423d-b5ae-9aaa69c5703e",
   "metadata": {},
   "outputs": [],
   "source": [
    "from functools import wraps\n",
    "import datetime as dt\n",
    "\n",
    "def log_step(func):\n",
    "    @wraps(func)\n",
    "    def wrapper(*args, **kwargs):\n",
    "        tic = dt.datetime.now()\n",
    "        result = func(*args, **kwargs)\n",
    "        time_taken = str(dt.datetime.now() - tic)\n",
    "        print(f\"{func.__name__}:\\n shape={result.shape} took {time_taken}s\\n\")\n",
    "        return result\n",
    "\n",
    "    return wrapper"
   ]
  },
  {
   "cell_type": "markdown",
   "id": "39688f83",
   "metadata": {},
   "source": [
    "## Plot Function"
   ]
  },
  {
   "cell_type": "code",
   "execution_count": 3,
   "id": "3ad9e84d",
   "metadata": {},
   "outputs": [],
   "source": [
    "def plot_lines(\n",
    "    lines,\n",
    "    x,\n",
    "    title = \"\", \n",
    "    legend =\"\", \n",
    "    x_label=\"\", \n",
    "    y_label=\"\",\n",
    "    x_ticks =\"\",\n",
    "    width = 22,\n",
    "    height= 5\n",
    "    ):\n",
    "    ax = plt.subplots(figsize=(width, height))\n",
    "    plt.plot(x, lines[0], \"\" )\n",
    "    plt.plot(x,lines[1], \"r\")\n",
    "    plt.title(title)\n",
    "    plt.legend(legend)\n",
    "    plt.ylabel(y_label)\n",
    "    plt.xlabel(x_label)\n",
    "    plt.xticks(x_ticks, rotation=90)\n",
    "    plt.show()\n",
    "    "
   ]
  },
  {
   "cell_type": "markdown",
   "id": "94d42427-88df-45f3-bba6-9abf1d93f9ed",
   "metadata": {},
   "source": [
    "## Pipeline - Functions"
   ]
  },
  {
   "cell_type": "markdown",
   "id": "aff48f49-1a09-4483-8bf9-bd90bf3d9cc6",
   "metadata": {},
   "source": [
    "- [x]  Start\n",
    "- [x]  Remove duplicates\n",
    "- [_]  dots in price\n",
    "- [_]  other weird numbers\n",
    "- [_]  Missing values\n",
    "- [_]  Prices to Numeric"
   ]
  },
  {
   "cell_type": "markdown",
   "id": "66726894-88a8-4102-9977-a77a43c6d592",
   "metadata": {},
   "source": [
    "### Start Pipeline"
   ]
  },
  {
   "cell_type": "code",
   "execution_count": 4,
   "id": "aab6744b-d4cd-40a8-b71c-6e38fd5e272c",
   "metadata": {},
   "outputs": [],
   "source": [
    "@log_step\n",
    "def start_pipeline(df):\n",
    "    return df.copy()"
   ]
  },
  {
   "cell_type": "markdown",
   "id": "4f7a25ba-a89a-494e-9809-2311b5a8233a",
   "metadata": {},
   "source": [
    "### Rename Columns"
   ]
  },
  {
   "cell_type": "code",
   "execution_count": 5,
   "id": "fc2b2767-782e-4699-8e91-72f150543877",
   "metadata": {},
   "outputs": [],
   "source": [
    "def rename_columns(df):\n",
    "    df.rename(columns={\n",
    "        \"sku\": \"product_code\",\n",
    "        \"name\":  \"product_name\",      \n",
    "        \"desc\":\"product_description\",\n",
    "        \"price\":\"product_price\",        \n",
    "        \"promo_price\":\"product_promo_price\",\n",
    "        \"in_stock\": \"product_in_stock\", \n",
    "        \"type\":\"product_type\"\n",
    "    },\n",
    "             inplace = True)\n",
    "    return df"
   ]
  },
  {
   "cell_type": "markdown",
   "id": "d54d0e78-301b-4247-951e-e9dae07e59ba",
   "metadata": {},
   "source": [
    "### Remove duplicates\n",
    "\n",
    "Use `DataFrame.drop_duplicates()` to remove rows that appear twice (or more) in the dataset: that means that these rows contain exactly the same values across all columns. Set the argument `inplace=True` so that changes actually take place. You can count the rows before and after running this code with `len()` and see how many rows were dropped this way.\n",
    "\n",
    "It is possible that, after doing this, you still have a duplicate sku, which you should not have —Stock Keeping Units are meant to be unique`"
   ]
  },
  {
   "cell_type": "code",
   "execution_count": 6,
   "id": "8453c0be-e46e-4dde-b8c4-449bb1c8738a",
   "metadata": {},
   "outputs": [],
   "source": [
    "@log_step\n",
    "def remove_duplicates(df):\n",
    "    df.drop_duplicates(inplace = True)\n",
    "    # there is one dupiceted sku --> removed the one with missing price. Index 8000 (second appearence)\n",
    "    df.drop_duplicates(subset='product_code', keep=\"first\", inplace = True )\n",
    "    return df \n",
    "    \n"
   ]
  },
  {
   "cell_type": "markdown",
   "id": "f647c2a2",
   "metadata": {},
   "source": [
    "### Adjust price"
   ]
  },
  {
   "cell_type": "code",
   "execution_count": 7,
   "id": "e5e9ed3e-7772-4396-9bf4-f3accb101a10",
   "metadata": {},
   "outputs": [],
   "source": [
    "@log_step\n",
    "def adjust_price(df):\n",
    "    # Make sure that every price is a string\n",
    "    df[\"product_price\"] = df[\"product_price\"].astype(\"string\")\n",
    "    # fill na values with \"000.000\"\n",
    "    df['product_price'] = df['product_price'].fillna(\"000.000\")\n",
    "    df = df.assign(product_decimal_count = df[\"product_price\"].str.split(\"\\.\") )\n",
    "    df = df.assign(price_check = df[\"product_price\"].str.contains(\"\\.\\d{3}$\"))\n",
    "    return df"
   ]
  },
  {
   "cell_type": "markdown",
   "id": "cfb609d4",
   "metadata": {},
   "source": [
    "### Missing Values"
   ]
  },
  {
   "cell_type": "code",
   "execution_count": 8,
   "id": "3f833e4d",
   "metadata": {},
   "outputs": [],
   "source": [
    "@log_step\n",
    "def missing_values(df):\n",
    "    return df"
   ]
  },
  {
   "cell_type": "markdown",
   "id": "c7019c19",
   "metadata": {},
   "source": [
    "### Adjust data types"
   ]
  },
  {
   "cell_type": "code",
   "execution_count": 9,
   "id": "b9cef212",
   "metadata": {},
   "outputs": [],
   "source": [
    "@log_step\n",
    "def adjust_data_types(df):\n",
    "    return df"
   ]
  },
  {
   "cell_type": "markdown",
   "id": "de5ac4d3",
   "metadata": {},
   "source": [
    "### Plot Samples"
   ]
  },
  {
   "cell_type": "code",
   "execution_count": 10,
   "id": "5afa18d3",
   "metadata": {},
   "outputs": [],
   "source": [
    "@log_step\n",
    "def plot_samples(df, num_samples = 50):\n",
    "    return df"
   ]
  },
  {
   "cell_type": "markdown",
   "id": "e2474140",
   "metadata": {},
   "source": [
    "### Drop Columns"
   ]
  },
  {
   "cell_type": "code",
   "execution_count": 11,
   "id": "71232642",
   "metadata": {},
   "outputs": [],
   "source": [
    "@log_step\n",
    "def drop_columns(df):\n",
    "    return df\n"
   ]
  },
  {
   "cell_type": "markdown",
   "id": "163e5fd5",
   "metadata": {},
   "source": [
    "### End Pipeline"
   ]
  },
  {
   "cell_type": "code",
   "execution_count": 12,
   "id": "120b5445",
   "metadata": {},
   "outputs": [],
   "source": [
    "def end_pipeline(df):\n",
    "    products.to_csv(f\"../../data/clean_data/clean_{df_name}.csv\")\n",
    "    return df"
   ]
  },
  {
   "cell_type": "markdown",
   "id": "513a363e-7af2-4175-9ada-b6a8d50f970d",
   "metadata": {},
   "source": [
    "### Clean the rest of the DataFrames\n",
    "\n",
    "The products table is probably the one that needed more cleaning, but the other tables might need some work too. Check them one by one and, when you’re done, move on to the next lesson —Data Quality."
   ]
  },
  {
   "cell_type": "markdown",
   "id": "75b48789-4011-43c0-b453-ccd8003b2bfb",
   "metadata": {},
   "source": [
    "## Run Cleaning"
   ]
  },
  {
   "cell_type": "code",
   "execution_count": 13,
   "id": "17228ead-fc86-4dc6-8707-500ea870ef17",
   "metadata": {},
   "outputs": [
    {
     "name": "stdout",
     "output_type": "stream",
     "text": [
      "start_pipeline:\n",
      " shape=(19326, 7) took 0:00:00.001976s\n",
      "\n",
      "remove_duplicates:\n",
      " shape=(10579, 7) took 0:00:00.032687s\n",
      "\n",
      "adjust_price:\n",
      " shape=(10579, 9) took 0:00:00.030382s\n",
      "\n",
      "missing_values:\n",
      " shape=(10579, 9) took 0:00:00.000006s\n",
      "\n",
      "adjust_data_types:\n",
      " shape=(10579, 9) took 0:00:00.000003s\n",
      "\n",
      "plot_samples:\n",
      " shape=(10579, 9) took 0:00:00.000002s\n",
      "\n",
      "drop_columns:\n",
      " shape=(10579, 9) took 0:00:00.000001s\n",
      "\n"
     ]
    },
    {
     "ename": "NameError",
     "evalue": "name 'products' is not defined",
     "output_type": "error",
     "traceback": [
      "\u001b[0;31m---------------------------------------------------------------------------\u001b[0m",
      "\u001b[0;31mNameError\u001b[0m                                 Traceback (most recent call last)",
      "\u001b[0;32m/var/folders/kx/b3xc9jhj6qd_wgghcg01wqyr0000gn/T/ipykernel_16244/1180040277.py\u001b[0m in \u001b[0;36m<module>\u001b[0;34m\u001b[0m\n\u001b[1;32m      1\u001b[0m products = (\n\u001b[0;32m----> 2\u001b[0;31m \u001b[0minit_df\u001b[0m\u001b[0;34m\u001b[0m\u001b[0;34m\u001b[0m\u001b[0m\n\u001b[0m\u001b[1;32m      3\u001b[0m     \u001b[0;34m.\u001b[0m\u001b[0mpipe\u001b[0m\u001b[0;34m(\u001b[0m\u001b[0mstart_pipeline\u001b[0m\u001b[0;34m)\u001b[0m\u001b[0;34m\u001b[0m\u001b[0;34m\u001b[0m\u001b[0m\n\u001b[1;32m      4\u001b[0m     \u001b[0;34m.\u001b[0m\u001b[0mpipe\u001b[0m\u001b[0;34m(\u001b[0m\u001b[0mrename_columns\u001b[0m\u001b[0;34m)\u001b[0m\u001b[0;34m\u001b[0m\u001b[0;34m\u001b[0m\u001b[0m\n\u001b[1;32m      5\u001b[0m     \u001b[0;34m.\u001b[0m\u001b[0mpipe\u001b[0m\u001b[0;34m(\u001b[0m\u001b[0mremove_duplicates\u001b[0m\u001b[0;34m)\u001b[0m\u001b[0;34m\u001b[0m\u001b[0;34m\u001b[0m\u001b[0m\n",
      "\u001b[0;32m/usr/local/anaconda3/lib/python3.9/site-packages/pandas/core/generic.py\u001b[0m in \u001b[0;36mpipe\u001b[0;34m(self, func, *args, **kwargs)\u001b[0m\n\u001b[1;32m   5428\u001b[0m         ...  )  # doctest: +SKIP\n\u001b[1;32m   5429\u001b[0m         \"\"\"\n\u001b[0;32m-> 5430\u001b[0;31m         \u001b[0;32mreturn\u001b[0m \u001b[0mcom\u001b[0m\u001b[0;34m.\u001b[0m\u001b[0mpipe\u001b[0m\u001b[0;34m(\u001b[0m\u001b[0mself\u001b[0m\u001b[0;34m,\u001b[0m \u001b[0mfunc\u001b[0m\u001b[0;34m,\u001b[0m \u001b[0;34m*\u001b[0m\u001b[0margs\u001b[0m\u001b[0;34m,\u001b[0m \u001b[0;34m**\u001b[0m\u001b[0mkwargs\u001b[0m\u001b[0;34m)\u001b[0m\u001b[0;34m\u001b[0m\u001b[0;34m\u001b[0m\u001b[0m\n\u001b[0m\u001b[1;32m   5431\u001b[0m \u001b[0;34m\u001b[0m\u001b[0m\n\u001b[1;32m   5432\u001b[0m     \u001b[0;31m# ----------------------------------------------------------------------\u001b[0m\u001b[0;34m\u001b[0m\u001b[0;34m\u001b[0m\u001b[0m\n",
      "\u001b[0;32m/usr/local/anaconda3/lib/python3.9/site-packages/pandas/core/common.py\u001b[0m in \u001b[0;36mpipe\u001b[0;34m(obj, func, *args, **kwargs)\u001b[0m\n\u001b[1;32m    469\u001b[0m         \u001b[0;32mreturn\u001b[0m \u001b[0mfunc\u001b[0m\u001b[0;34m(\u001b[0m\u001b[0;34m*\u001b[0m\u001b[0margs\u001b[0m\u001b[0;34m,\u001b[0m \u001b[0;34m**\u001b[0m\u001b[0mkwargs\u001b[0m\u001b[0;34m)\u001b[0m\u001b[0;34m\u001b[0m\u001b[0;34m\u001b[0m\u001b[0m\n\u001b[1;32m    470\u001b[0m     \u001b[0;32melse\u001b[0m\u001b[0;34m:\u001b[0m\u001b[0;34m\u001b[0m\u001b[0;34m\u001b[0m\u001b[0m\n\u001b[0;32m--> 471\u001b[0;31m         \u001b[0;32mreturn\u001b[0m \u001b[0mfunc\u001b[0m\u001b[0;34m(\u001b[0m\u001b[0mobj\u001b[0m\u001b[0;34m,\u001b[0m \u001b[0;34m*\u001b[0m\u001b[0margs\u001b[0m\u001b[0;34m,\u001b[0m \u001b[0;34m**\u001b[0m\u001b[0mkwargs\u001b[0m\u001b[0;34m)\u001b[0m\u001b[0;34m\u001b[0m\u001b[0;34m\u001b[0m\u001b[0m\n\u001b[0m\u001b[1;32m    472\u001b[0m \u001b[0;34m\u001b[0m\u001b[0m\n\u001b[1;32m    473\u001b[0m \u001b[0;34m\u001b[0m\u001b[0m\n",
      "\u001b[0;32m/var/folders/kx/b3xc9jhj6qd_wgghcg01wqyr0000gn/T/ipykernel_16244/4094583914.py\u001b[0m in \u001b[0;36mend_pipeline\u001b[0;34m(df)\u001b[0m\n\u001b[1;32m      1\u001b[0m \u001b[0;32mdef\u001b[0m \u001b[0mend_pipeline\u001b[0m\u001b[0;34m(\u001b[0m\u001b[0mdf\u001b[0m\u001b[0;34m)\u001b[0m\u001b[0;34m:\u001b[0m\u001b[0;34m\u001b[0m\u001b[0;34m\u001b[0m\u001b[0m\n\u001b[0;32m----> 2\u001b[0;31m     \u001b[0mproducts\u001b[0m\u001b[0;34m.\u001b[0m\u001b[0mto_csv\u001b[0m\u001b[0;34m(\u001b[0m\u001b[0;34mf\"../../data/clean_data/clean_{df_name}.csv\"\u001b[0m\u001b[0;34m)\u001b[0m\u001b[0;34m\u001b[0m\u001b[0;34m\u001b[0m\u001b[0m\n\u001b[0m\u001b[1;32m      3\u001b[0m     \u001b[0;32mreturn\u001b[0m \u001b[0mdf\u001b[0m\u001b[0;34m\u001b[0m\u001b[0;34m\u001b[0m\u001b[0m\n",
      "\u001b[0;31mNameError\u001b[0m: name 'products' is not defined"
     ]
    }
   ],
   "source": [
    "products = (\n",
    "init_df\n",
    "    .pipe(start_pipeline)\n",
    "    .pipe(rename_columns)\n",
    "    .pipe(remove_duplicates)\n",
    "    .pipe(adjust_price)\n",
    "    .pipe(missing_values)  # Open\n",
    "    .pipe(adjust_data_types) # Open\n",
    "    .pipe(plot_samples) \n",
    "    .pipe(drop_columns) # Open\n",
    "    .pipe(end_pipeline)\n",
    ")\n",
    "products.info()"
   ]
  },
  {
   "cell_type": "markdown",
   "id": "8e25617e",
   "metadata": {},
   "source": [
    "## Discount Analysis"
   ]
  },
  {
   "cell_type": "code",
   "execution_count": null,
   "id": "39592807",
   "metadata": {},
   "outputs": [
    {
     "ename": "KeyError",
     "evalue": "'discount_to_standard_rate'",
     "output_type": "error",
     "traceback": [
      "\u001b[0;31m---------------------------------------------------------------------------\u001b[0m",
      "\u001b[0;31mKeyError\u001b[0m                                  Traceback (most recent call last)",
      "\u001b[0;32m/usr/local/anaconda3/lib/python3.9/site-packages/pandas/core/indexes/base.py\u001b[0m in \u001b[0;36mget_loc\u001b[0;34m(self, key, method, tolerance)\u001b[0m\n\u001b[1;32m   3360\u001b[0m             \u001b[0;32mtry\u001b[0m\u001b[0;34m:\u001b[0m\u001b[0;34m\u001b[0m\u001b[0;34m\u001b[0m\u001b[0m\n\u001b[0;32m-> 3361\u001b[0;31m                 \u001b[0;32mreturn\u001b[0m \u001b[0mself\u001b[0m\u001b[0;34m.\u001b[0m\u001b[0m_engine\u001b[0m\u001b[0;34m.\u001b[0m\u001b[0mget_loc\u001b[0m\u001b[0;34m(\u001b[0m\u001b[0mcasted_key\u001b[0m\u001b[0;34m)\u001b[0m\u001b[0;34m\u001b[0m\u001b[0;34m\u001b[0m\u001b[0m\n\u001b[0m\u001b[1;32m   3362\u001b[0m             \u001b[0;32mexcept\u001b[0m \u001b[0mKeyError\u001b[0m \u001b[0;32mas\u001b[0m \u001b[0merr\u001b[0m\u001b[0;34m:\u001b[0m\u001b[0;34m\u001b[0m\u001b[0;34m\u001b[0m\u001b[0m\n",
      "\u001b[0;32m/usr/local/anaconda3/lib/python3.9/site-packages/pandas/_libs/index.pyx\u001b[0m in \u001b[0;36mpandas._libs.index.IndexEngine.get_loc\u001b[0;34m()\u001b[0m\n",
      "\u001b[0;32m/usr/local/anaconda3/lib/python3.9/site-packages/pandas/_libs/index.pyx\u001b[0m in \u001b[0;36mpandas._libs.index.IndexEngine.get_loc\u001b[0;34m()\u001b[0m\n",
      "\u001b[0;32mpandas/_libs/hashtable_class_helper.pxi\u001b[0m in \u001b[0;36mpandas._libs.hashtable.PyObjectHashTable.get_item\u001b[0;34m()\u001b[0m\n",
      "\u001b[0;32mpandas/_libs/hashtable_class_helper.pxi\u001b[0m in \u001b[0;36mpandas._libs.hashtable.PyObjectHashTable.get_item\u001b[0;34m()\u001b[0m\n",
      "\u001b[0;31mKeyError\u001b[0m: 'discount_to_standard_rate'",
      "\nThe above exception was the direct cause of the following exception:\n",
      "\u001b[0;31mKeyError\u001b[0m                                  Traceback (most recent call last)",
      "\u001b[0;32m/var/folders/kx/b3xc9jhj6qd_wgghcg01wqyr0000gn/T/ipykernel_16167/4215920884.py\u001b[0m in \u001b[0;36m<module>\u001b[0;34m\u001b[0m\n\u001b[0;32m----> 1\u001b[0;31m \u001b[0mproducts\u001b[0m\u001b[0;34m[\u001b[0m\u001b[0;34m\"discount_to_standard_rate\"\u001b[0m\u001b[0;34m]\u001b[0m\u001b[0;34m.\u001b[0m\u001b[0mdescribe\u001b[0m\u001b[0;34m(\u001b[0m\u001b[0;34m)\u001b[0m\u001b[0;34m\u001b[0m\u001b[0;34m\u001b[0m\u001b[0m\n\u001b[0m",
      "\u001b[0;32m/usr/local/anaconda3/lib/python3.9/site-packages/pandas/core/frame.py\u001b[0m in \u001b[0;36m__getitem__\u001b[0;34m(self, key)\u001b[0m\n\u001b[1;32m   3456\u001b[0m             \u001b[0;32mif\u001b[0m \u001b[0mself\u001b[0m\u001b[0;34m.\u001b[0m\u001b[0mcolumns\u001b[0m\u001b[0;34m.\u001b[0m\u001b[0mnlevels\u001b[0m \u001b[0;34m>\u001b[0m \u001b[0;36m1\u001b[0m\u001b[0;34m:\u001b[0m\u001b[0;34m\u001b[0m\u001b[0;34m\u001b[0m\u001b[0m\n\u001b[1;32m   3457\u001b[0m                 \u001b[0;32mreturn\u001b[0m \u001b[0mself\u001b[0m\u001b[0;34m.\u001b[0m\u001b[0m_getitem_multilevel\u001b[0m\u001b[0;34m(\u001b[0m\u001b[0mkey\u001b[0m\u001b[0;34m)\u001b[0m\u001b[0;34m\u001b[0m\u001b[0;34m\u001b[0m\u001b[0m\n\u001b[0;32m-> 3458\u001b[0;31m             \u001b[0mindexer\u001b[0m \u001b[0;34m=\u001b[0m \u001b[0mself\u001b[0m\u001b[0;34m.\u001b[0m\u001b[0mcolumns\u001b[0m\u001b[0;34m.\u001b[0m\u001b[0mget_loc\u001b[0m\u001b[0;34m(\u001b[0m\u001b[0mkey\u001b[0m\u001b[0;34m)\u001b[0m\u001b[0;34m\u001b[0m\u001b[0;34m\u001b[0m\u001b[0m\n\u001b[0m\u001b[1;32m   3459\u001b[0m             \u001b[0;32mif\u001b[0m \u001b[0mis_integer\u001b[0m\u001b[0;34m(\u001b[0m\u001b[0mindexer\u001b[0m\u001b[0;34m)\u001b[0m\u001b[0;34m:\u001b[0m\u001b[0;34m\u001b[0m\u001b[0;34m\u001b[0m\u001b[0m\n\u001b[1;32m   3460\u001b[0m                 \u001b[0mindexer\u001b[0m \u001b[0;34m=\u001b[0m \u001b[0;34m[\u001b[0m\u001b[0mindexer\u001b[0m\u001b[0;34m]\u001b[0m\u001b[0;34m\u001b[0m\u001b[0;34m\u001b[0m\u001b[0m\n",
      "\u001b[0;32m/usr/local/anaconda3/lib/python3.9/site-packages/pandas/core/indexes/base.py\u001b[0m in \u001b[0;36mget_loc\u001b[0;34m(self, key, method, tolerance)\u001b[0m\n\u001b[1;32m   3361\u001b[0m                 \u001b[0;32mreturn\u001b[0m \u001b[0mself\u001b[0m\u001b[0;34m.\u001b[0m\u001b[0m_engine\u001b[0m\u001b[0;34m.\u001b[0m\u001b[0mget_loc\u001b[0m\u001b[0;34m(\u001b[0m\u001b[0mcasted_key\u001b[0m\u001b[0;34m)\u001b[0m\u001b[0;34m\u001b[0m\u001b[0;34m\u001b[0m\u001b[0m\n\u001b[1;32m   3362\u001b[0m             \u001b[0;32mexcept\u001b[0m \u001b[0mKeyError\u001b[0m \u001b[0;32mas\u001b[0m \u001b[0merr\u001b[0m\u001b[0;34m:\u001b[0m\u001b[0;34m\u001b[0m\u001b[0;34m\u001b[0m\u001b[0m\n\u001b[0;32m-> 3363\u001b[0;31m                 \u001b[0;32mraise\u001b[0m \u001b[0mKeyError\u001b[0m\u001b[0;34m(\u001b[0m\u001b[0mkey\u001b[0m\u001b[0;34m)\u001b[0m \u001b[0;32mfrom\u001b[0m \u001b[0merr\u001b[0m\u001b[0;34m\u001b[0m\u001b[0;34m\u001b[0m\u001b[0m\n\u001b[0m\u001b[1;32m   3364\u001b[0m \u001b[0;34m\u001b[0m\u001b[0m\n\u001b[1;32m   3365\u001b[0m         \u001b[0;32mif\u001b[0m \u001b[0mis_scalar\u001b[0m\u001b[0;34m(\u001b[0m\u001b[0mkey\u001b[0m\u001b[0;34m)\u001b[0m \u001b[0;32mand\u001b[0m \u001b[0misna\u001b[0m\u001b[0;34m(\u001b[0m\u001b[0mkey\u001b[0m\u001b[0;34m)\u001b[0m \u001b[0;32mand\u001b[0m \u001b[0;32mnot\u001b[0m \u001b[0mself\u001b[0m\u001b[0;34m.\u001b[0m\u001b[0mhasnans\u001b[0m\u001b[0;34m:\u001b[0m\u001b[0;34m\u001b[0m\u001b[0;34m\u001b[0m\u001b[0m\n",
      "\u001b[0;31mKeyError\u001b[0m: 'discount_to_standard_rate'"
     ]
    }
   ],
   "source": [
    "products[\"discount_to_standard_rate\"].describe()"
   ]
  },
  {
   "cell_type": "code",
   "execution_count": null,
   "id": "697a1d3d",
   "metadata": {},
   "outputs": [
    {
     "data": {
      "text/html": [
       "<div>\n",
       "<style scoped>\n",
       "    .dataframe tbody tr th:only-of-type {\n",
       "        vertical-align: middle;\n",
       "    }\n",
       "\n",
       "    .dataframe tbody tr th {\n",
       "        vertical-align: top;\n",
       "    }\n",
       "\n",
       "    .dataframe thead th {\n",
       "        text-align: right;\n",
       "    }\n",
       "</style>\n",
       "<table border=\"1\" class=\"dataframe\">\n",
       "  <thead>\n",
       "    <tr style=\"text-align: right;\">\n",
       "      <th></th>\n",
       "      <th>product_name</th>\n",
       "      <th>product_price</th>\n",
       "      <th>product_price_final</th>\n",
       "      <th>product_promo_price</th>\n",
       "      <th>product_promo_price_final</th>\n",
       "      <th>discount_to_standard_rate</th>\n",
       "    </tr>\n",
       "  </thead>\n",
       "  <tbody>\n",
       "    <tr>\n",
       "      <th>0</th>\n",
       "      <td>iPhone 5 GSM antenna repair</td>\n",
       "      <td>69.989.909</td>\n",
       "      <td>6998.99</td>\n",
       "      <td>699.899</td>\n",
       "      <td>69.98</td>\n",
       "      <td>100.014147</td>\n",
       "    </tr>\n",
       "    <tr>\n",
       "      <th>1</th>\n",
       "      <td>Home button repair iPad mini</td>\n",
       "      <td>69.989.909</td>\n",
       "      <td>6998.99</td>\n",
       "      <td>699.899</td>\n",
       "      <td>69.98</td>\n",
       "      <td>100.014147</td>\n",
       "    </tr>\n",
       "    <tr>\n",
       "      <th>2</th>\n",
       "      <td>Open - Withings Blood Pressure Monitor Wireles...</td>\n",
       "      <td>92.197.644</td>\n",
       "      <td>9219.76</td>\n",
       "      <td>921.976</td>\n",
       "      <td>92.19</td>\n",
       "      <td>100.008244</td>\n",
       "    </tr>\n",
       "    <tr>\n",
       "      <th>3</th>\n",
       "      <td>Apple MacBook Pro 13 \"Core i5 Touch Bar 31GHz ...</td>\n",
       "      <td>300.559.402</td>\n",
       "      <td>30055.94</td>\n",
       "      <td>3.005.594</td>\n",
       "      <td>300.55</td>\n",
       "      <td>100.003128</td>\n",
       "    </tr>\n",
       "    <tr>\n",
       "      <th>4</th>\n",
       "      <td>Apple MacBook Pro 13 \"Core i5 Touch Bar 31GHz ...</td>\n",
       "      <td>300.559.402</td>\n",
       "      <td>30055.94</td>\n",
       "      <td>3.005.594</td>\n",
       "      <td>300.55</td>\n",
       "      <td>100.003128</td>\n",
       "    </tr>\n",
       "    <tr>\n",
       "      <th>5</th>\n",
       "      <td>Brenthaven Fusion case for MacBook Pro Retina ...</td>\n",
       "      <td>99.99</td>\n",
       "      <td>99.99</td>\n",
       "      <td>15.488</td>\n",
       "      <td>1.54</td>\n",
       "      <td>64.928571</td>\n",
       "    </tr>\n",
       "    <tr>\n",
       "      <th>6</th>\n",
       "      <td>Open - OtterBox Symmetry Case iPhone 6 / 6S Bl...</td>\n",
       "      <td>49.99</td>\n",
       "      <td>49.99</td>\n",
       "      <td>10.017</td>\n",
       "      <td>1.00</td>\n",
       "      <td>49.990000</td>\n",
       "    </tr>\n",
       "    <tr>\n",
       "      <th>7</th>\n",
       "      <td>(Open) Jawbone UP2 Activity Monitor Black</td>\n",
       "      <td>119.99</td>\n",
       "      <td>119.99</td>\n",
       "      <td>24.214</td>\n",
       "      <td>2.42</td>\n",
       "      <td>49.582645</td>\n",
       "    </tr>\n",
       "    <tr>\n",
       "      <th>8</th>\n",
       "      <td>(Open) NewerTech Cable HDMI to HDMI 1.4A 180m</td>\n",
       "      <td>17.99</td>\n",
       "      <td>17.99</td>\n",
       "      <td>3.808</td>\n",
       "      <td>0.38</td>\n",
       "      <td>47.342105</td>\n",
       "    </tr>\n",
       "    <tr>\n",
       "      <th>9</th>\n",
       "      <td>Open - NewerTech Mini DisplayPort to DVI Adapter</td>\n",
       "      <td>29.99</td>\n",
       "      <td>29.99</td>\n",
       "      <td>7.607</td>\n",
       "      <td>0.76</td>\n",
       "      <td>39.460526</td>\n",
       "    </tr>\n",
       "    <tr>\n",
       "      <th>10</th>\n",
       "      <td>Open - (OEM) EarPods Headphones with Remote an...</td>\n",
       "      <td>35</td>\n",
       "      <td>35.00</td>\n",
       "      <td>11.132</td>\n",
       "      <td>1.11</td>\n",
       "      <td>31.531532</td>\n",
       "    </tr>\n",
       "    <tr>\n",
       "      <th>11</th>\n",
       "      <td>Open - OWC Express External box 25 \"USB 3.0 Plata</td>\n",
       "      <td>36.99</td>\n",
       "      <td>36.99</td>\n",
       "      <td>13.001</td>\n",
       "      <td>1.30</td>\n",
       "      <td>28.453846</td>\n",
       "    </tr>\n",
       "    <tr>\n",
       "      <th>12</th>\n",
       "      <td>Cleaning Spray pencil-astuce 6ml</td>\n",
       "      <td>9.99</td>\n",
       "      <td>9.99</td>\n",
       "      <td>3.993</td>\n",
       "      <td>0.39</td>\n",
       "      <td>25.615385</td>\n",
       "    </tr>\n",
       "    <tr>\n",
       "      <th>13</th>\n",
       "      <td>Open - Nike Hoco Series Apple Watch Strap 38mm...</td>\n",
       "      <td>45</td>\n",
       "      <td>45.00</td>\n",
       "      <td>17.969</td>\n",
       "      <td>1.79</td>\n",
       "      <td>25.139665</td>\n",
       "    </tr>\n",
       "    <tr>\n",
       "      <th>14</th>\n",
       "      <td>LifeProof Case Waterproof iPhone 6s nüüd White</td>\n",
       "      <td>89.99</td>\n",
       "      <td>89.99</td>\n",
       "      <td>35.989</td>\n",
       "      <td>3.59</td>\n",
       "      <td>25.066852</td>\n",
       "    </tr>\n",
       "    <tr>\n",
       "      <th>15</th>\n",
       "      <td>Open - Griffin Survivor iPhone Case Wallet Cle...</td>\n",
       "      <td>29.99</td>\n",
       "      <td>29.99</td>\n",
       "      <td>12.342</td>\n",
       "      <td>1.23</td>\n",
       "      <td>24.382114</td>\n",
       "    </tr>\n",
       "    <tr>\n",
       "      <th>16</th>\n",
       "      <td>Open - Satechi Hub 3 USB ports + Ethernet Alum...</td>\n",
       "      <td>39.99</td>\n",
       "      <td>39.99</td>\n",
       "      <td>17.197</td>\n",
       "      <td>1.71</td>\n",
       "      <td>23.385965</td>\n",
       "    </tr>\n",
       "    <tr>\n",
       "      <th>17</th>\n",
       "      <td>Like new - Apple iPhone 6S 16GB Silver</td>\n",
       "      <td>749</td>\n",
       "      <td>749.00</td>\n",
       "      <td>328.999</td>\n",
       "      <td>32.89</td>\n",
       "      <td>22.772879</td>\n",
       "    </tr>\n",
       "    <tr>\n",
       "      <th>18</th>\n",
       "      <td>Like new - Apple iPhone 6 16GB Space Gray</td>\n",
       "      <td>639</td>\n",
       "      <td>639.00</td>\n",
       "      <td>290.331</td>\n",
       "      <td>29.03</td>\n",
       "      <td>22.011712</td>\n",
       "    </tr>\n",
       "    <tr>\n",
       "      <th>19</th>\n",
       "      <td>(Open) Lexar JumpDrive USB 3.0 Pendrive 128GB P20</td>\n",
       "      <td>99.99</td>\n",
       "      <td>99.99</td>\n",
       "      <td>46.246</td>\n",
       "      <td>4.62</td>\n",
       "      <td>21.642857</td>\n",
       "    </tr>\n",
       "    <tr>\n",
       "      <th>20</th>\n",
       "      <td>Open - Startech Thunderbolt Adapter 3 / USB-C ...</td>\n",
       "      <td>70.99</td>\n",
       "      <td>70.99</td>\n",
       "      <td>33.638</td>\n",
       "      <td>3.36</td>\n",
       "      <td>21.127976</td>\n",
       "    </tr>\n",
       "    <tr>\n",
       "      <th>21</th>\n",
       "      <td>Jawbone UP2 Activity Monitor Black</td>\n",
       "      <td>119.99</td>\n",
       "      <td>119.99</td>\n",
       "      <td>56.991</td>\n",
       "      <td>5.69</td>\n",
       "      <td>21.087873</td>\n",
       "    </tr>\n",
       "    <tr>\n",
       "      <th>22</th>\n",
       "      <td>Open - LifeProof nüüd Submersible iPhone Case ...</td>\n",
       "      <td>89.99</td>\n",
       "      <td>89.99</td>\n",
       "      <td>42.729</td>\n",
       "      <td>4.27</td>\n",
       "      <td>21.074941</td>\n",
       "    </tr>\n",
       "    <tr>\n",
       "      <th>23</th>\n",
       "      <td>Open - Installation Kit OWC SSD / HDD 25 \"Mac ...</td>\n",
       "      <td>44.99</td>\n",
       "      <td>44.99</td>\n",
       "      <td>21.417</td>\n",
       "      <td>2.14</td>\n",
       "      <td>21.023364</td>\n",
       "    </tr>\n",
       "    <tr>\n",
       "      <th>24</th>\n",
       "      <td>Open - Satechi Aluminum HDD Dock Mac</td>\n",
       "      <td>69.99</td>\n",
       "      <td>69.99</td>\n",
       "      <td>34.969</td>\n",
       "      <td>3.49</td>\n",
       "      <td>20.054441</td>\n",
       "    </tr>\n",
       "  </tbody>\n",
       "</table>\n",
       "</div>"
      ],
      "text/plain": [
       "                                         product_name product_price  \\\n",
       "0                         iPhone 5 GSM antenna repair    69.989.909   \n",
       "1                        Home button repair iPad mini    69.989.909   \n",
       "2   Open - Withings Blood Pressure Monitor Wireles...    92.197.644   \n",
       "3   Apple MacBook Pro 13 \"Core i5 Touch Bar 31GHz ...   300.559.402   \n",
       "4   Apple MacBook Pro 13 \"Core i5 Touch Bar 31GHz ...   300.559.402   \n",
       "5   Brenthaven Fusion case for MacBook Pro Retina ...         99.99   \n",
       "6   Open - OtterBox Symmetry Case iPhone 6 / 6S Bl...         49.99   \n",
       "7           (Open) Jawbone UP2 Activity Monitor Black        119.99   \n",
       "8       (Open) NewerTech Cable HDMI to HDMI 1.4A 180m         17.99   \n",
       "9    Open - NewerTech Mini DisplayPort to DVI Adapter         29.99   \n",
       "10  Open - (OEM) EarPods Headphones with Remote an...            35   \n",
       "11  Open - OWC Express External box 25 \"USB 3.0 Plata         36.99   \n",
       "12                   Cleaning Spray pencil-astuce 6ml          9.99   \n",
       "13  Open - Nike Hoco Series Apple Watch Strap 38mm...            45   \n",
       "14     LifeProof Case Waterproof iPhone 6s nüüd White         89.99   \n",
       "15  Open - Griffin Survivor iPhone Case Wallet Cle...         29.99   \n",
       "16  Open - Satechi Hub 3 USB ports + Ethernet Alum...         39.99   \n",
       "17             Like new - Apple iPhone 6S 16GB Silver           749   \n",
       "18          Like new - Apple iPhone 6 16GB Space Gray           639   \n",
       "19  (Open) Lexar JumpDrive USB 3.0 Pendrive 128GB P20         99.99   \n",
       "20  Open - Startech Thunderbolt Adapter 3 / USB-C ...         70.99   \n",
       "21                 Jawbone UP2 Activity Monitor Black        119.99   \n",
       "22  Open - LifeProof nüüd Submersible iPhone Case ...         89.99   \n",
       "23  Open - Installation Kit OWC SSD / HDD 25 \"Mac ...         44.99   \n",
       "24               Open - Satechi Aluminum HDD Dock Mac         69.99   \n",
       "\n",
       "    product_price_final product_promo_price  product_promo_price_final  \\\n",
       "0               6998.99             699.899                      69.98   \n",
       "1               6998.99             699.899                      69.98   \n",
       "2               9219.76             921.976                      92.19   \n",
       "3              30055.94           3.005.594                     300.55   \n",
       "4              30055.94           3.005.594                     300.55   \n",
       "5                 99.99              15.488                       1.54   \n",
       "6                 49.99              10.017                       1.00   \n",
       "7                119.99              24.214                       2.42   \n",
       "8                 17.99               3.808                       0.38   \n",
       "9                 29.99               7.607                       0.76   \n",
       "10                35.00              11.132                       1.11   \n",
       "11                36.99              13.001                       1.30   \n",
       "12                 9.99               3.993                       0.39   \n",
       "13                45.00              17.969                       1.79   \n",
       "14                89.99              35.989                       3.59   \n",
       "15                29.99              12.342                       1.23   \n",
       "16                39.99              17.197                       1.71   \n",
       "17               749.00             328.999                      32.89   \n",
       "18               639.00             290.331                      29.03   \n",
       "19                99.99              46.246                       4.62   \n",
       "20                70.99              33.638                       3.36   \n",
       "21               119.99              56.991                       5.69   \n",
       "22                89.99              42.729                       4.27   \n",
       "23                44.99              21.417                       2.14   \n",
       "24                69.99              34.969                       3.49   \n",
       "\n",
       "    discount_to_standard_rate  \n",
       "0                  100.014147  \n",
       "1                  100.014147  \n",
       "2                  100.008244  \n",
       "3                  100.003128  \n",
       "4                  100.003128  \n",
       "5                   64.928571  \n",
       "6                   49.990000  \n",
       "7                   49.582645  \n",
       "8                   47.342105  \n",
       "9                   39.460526  \n",
       "10                  31.531532  \n",
       "11                  28.453846  \n",
       "12                  25.615385  \n",
       "13                  25.139665  \n",
       "14                  25.066852  \n",
       "15                  24.382114  \n",
       "16                  23.385965  \n",
       "17                  22.772879  \n",
       "18                  22.011712  \n",
       "19                  21.642857  \n",
       "20                  21.127976  \n",
       "21                  21.087873  \n",
       "22                  21.074941  \n",
       "23                  21.023364  \n",
       "24                  20.054441  "
      ]
     },
     "execution_count": 15,
     "metadata": {},
     "output_type": "execute_result"
    }
   ],
   "source": [
    "discount_check =(\n",
    "    products.\n",
    "    query(\"discount_to_standard_rate > 20\")\n",
    "    .sort_values(\"discount_to_standard_rate\", ascending = False)\n",
    "    .reset_index()\n",
    "    \n",
    "    [[\"product_name\",\"product_price\",\"product_price_final\",\"product_promo_price\",\"product_promo_price_final\",\"discount_to_standard_rate\"]]\n",
    ")\n",
    "discount_check"
   ]
  },
  {
   "cell_type": "markdown",
   "id": "c0d1b6a8",
   "metadata": {},
   "source": [
    "## \n"
   ]
  },
  {
   "cell_type": "code",
   "execution_count": null,
   "id": "4ab9f192",
   "metadata": {},
   "outputs": [
    {
     "name": "stdout",
     "output_type": "stream",
     "text": [
      "<class 'pandas.core.frame.DataFrame'>\n",
      "Int64Index: 10579 entries, 0 to 19325\n",
      "Data columns (total 18 columns):\n",
      " #   Column                           Non-Null Count  Dtype  \n",
      "---  ------                           --------------  -----  \n",
      " 0   product_code                     10579 non-null  object \n",
      " 1   product_name                     10579 non-null  object \n",
      " 2   product_description              10572 non-null  object \n",
      " 3   product_price                    10534 non-null  string \n",
      " 4   product_promo_price              10579 non-null  object \n",
      " 5   product_in_stock                 10579 non-null  int64  \n",
      " 6   product_type                     10529 non-null  object \n",
      " 7   dots                             10534 non-null  Int64  \n",
      " 8   promo_dots                       10579 non-null  int64  \n",
      " 9   single_dot_price_1               10534 non-null  string \n",
      " 10  single_dot_price                 10534 non-null  string \n",
      " 11  regex                            10579 non-null  bool   \n",
      " 12  promo_single_dot_price           10579 non-null  object \n",
      " 13  single_dot_price_adjusted        10534 non-null  string \n",
      " 14  promo_single_dot_price_adjusted  10579 non-null  object \n",
      " 15  product_price_final              10534 non-null  float64\n",
      " 16  product_promo_price_final        10579 non-null  float64\n",
      " 17  discount_to_standard_rate        10534 non-null  float64\n",
      "dtypes: Int64(1), bool(1), float64(3), int64(2), object(7), string(4)\n",
      "memory usage: 1.5+ MB\n"
     ]
    }
   ],
   "source": [
    "products.info()"
   ]
  },
  {
   "cell_type": "code",
   "execution_count": null,
   "id": "b8776352",
   "metadata": {},
   "outputs": [],
   "source": []
  }
 ],
 "metadata": {
  "kernelspec": {
   "display_name": "Python 3 (ipykernel)",
   "language": "python",
   "name": "python3"
  },
  "language_info": {
   "codemirror_mode": {
    "name": "ipython",
    "version": 3
   },
   "file_extension": ".py",
   "mimetype": "text/x-python",
   "name": "python",
   "nbconvert_exporter": "python",
   "pygments_lexer": "ipython3",
   "version": "3.9.7"
  },
  "toc-showmarkdowntxt": false
 },
 "nbformat": 4,
 "nbformat_minor": 5
}
