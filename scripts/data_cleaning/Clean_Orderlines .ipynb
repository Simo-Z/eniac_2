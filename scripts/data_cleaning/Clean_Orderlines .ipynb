{
 "cells": [
  {
   "cell_type": "markdown",
   "id": "03efac02",
   "metadata": {},
   "source": [
    "# Clean Orderlines"
   ]
  },
  {
   "cell_type": "markdown",
   "id": "7138082b-80dd-4607-97a2-8d5d1c70d8fe",
   "metadata": {},
   "source": [
    "## Import Packages and Raw_data"
   ]
  },
  {
   "cell_type": "code",
   "execution_count": 1,
   "id": "819a34c1-9a8e-43cc-b34d-c49938ede945",
   "metadata": {},
   "outputs": [
    {
     "name": "stdout",
     "output_type": "stream",
     "text": [
      "<class 'pandas.core.frame.DataFrame'>\n",
      "RangeIndex: 293983 entries, 0 to 293982\n",
      "Data columns (total 7 columns):\n",
      " #   Column            Non-Null Count   Dtype \n",
      "---  ------            --------------   ----- \n",
      " 0   id                293983 non-null  int64 \n",
      " 1   id_order          293983 non-null  int64 \n",
      " 2   product_id        293983 non-null  int64 \n",
      " 3   product_quantity  293983 non-null  int64 \n",
      " 4   sku               293983 non-null  object\n",
      " 5   unit_price        293983 non-null  object\n",
      " 6   date              293983 non-null  object\n",
      "dtypes: int64(4), object(3)\n",
      "memory usage: 15.7+ MB\n"
     ]
    }
   ],
   "source": [
    "import pandas as pd\n",
    "import numpy as np\n",
    "import matplotlib.pyplot as plt\n",
    "\n",
    "# Global variables\n",
    "df_name = \"orderlines\" \n",
    "data_path = '../../data/raw_data/' \n",
    "\n",
    "\n",
    "init_df = pd.read_csv(f\"{data_path }{df_name}.csv\")\n",
    "\n",
    "init_df.info()\n"
   ]
  },
  {
   "cell_type": "markdown",
   "id": "988110a7-0c79-4798-96b6-02dcba2dee2d",
   "metadata": {},
   "source": [
    "## Logging"
   ]
  },
  {
   "cell_type": "code",
   "execution_count": 2,
   "id": "6620dfdd-fcd1-423d-b5ae-9aaa69c5703e",
   "metadata": {},
   "outputs": [],
   "source": [
    "from functools import wraps\n",
    "import datetime as dt\n",
    "\n",
    "def log_step(func):\n",
    "    @wraps(func)\n",
    "    def wrapper(*args, **kwargs):\n",
    "        tic = dt.datetime.now()\n",
    "        result = func(*args, **kwargs)\n",
    "        time_taken = str(dt.datetime.now() - tic)\n",
    "        print(f\"{func.__name__}:\\n shape={result.shape} took {time_taken}s\\n\")\n",
    "        return result\n",
    "\n",
    "    return wrapper"
   ]
  },
  {
   "cell_type": "markdown",
   "id": "39688f83",
   "metadata": {},
   "source": [
    "## Plot Function"
   ]
  },
  {
   "cell_type": "code",
   "execution_count": 3,
   "id": "3ad9e84d",
   "metadata": {},
   "outputs": [],
   "source": [
    "def plot_lines(\n",
    "    lines,\n",
    "    x,\n",
    "    title = \"\", \n",
    "    legend =\"\", \n",
    "    x_label=\"\", \n",
    "    y_label=\"\",\n",
    "    x_ticks =\"\",\n",
    "    width = 22,\n",
    "    height= 5\n",
    "    ):\n",
    "    ax = plt.subplots(figsize=(width, height))\n",
    "    plt.plot(x, lines[0], \"\" )\n",
    "    plt.plot(x,lines[1], \"r\")\n",
    "    plt.title(title)\n",
    "    plt.legend(legend)\n",
    "    plt.ylabel(y_label)\n",
    "    plt.xlabel(x_label)\n",
    "    plt.xticks(x_ticks, rotation=90)\n",
    "    plt.show()\n",
    "    "
   ]
  },
  {
   "cell_type": "markdown",
   "id": "94d42427-88df-45f3-bba6-9abf1d93f9ed",
   "metadata": {},
   "source": [
    "## Pipeline - Functions"
   ]
  },
  {
   "cell_type": "markdown",
   "id": "aff48f49-1a09-4483-8bf9-bd90bf3d9cc6",
   "metadata": {},
   "source": [
    "- [x]  Start\n",
    "- [x]  Remove duplicates\n",
    "- [_]  dots in price\n",
    "- [_]  other weird numbers\n",
    "- [_]  Missing values\n",
    "- [_]  Prices to Numeric"
   ]
  },
  {
   "cell_type": "markdown",
   "id": "66726894-88a8-4102-9977-a77a43c6d592",
   "metadata": {},
   "source": [
    "### Start Pipeline"
   ]
  },
  {
   "cell_type": "code",
   "execution_count": 4,
   "id": "aab6744b-d4cd-40a8-b71c-6e38fd5e272c",
   "metadata": {},
   "outputs": [],
   "source": [
    "@log_step\n",
    "def start_pipeline(df):\n",
    "    return df.copy()"
   ]
  },
  {
   "cell_type": "markdown",
   "id": "4f7a25ba-a89a-494e-9809-2311b5a8233a",
   "metadata": {},
   "source": [
    "### Rename Columns"
   ]
  },
  {
   "cell_type": "code",
   "execution_count": 5,
   "id": "7e3c8448",
   "metadata": {},
   "outputs": [
    {
     "name": "stdout",
     "output_type": "stream",
     "text": [
      "<class 'pandas.core.frame.DataFrame'>\n",
      "RangeIndex: 293983 entries, 0 to 293982\n",
      "Data columns (total 7 columns):\n",
      " #   Column            Non-Null Count   Dtype \n",
      "---  ------            --------------   ----- \n",
      " 0   id                293983 non-null  int64 \n",
      " 1   id_order          293983 non-null  int64 \n",
      " 2   product_id        293983 non-null  int64 \n",
      " 3   product_quantity  293983 non-null  int64 \n",
      " 4   sku               293983 non-null  object\n",
      " 5   unit_price        293983 non-null  object\n",
      " 6   date              293983 non-null  object\n",
      "dtypes: int64(4), object(3)\n",
      "memory usage: 15.7+ MB\n"
     ]
    }
   ],
   "source": [
    "init_df.info()"
   ]
  },
  {
   "cell_type": "code",
   "execution_count": 6,
   "id": "fc2b2767-782e-4699-8e91-72f150543877",
   "metadata": {},
   "outputs": [],
   "source": [
    "def rename_columns(df):\n",
    "    return (df\n",
    "        .rename(columns={\n",
    "            \"id\": \"o_line_id\",\n",
    "            \"id_order\":  \"order_id\",      \n",
    "            \"product_id\":\"o_line_product_id\",\n",
    "            \"product_quantity\":\"o_line_product_qty\",        \n",
    "            \"unit_price\": \"o_line_unit_price\", \n",
    "            \"date\":\"o_line_date\"\n",
    "            },\n",
    "        )\n",
    "    )"
   ]
  },
  {
   "cell_type": "markdown",
   "id": "d54d0e78-301b-4247-951e-e9dae07e59ba",
   "metadata": {},
   "source": [
    "### Remove duplicates"
   ]
  },
  {
   "cell_type": "code",
   "execution_count": 7,
   "id": "8453c0be-e46e-4dde-b8c4-449bb1c8738a",
   "metadata": {},
   "outputs": [],
   "source": [
    "@log_step\n",
    "def remove_duplicates(df):\n",
    "    return df.drop_duplicates()"
   ]
  },
  {
   "cell_type": "markdown",
   "id": "f647c2a2",
   "metadata": {},
   "source": [
    "### Adjust price"
   ]
  },
  {
   "cell_type": "code",
   "execution_count": 8,
   "id": "8aaa4a3e",
   "metadata": {},
   "outputs": [],
   "source": [
    "@log_step\n",
    "def adjust_price(df):\n",
    "    df[\"o_line_unit_price\"] = df[\"o_line_unit_price\"].str.replace(\"\\.\",\"\", regex=True)\n",
    "    df[\"o_line_unit_price\"] = pd.to_numeric(df[\"o_line_unit_price\"]) / 100\n",
    "    return df"
   ]
  },
  {
   "cell_type": "markdown",
   "id": "cfb609d4",
   "metadata": {},
   "source": [
    "### Missing Values"
   ]
  },
  {
   "cell_type": "code",
   "execution_count": 9,
   "id": "3f833e4d",
   "metadata": {},
   "outputs": [],
   "source": [
    "@log_step\n",
    "def missing_values(df):\n",
    "    return df"
   ]
  },
  {
   "cell_type": "markdown",
   "id": "c7019c19",
   "metadata": {},
   "source": [
    "### Adjust data types"
   ]
  },
  {
   "cell_type": "code",
   "execution_count": 14,
   "id": "b9cef212",
   "metadata": {},
   "outputs": [],
   "source": [
    "@log_step\n",
    "def adjust_data_types(df):\n",
    "    df[\"o_line_id\"] = df[\"o_line_id\"].astype(\"string\")\n",
    "    df[\"order_id\"] = df[\"order_id\"].astype(\"string\")\n",
    "    df[\"o_line_product_id\"] = df[\"o_line_product_id\"].astype(\"string\")\n",
    "    df[\"o_line_unit_price\"] = df[\"o_line_unit_price\"].astype(\"float\")\n",
    "    return df"
   ]
  },
  {
   "cell_type": "markdown",
   "id": "e2474140",
   "metadata": {},
   "source": [
    "### Drop Columns"
   ]
  },
  {
   "cell_type": "code",
   "execution_count": 11,
   "id": "71232642",
   "metadata": {},
   "outputs": [],
   "source": [
    "@log_step\n",
    "def drop_columns(df, columns):\n",
    "    return df.drop(columns=columns)\n"
   ]
  },
  {
   "cell_type": "markdown",
   "id": "163e5fd5",
   "metadata": {},
   "source": [
    "### End Pipeline"
   ]
  },
  {
   "cell_type": "code",
   "execution_count": 12,
   "id": "120b5445",
   "metadata": {},
   "outputs": [],
   "source": [
    "@log_step\n",
    "def end_pipeline(df):\n",
    "    df.to_csv(f\"../../data/clean_data/clean_{df_name}.csv\", index = False)\n",
    "    return df"
   ]
  },
  {
   "cell_type": "markdown",
   "id": "75b48789-4011-43c0-b453-ccd8003b2bfb",
   "metadata": {},
   "source": [
    "## Run Cleaning"
   ]
  },
  {
   "cell_type": "code",
   "execution_count": 15,
   "id": "17228ead-fc86-4dc6-8707-500ea870ef17",
   "metadata": {},
   "outputs": [
    {
     "name": "stdout",
     "output_type": "stream",
     "text": [
      "start_pipeline:\n",
      " shape=(293983, 7) took 0:00:00.011521s\n",
      "\n",
      "remove_duplicates:\n",
      " shape=(293983, 7) took 0:00:00.195958s\n",
      "\n",
      "missing_values:\n",
      " shape=(293983, 7) took 0:00:00.000006s\n",
      "\n",
      "adjust_price:\n",
      " shape=(293983, 7) took 0:00:00.450084s\n",
      "\n",
      "adjust_data_types:\n",
      " shape=(293983, 7) took 0:00:00.712468s\n",
      "\n",
      "end_pipeline:\n",
      " shape=(293983, 7) took 0:00:01.366833s\n",
      "\n"
     ]
    }
   ],
   "source": [
    "olin = (\n",
    "init_df\n",
    "    .pipe(start_pipeline)\n",
    "    .pipe(rename_columns)\n",
    "    .pipe(remove_duplicates)\n",
    "    .pipe(missing_values)  \n",
    "    .pipe(adjust_price)  \n",
    "    .pipe(adjust_data_types) \n",
    "    #.pipe(drop_columns, columns=[\"\"]) \n",
    "    .pipe(end_pipeline)\n",
    ")"
   ]
  },
  {
   "cell_type": "code",
   "execution_count": null,
   "id": "b8776352",
   "metadata": {},
   "outputs": [
    {
     "name": "stdout",
     "output_type": "stream",
     "text": [
      "<class 'pandas.core.frame.DataFrame'>\n",
      "Int64Index: 293983 entries, 0 to 293982\n",
      "Data columns (total 7 columns):\n",
      " #   Column              Non-Null Count   Dtype  \n",
      "---  ------              --------------   -----  \n",
      " 0   o_line_id           293983 non-null  string \n",
      " 1   o_line_order_id     293983 non-null  string \n",
      " 2   o_line_product_id   293983 non-null  string \n",
      " 3   o_line_product_qty  293983 non-null  int64  \n",
      " 4   product_code        293983 non-null  object \n",
      " 5   o_line_unit_price   293983 non-null  float64\n",
      " 6   o_line_date         293983 non-null  object \n",
      "dtypes: float64(1), int64(1), object(2), string(3)\n",
      "memory usage: 17.9+ MB\n"
     ]
    }
   ],
   "source": [
    "olin.info()"
   ]
  },
  {
   "cell_type": "code",
   "execution_count": null,
   "id": "31895137",
   "metadata": {},
   "outputs": [
    {
     "data": {
      "text/html": [
       "<div>\n",
       "<style scoped>\n",
       "    .dataframe tbody tr th:only-of-type {\n",
       "        vertical-align: middle;\n",
       "    }\n",
       "\n",
       "    .dataframe tbody tr th {\n",
       "        vertical-align: top;\n",
       "    }\n",
       "\n",
       "    .dataframe thead th {\n",
       "        text-align: right;\n",
       "    }\n",
       "</style>\n",
       "<table border=\"1\" class=\"dataframe\">\n",
       "  <thead>\n",
       "    <tr style=\"text-align: right;\">\n",
       "      <th></th>\n",
       "      <th>index</th>\n",
       "      <th>o_line_id</th>\n",
       "      <th>o_line_order_id</th>\n",
       "      <th>o_line_product_id</th>\n",
       "      <th>o_line_product_qty</th>\n",
       "      <th>product_code</th>\n",
       "      <th>o_line_unit_price</th>\n",
       "      <th>o_line_date</th>\n",
       "    </tr>\n",
       "  </thead>\n",
       "  <tbody>\n",
       "    <tr>\n",
       "      <th>116863</th>\n",
       "      <td>116863</td>\n",
       "      <td>1352626</td>\n",
       "      <td>400142</td>\n",
       "      <td>0</td>\n",
       "      <td>1</td>\n",
       "      <td>APP1697</td>\n",
       "      <td>49.00</td>\n",
       "      <td>2017-09-14 18:23:45</td>\n",
       "    </tr>\n",
       "    <tr>\n",
       "      <th>96242</th>\n",
       "      <td>96242</td>\n",
       "      <td>1303192</td>\n",
       "      <td>382385</td>\n",
       "      <td>0</td>\n",
       "      <td>1</td>\n",
       "      <td>PAC2119</td>\n",
       "      <td>3.299.00</td>\n",
       "      <td>2017-07-26 16:15:52</td>\n",
       "    </tr>\n",
       "    <tr>\n",
       "      <th>84619</th>\n",
       "      <td>84619</td>\n",
       "      <td>1281788</td>\n",
       "      <td>372328</td>\n",
       "      <td>0</td>\n",
       "      <td>1</td>\n",
       "      <td>BEL0264</td>\n",
       "      <td>14.99</td>\n",
       "      <td>2017-07-04 09:15:51</td>\n",
       "    </tr>\n",
       "    <tr>\n",
       "      <th>170382</th>\n",
       "      <td>170382</td>\n",
       "      <td>1451231</td>\n",
       "      <td>445222</td>\n",
       "      <td>0</td>\n",
       "      <td>1</td>\n",
       "      <td>TRA0036</td>\n",
       "      <td>172.13</td>\n",
       "      <td>2017-11-26 13:44:27</td>\n",
       "    </tr>\n",
       "    <tr>\n",
       "      <th>76031</th>\n",
       "      <td>76031</td>\n",
       "      <td>1266884</td>\n",
       "      <td>365035</td>\n",
       "      <td>0</td>\n",
       "      <td>1</td>\n",
       "      <td>TUC0279</td>\n",
       "      <td>49.99</td>\n",
       "      <td>2017-06-12 22:01:43</td>\n",
       "    </tr>\n",
       "    <tr>\n",
       "      <th>278956</th>\n",
       "      <td>278956</td>\n",
       "      <td>1626695</td>\n",
       "      <td>517233</td>\n",
       "      <td>0</td>\n",
       "      <td>1</td>\n",
       "      <td>DLL0012</td>\n",
       "      <td>215.99</td>\n",
       "      <td>2018-02-25 17:48:36</td>\n",
       "    </tr>\n",
       "    <tr>\n",
       "      <th>202022</th>\n",
       "      <td>202022</td>\n",
       "      <td>1495832</td>\n",
       "      <td>462606</td>\n",
       "      <td>0</td>\n",
       "      <td>1</td>\n",
       "      <td>APP2288</td>\n",
       "      <td>2.960.59</td>\n",
       "      <td>2017-12-14 07:12:15</td>\n",
       "    </tr>\n",
       "    <tr>\n",
       "      <th>81102</th>\n",
       "      <td>81102</td>\n",
       "      <td>1275686</td>\n",
       "      <td>369355</td>\n",
       "      <td>0</td>\n",
       "      <td>2</td>\n",
       "      <td>PHI0080</td>\n",
       "      <td>54.99</td>\n",
       "      <td>2017-06-26 22:43:38</td>\n",
       "    </tr>\n",
       "    <tr>\n",
       "      <th>35502</th>\n",
       "      <td>35502</td>\n",
       "      <td>1194726</td>\n",
       "      <td>330533</td>\n",
       "      <td>0</td>\n",
       "      <td>1</td>\n",
       "      <td>SYN0163</td>\n",
       "      <td>241.29</td>\n",
       "      <td>2017-02-28 18:39:27</td>\n",
       "    </tr>\n",
       "    <tr>\n",
       "      <th>141108</th>\n",
       "      <td>141108</td>\n",
       "      <td>1396294</td>\n",
       "      <td>421334</td>\n",
       "      <td>0</td>\n",
       "      <td>1</td>\n",
       "      <td>AP20117</td>\n",
       "      <td>26.99</td>\n",
       "      <td>2017-11-03 08:49:21</td>\n",
       "    </tr>\n",
       "  </tbody>\n",
       "</table>\n",
       "</div>"
      ],
      "text/plain": [
       "         index o_line_id o_line_order_id o_line_product_id  \\\n",
       "116863  116863   1352626          400142                 0   \n",
       "96242    96242   1303192          382385                 0   \n",
       "84619    84619   1281788          372328                 0   \n",
       "170382  170382   1451231          445222                 0   \n",
       "76031    76031   1266884          365035                 0   \n",
       "278956  278956   1626695          517233                 0   \n",
       "202022  202022   1495832          462606                 0   \n",
       "81102    81102   1275686          369355                 0   \n",
       "35502    35502   1194726          330533                 0   \n",
       "141108  141108   1396294          421334                 0   \n",
       "\n",
       "        o_line_product_qty product_code o_line_unit_price          o_line_date  \n",
       "116863                   1      APP1697             49.00  2017-09-14 18:23:45  \n",
       "96242                    1      PAC2119          3.299.00  2017-07-26 16:15:52  \n",
       "84619                    1      BEL0264             14.99  2017-07-04 09:15:51  \n",
       "170382                   1      TRA0036            172.13  2017-11-26 13:44:27  \n",
       "76031                    1      TUC0279             49.99  2017-06-12 22:01:43  \n",
       "278956                   1      DLL0012            215.99  2018-02-25 17:48:36  \n",
       "202022                   1      APP2288          2.960.59  2017-12-14 07:12:15  \n",
       "81102                    2      PHI0080             54.99  2017-06-26 22:43:38  \n",
       "35502                    1      SYN0163            241.29  2017-02-28 18:39:27  \n",
       "141108                   1      AP20117             26.99  2017-11-03 08:49:21  "
      ]
     },
     "execution_count": 24,
     "metadata": {},
     "output_type": "execute_result"
    }
   ],
   "source": [
    "sample = (\n",
    "olin.sample(10)\n",
    ")\n",
    "\n",
    "sample"
   ]
  },
  {
   "cell_type": "code",
   "execution_count": null,
   "id": "a40edac8",
   "metadata": {},
   "outputs": [
    {
     "name": "stdout",
     "output_type": "stream",
     "text": [
      "<class 'pandas.core.frame.DataFrame'>\n",
      "Int64Index: 293983 entries, 0 to 293982\n",
      "Data columns (total 7 columns):\n",
      " #   Column              Non-Null Count   Dtype  \n",
      "---  ------              --------------   -----  \n",
      " 0   o_line_id           293983 non-null  string \n",
      " 1   o_line_order_id     293983 non-null  string \n",
      " 2   o_line_product_id   293983 non-null  string \n",
      " 3   o_line_product_qty  293983 non-null  int64  \n",
      " 4   product_code        293983 non-null  object \n",
      " 5   o_line_unit_price   293983 non-null  float64\n",
      " 6   o_line_date         293983 non-null  object \n",
      "dtypes: float64(1), int64(1), object(2), string(3)\n",
      "memory usage: 17.9+ MB\n"
     ]
    }
   ],
   "source": [
    "olin.info()"
   ]
  },
  {
   "cell_type": "code",
   "execution_count": null,
   "id": "cf03966c",
   "metadata": {},
   "outputs": [
    {
     "name": "stdout",
     "output_type": "stream",
     "text": [
      "<class 'pandas.core.frame.DataFrame'>\n",
      "RangeIndex: 293983 entries, 0 to 293982\n",
      "Data columns (total 7 columns):\n",
      " #   Column            Non-Null Count   Dtype \n",
      "---  ------            --------------   ----- \n",
      " 0   id                293983 non-null  int64 \n",
      " 1   id_order          293983 non-null  int64 \n",
      " 2   product_id        293983 non-null  int64 \n",
      " 3   product_quantity  293983 non-null  int64 \n",
      " 4   sku               293983 non-null  object\n",
      " 5   unit_price        293983 non-null  object\n",
      " 6   date              293983 non-null  object\n",
      "dtypes: int64(4), object(3)\n",
      "memory usage: 15.7+ MB\n"
     ]
    }
   ],
   "source": [
    "init_df.info()"
   ]
  },
  {
   "cell_type": "code",
   "execution_count": null,
   "id": "dc9f8b3c",
   "metadata": {},
   "outputs": [],
   "source": []
  }
 ],
 "metadata": {
  "kernelspec": {
   "display_name": "Python 3 (ipykernel)",
   "language": "python",
   "name": "python3"
  },
  "language_info": {
   "codemirror_mode": {
    "name": "ipython",
    "version": 3
   },
   "file_extension": ".py",
   "mimetype": "text/x-python",
   "name": "python",
   "nbconvert_exporter": "python",
   "pygments_lexer": "ipython3",
   "version": "3.9.7"
  },
  "toc-showmarkdowntxt": false
 },
 "nbformat": 4,
 "nbformat_minor": 5
}
