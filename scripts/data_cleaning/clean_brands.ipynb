{
 "cells": [
  {
   "cell_type": "markdown",
   "id": "036e696b-4a77-4904-b082-e720272b3e07",
   "metadata": {},
   "source": [
    "# Clean Brands"
   ]
  },
  {
   "cell_type": "markdown",
   "id": "2118866a-8e6b-4926-a483-6f814e327311",
   "metadata": {},
   "source": [
    "## Import packages and File"
   ]
  },
  {
   "cell_type": "code",
   "execution_count": 1,
   "id": "b7cf09ff-887b-4fa1-bf81-378052674b15",
   "metadata": {},
   "outputs": [],
   "source": [
    "import pandas as pd\n",
    "import seaborn as sns\n",
    "\n",
    "df_name = \"brands\"\n",
    "path_name = \"../../data/raw_data/\"\n",
    "init_df = pd.read_csv(f\"{path_name}{df_name}.csv\")\n"
   ]
  },
  {
   "cell_type": "markdown",
   "id": "d767edff-edfe-4496-b26d-536111269976",
   "metadata": {},
   "source": [
    "# Log-Wrapper"
   ]
  },
  {
   "cell_type": "code",
   "execution_count": 2,
   "id": "262abcc3-6849-494d-bd8a-e6eac927f701",
   "metadata": {},
   "outputs": [],
   "source": [
    "from functools import wraps\n",
    "import datetime as dt\n",
    "\n",
    "def log_step(func):\n",
    "    @wraps(func)\n",
    "    def wrapper(*args, **kwargs):\n",
    "        tic = dt.datetime.now()\n",
    "        result = func(*args, **kwargs)\n",
    "        time_taken = str(dt.datetime.now() - tic)\n",
    "        print(f\"{func.__name__}:\\n shape={result.shape} took {time_taken}s\\n\")\n",
    "        return result\n",
    "    return wrapper"
   ]
  },
  {
   "cell_type": "markdown",
   "id": "784c1414-bbeb-44fa-aa60-cb0174b3d806",
   "metadata": {},
   "source": [
    "## Pipeline Functions"
   ]
  },
  {
   "cell_type": "markdown",
   "id": "5743b038-51cb-4d85-9b9d-52e97ee71457",
   "metadata": {},
   "source": [
    "### Pipeline Init"
   ]
  },
  {
   "cell_type": "code",
   "execution_count": 3,
   "id": "28fb7377-f2e2-4be8-9db4-c202b4cf8a53",
   "metadata": {},
   "outputs": [],
   "source": [
    "@log_step\n",
    "def start_pipeline(df):\n",
    "    return df.copy()"
   ]
  },
  {
   "cell_type": "markdown",
   "id": "fd3a69f7-131a-455a-bef2-39df2432a568",
   "metadata": {},
   "source": [
    "### Rename Columns"
   ]
  },
  {
   "cell_type": "code",
   "execution_count": 4,
   "id": "f26ad343-a9ec-4dd6-80e6-3f837110ca8f",
   "metadata": {},
   "outputs": [],
   "source": [
    "@log_step\n",
    "def rename_columns(df):\n",
    "    return (\n",
    "        df\n",
    "        .rename(columns={\n",
    "            \"short\":\"brand_short\",\n",
    "            \"long\":\"brand_long\"\n",
    "            }\n",
    "        )\n",
    "    )"
   ]
  },
  {
   "cell_type": "markdown",
   "id": "ac536d14-5dfe-4fda-a98e-8a6fdc26e6c1",
   "metadata": {},
   "source": [
    "### Set Data Types"
   ]
  },
  {
   "cell_type": "code",
   "execution_count": 5,
   "id": "37a787ab-5aaa-49a8-aa73-56aa15fcfd28",
   "metadata": {},
   "outputs": [],
   "source": [
    "@log_step\n",
    "def adjust_dtypes(df):  \n",
    "    return df"
   ]
  },
  {
   "cell_type": "markdown",
   "id": "6a348b97-3802-47e5-929d-147c16b3cdff",
   "metadata": {},
   "source": [
    "### Remove Duplicates"
   ]
  },
  {
   "cell_type": "code",
   "execution_count": 6,
   "id": "c88ec5fb-0855-4816-85ba-a26740a42972",
   "metadata": {},
   "outputs": [],
   "source": [
    "@log_step\n",
    "def remove_duplicates(df):\n",
    "    return df.drop_duplicates()"
   ]
  },
  {
   "cell_type": "code",
   "execution_count": 7,
   "id": "ff7bdf80-8108-4203-b4a5-686457a0d27b",
   "metadata": {},
   "outputs": [],
   "source": [
    "@log_step\n",
    "def drop_nan(df):\n",
    "    return df.dropna()\n"
   ]
  },
  {
   "cell_type": "code",
   "execution_count": 14,
   "id": "d9bd2189",
   "metadata": {},
   "outputs": [],
   "source": [
    "@log_step\n",
    "def end_pipeline(df):\n",
    "    df.to_csv(f\"../../data/raw_data/{df_name}\")\n",
    "    return df"
   ]
  },
  {
   "cell_type": "markdown",
   "id": "bfc136b0-de39-4c57-9eee-171d7d0b3a00",
   "metadata": {},
   "source": [
    "## Pipeline UI"
   ]
  },
  {
   "cell_type": "code",
   "execution_count": 15,
   "id": "8f41552a-4210-4b38-9348-d12901cd9597",
   "metadata": {},
   "outputs": [
    {
     "name": "stdout",
     "output_type": "stream",
     "text": [
      "start_pipeline:\n",
      " shape=(187, 2) took 0:00:00.000165s\n",
      "\n",
      "rename_columns:\n",
      " shape=(187, 2) took 0:00:00.000772s\n",
      "\n",
      "adjust_dtypes:\n",
      " shape=(187, 2) took 0:00:00.000008s\n",
      "\n",
      "remove_duplicates:\n",
      " shape=(187, 2) took 0:00:00.002286s\n",
      "\n",
      "end_pipeline:\n",
      " shape=(187, 2) took 0:00:00.005638s\n",
      "\n"
     ]
    }
   ],
   "source": [
    "brands = (\n",
    "init_df\n",
    "        .pipe(start_pipeline)\n",
    "        .pipe(rename_columns)\n",
    "        .pipe(adjust_dtypes)\n",
    "        .pipe(remove_duplicates)\n",
    "        .pipe(end_pipeline)\n",
    ")"
   ]
  },
  {
   "cell_type": "code",
   "execution_count": null,
   "id": "1338262c-2dd0-45ad-9498-3ed521ec2b7b",
   "metadata": {},
   "outputs": [],
   "source": []
  }
 ],
 "metadata": {
  "kernelspec": {
   "display_name": "Python 3 (ipykernel)",
   "language": "python",
   "name": "python3"
  },
  "language_info": {
   "codemirror_mode": {
    "name": "ipython",
    "version": 3
   },
   "file_extension": ".py",
   "mimetype": "text/x-python",
   "name": "python",
   "nbconvert_exporter": "python",
   "pygments_lexer": "ipython3",
   "version": "3.9.7"
  }
 },
 "nbformat": 4,
 "nbformat_minor": 5
}
